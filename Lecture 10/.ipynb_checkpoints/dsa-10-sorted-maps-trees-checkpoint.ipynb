{
 "cells": [
  {
   "cell_type": "markdown",
   "metadata": {
    "slideshow": {
     "slide_type": "slide"
    }
   },
   "source": [
    "<center><img src=\"img/dsa-logo.JPG\" width=\"400\"/>\n",
    "\n",
    "***\n",
    "\n",
    "<center>Lecture 10</center>\n",
    "\n",
    "***\n",
    "\n",
    "<center>Sorted Maps and Trees</center>  \n",
    "\n",
    "***\n",
    "\n",
    "<center>31 October 2023<center>\n",
    "<center>Rahman Peimankar<center>"
   ]
  },
  {
   "cell_type": "markdown",
   "metadata": {
    "slideshow": {
     "slide_type": "slide"
    }
   },
   "source": [
    "# Agenda"
   ]
  },
  {
   "cell_type": "markdown",
   "metadata": {
    "slideshow": {
     "slide_type": "-"
    }
   },
   "source": [
    "1. Sorted Maps\n",
    "2. Sorted Search Tables\n",
    "3. An implementation of a SortedTableMap class\n",
    "4. Running Time Analysis\n",
    "5. An Application of Sorted Maps\n",
    "6. Trees\n",
    "7. The Tree Abstract Data Type\n",
    "8. A Tree Abstract Base Class in Python\n",
    "9. Exercices"
   ]
  },
  {
   "cell_type": "markdown",
   "metadata": {
    "slideshow": {
     "slide_type": "slide"
    }
   },
   "source": [
    "# Recap of Last Week"
   ]
  },
  {
   "cell_type": "markdown",
   "metadata": {
    "slideshow": {
     "slide_type": "-"
    }
   },
   "source": [
    "## 1. Hash Tables"
   ]
  },
  {
   "cell_type": "markdown",
   "metadata": {
    "slideshow": {
     "slide_type": "-"
    }
   },
   "source": [
    "In general, a hash table consists of two major components, a **bucket array** and a **hash function**.\n",
    "\n",
    "<center>\n",
    "<img src=\"img/Qimage-1-lecture9.JPG\" width=\"900\"/>"
   ]
  },
  {
   "cell_type": "markdown",
   "metadata": {
    "slideshow": {
     "slide_type": "slide"
    }
   },
   "source": [
    "## 2. Hash Functions"
   ]
  },
  {
   "cell_type": "markdown",
   "metadata": {
    "slideshow": {
     "slide_type": "-"
    }
   },
   "source": [
    "<center>\n",
    "<img src=\"img/Qimage-2-lecture9.JPG\" width=\"700\"/>"
   ]
  },
  {
   "cell_type": "markdown",
   "metadata": {
    "slideshow": {
     "slide_type": "slide"
    }
   },
   "source": [
    "1. Polynomial Hash Codes\n",
    "\n",
    "<center>\n",
    "<img src=\"img/Qimage-3-lecture9.JPG\" width=\"700\"/>"
   ]
  },
  {
   "cell_type": "markdown",
   "metadata": {
    "slideshow": {
     "slide_type": "fragment"
    }
   },
   "source": [
    "* If a Hash function adds all characters in a word by their ASCII-codes, then as example these words:\n",
    "\n",
    "``stop``, ``tops``, ``pots``, ``spot``\n",
    "\n",
    "would generate the same sum-value:\n",
    "\n",
    "454 (‘s’=115, ‘t’=116, ‘o’=111, ‘p’=112)"
   ]
  },
  {
   "cell_type": "markdown",
   "metadata": {
    "slideshow": {
     "slide_type": "fragment"
    }
   },
   "source": [
    "Using the polynomial form instead would give different values for these words:\n",
    "\n",
    "\n",
    "‘s’ $\\times$ 8 + ’t’ $\\times$ 4 + ’o’ $\\times$ 2 + ’p’ = 1718, \n",
    "\n",
    "and \n",
    "\n",
    "‘t’$ \\times$ 8 + ’o’ $\\times$ 4 + ’p’ $\\times$ 2 + ’s’ = 1711, ...."
   ]
  },
  {
   "cell_type": "markdown",
   "metadata": {
    "slideshow": {
     "slide_type": "slide"
    }
   },
   "source": [
    "2. Cyclic-Shift Hash Codes"
   ]
  },
  {
   "cell_type": "markdown",
   "metadata": {
    "slideshow": {
     "slide_type": "-"
    }
   },
   "source": [
    "<center>\n",
    "<img src=\"img/Qimage-5-lecture9.JPG\" width=\"500\"/>\n",
    "\n",
    "    \n",
    "is achieved by taking the leftmost five bits and placing those on the rightmost side of the representation, resulting in:\n",
    "    \n",
    "<center>\n",
    "<img src=\"img/Qimage-6-lecture9.JPG\" width=\"500\"/>"
   ]
  },
  {
   "cell_type": "markdown",
   "metadata": {
    "slideshow": {
     "slide_type": "slide"
    }
   },
   "source": [
    "1. Compression - The Division Method\n",
    "\n",
    "<center>\n",
    "<img src=\"img/Qimage-8-lecture9.JPG\" width=\"250\"/>"
   ]
  },
  {
   "cell_type": "markdown",
   "metadata": {
    "slideshow": {
     "slide_type": "fragment"
    }
   },
   "source": [
    "2. The Multiply-Add-and-Divide (MAD) Method\n",
    "\n",
    "<center>\n",
    "<img src=\"img/Qimage-9-lecture9.JPG\" width=\"400\"/>"
   ]
  },
  {
   "cell_type": "markdown",
   "metadata": {
    "slideshow": {
     "slide_type": "slide"
    }
   },
   "source": [
    "## 3. Collision Handling"
   ]
  },
  {
   "cell_type": "markdown",
   "metadata": {
    "slideshow": {
     "slide_type": "-"
    }
   },
   "source": [
    "Two or more Key values could map to the same index (same bucket in A) –and then we have a collision."
   ]
  },
  {
   "cell_type": "markdown",
   "metadata": {
    "slideshow": {
     "slide_type": "fragment"
    }
   },
   "source": [
    "#### Separate Chaining\n",
    "\n",
    "<center>\n",
    "<img src=\"img/Qimage-10-lecture9.JPG\" width=\"600\"/>"
   ]
  },
  {
   "cell_type": "markdown",
   "metadata": {
    "slideshow": {
     "slide_type": "slide"
    }
   },
   "source": [
    "## 4. Efficiency of Hash Tables"
   ]
  },
  {
   "cell_type": "markdown",
   "metadata": {
    "slideshow": {
     "slide_type": "-"
    }
   },
   "source": [
    "<center>\n",
    "<img src=\"img/Qimage-11-lecture9.JPG\" width=\"600\"/>"
   ]
  },
  {
   "cell_type": "markdown",
   "metadata": {
    "slideshow": {
     "slide_type": "slide"
    }
   },
   "source": [
    "<center>\n",
    "    \n",
    "# 1. Sorted Maps"
   ]
  },
  {
   "cell_type": "markdown",
   "metadata": {
    "slideshow": {
     "slide_type": "-"
    }
   },
   "source": [
    "* The traditional map ADT allows a user to look up the value associated with a given key, but the search for that key is a form known as an **exact search**.\n",
    "\n",
    "\n",
    "* However, the map ADT does not provide any way to get a list of all events ordered by the time\n"
   ]
  },
  {
   "cell_type": "markdown",
   "metadata": {
    "slideshow": {
     "slide_type": "fragment"
    }
   },
   "source": [
    "\n",
    "**Can you give an example of a computer system or map data structure with Time Stamps?**"
   ]
  },
  {
   "cell_type": "markdown",
   "metadata": {
    "slideshow": {
     "slide_type": "slide"
    }
   },
   "source": [
    "We introduce an extension known as the **sorted map ADT** that includes all behaviors of the **standard map**, plus the following:"
   ]
  },
  {
   "cell_type": "markdown",
   "metadata": {
    "slideshow": {
     "slide_type": "-"
    }
   },
   "source": [
    "<center>\n",
    "<img src=\"img/Qimage-1.JPG\" width=\"900\"/>"
   ]
  },
  {
   "cell_type": "markdown",
   "metadata": {
    "slideshow": {
     "slide_type": "slide"
    }
   },
   "source": [
    "<center>\n",
    "<img src=\"img/Qimage-2.JPG\" width=\"900\"/>"
   ]
  },
  {
   "cell_type": "markdown",
   "metadata": {
    "slideshow": {
     "slide_type": "slide"
    }
   },
   "source": [
    "<center>\n",
    "    \n",
    "# 2. Sorted Search Tables"
   ]
  },
  {
   "cell_type": "markdown",
   "metadata": {
    "slideshow": {
     "slide_type": "-"
    }
   },
   "source": [
    "* We begin by exploring a simple implementation of a sorted map. \n",
    "\n",
    "* We store the map’s items in an array-based sequence A so that they are in increasing order of their keys,"
   ]
  },
  {
   "cell_type": "markdown",
   "metadata": {
    "slideshow": {
     "slide_type": "-"
    }
   },
   "source": [
    "<center>\n",
    "<img src=\"img/Qimage-3.JPG\" width=\"700\"/>\n",
    "    \n",
    "    Realization of a map by means of a sorted search table. We show only the keys for this map, so as to highlight their ordering."
   ]
  },
  {
   "cell_type": "markdown",
   "metadata": {
    "slideshow": {
     "slide_type": "fragment"
    }
   },
   "source": [
    "1. What would be the space complexity of **Sorted Search Table**?\n",
    "\n",
    "2. What would be the main advantage of this representation, and our reason for insisting that A be array-based?"
   ]
  },
  {
   "cell_type": "markdown",
   "metadata": {
    "slideshow": {
     "slide_type": "slide"
    }
   },
   "source": [
    "<center>\n",
    "    \n",
    "# 3. An implementation of a SortedTableMap class"
   ]
  },
  {
   "cell_type": "markdown",
   "metadata": {
    "slideshow": {
     "slide_type": "-"
    }
   },
   "source": [
    "1. nonpublic behaviors"
   ]
  },
  {
   "cell_type": "code",
   "execution_count": 5,
   "metadata": {
    "slideshow": {
     "slide_type": "skip"
    }
   },
   "outputs": [
    {
     "name": "stderr",
     "output_type": "stream",
     "text": [
      "<ipython-input-5-0c4825a83c5c>:1: DeprecationWarning: Using or importing the ABCs from 'collections' instead of from 'collections.abc' is deprecated since Python 3.3, and in 3.9 it will stop working\n",
      "  from collections import MutableMapping\n"
     ]
    }
   ],
   "source": [
    "from collections import MutableMapping\n",
    "\n",
    "class MapBase(MutableMapping):\n",
    "    \"\"\"Our own abstract base class that includes a nonpublic Item class.\"\"\"\n",
    "\n",
    "#------------------------------- nested Item class -------------------------------\n",
    "    class _Item:\n",
    "        \"\"\"Lightweight composite to store key-value pairs as map items.\"\"\"\n",
    "        __slots__ = '_key' , '_value'\n",
    "\n",
    "        def __init__(self, k, v):\n",
    "            self._key = k\n",
    "            self._value = v\n",
    "\n",
    "        def __eq__(self, other):\n",
    "            return self._key == other._key # compare items based on their keys\n",
    "\n",
    "        def __ne__(self, other):\n",
    "            return not (self == other) # opposite of eq\n",
    "\n",
    "        def __lt__(self, other):\n",
    "            return self._key < other._key # compare items based on their keys"
   ]
  },
  {
   "cell_type": "code",
   "execution_count": 6,
   "metadata": {
    "slideshow": {
     "slide_type": "-"
    }
   },
   "outputs": [],
   "source": [
    "class SortedTableMap(MapBase):\n",
    "    \"\"\"Map implementation using a sorted table.\"\"\"\n",
    "\n",
    "    #----------------------------- nonpublic behaviors -----------------------------\n",
    "    def _find_index(self, k, low, high):\n",
    "        \"\"\"Return index of the leftmost item with key greater than or equal to k.\n",
    "        \n",
    "        Return high + 1 if no such item qualifies.\n",
    "        \n",
    "        That is, j will be returned such that:\n",
    "            all items of slice table[low:j] have key < k\n",
    "            all items of slice table[j:high+1] have key >= k\n",
    "        \"\"\"\n",
    "        if high < low:\n",
    "            return high + 1 # no element qualifies\n",
    "        else:\n",
    "            mid = (low + high) // 2\n",
    "            if k == self._table[mid]._key:\n",
    "                return mid # found exact match\n",
    "            elif k < self._table[mid]._key:\n",
    "                return self._find_index(k, low, mid - 1) # Note: may return mid\n",
    "            else:\n",
    "                return self._find_index(k, mid + 1, high) # answer is right of mid"
   ]
  },
  {
   "cell_type": "markdown",
   "metadata": {
    "slideshow": {
     "slide_type": "slide"
    }
   },
   "source": [
    "2. public behaviors"
   ]
  },
  {
   "cell_type": "code",
   "execution_count": 7,
   "metadata": {
    "slideshow": {
     "slide_type": "-"
    }
   },
   "outputs": [],
   "source": [
    "    #----------------------------- public behaviors -----------------------------\n",
    "    def __init__(self):\n",
    "        \"\"\"Create an empty map.\"\"\"\n",
    "        self._table = [ ]\n",
    "\n",
    "    def __len__(self):\n",
    "        \"\"\"Return number of items in the map.\"\"\"\n",
    "        return len(self._table)\n",
    "\n",
    "    def __getitem__(self, k):\n",
    "        \"\"\"Return value associated with key k (raise KeyError if not found).\"\"\"\n",
    "        j = self._find_index(k, 0, len(self._table) - 1)\n",
    "        if j == len(self._table) or self._table[j]._key != k:\n",
    "            raise KeyError('Key Error:' + repr(k))\n",
    "        return self._table[j]._value\n",
    "    "
   ]
  },
  {
   "cell_type": "code",
   "execution_count": 8,
   "metadata": {
    "slideshow": {
     "slide_type": "slide"
    }
   },
   "outputs": [],
   "source": [
    "    def __setitem__(self, k, v):\n",
    "        \"\"\"Assign value v to key k, overwriting existing value if present.\"\"\"\n",
    "        j = self._find_index(k, 0, len(self._table) - 1)\n",
    "        if j < len(self._table) and self._table[j]._key == k:\n",
    "            self._table[j]._value = v # reassign value\n",
    "        else:\n",
    "            self._table.insert(j, self._Item(k,v)) # adds new item\n",
    "    \n",
    "    def __delitem__(self, k):\n",
    "        \"\"\"Remove item associated with key k (raise KeyError if not found).\"\"\"\n",
    "        j = self._find_index(k, 0, len(self._table) - 1)\n",
    "        if j == len(self._table) or self._table[j]._key != k:\n",
    "            raise KeyError('Key Error:' + repr(k))\n",
    "        self._table.pop(j) # delete item\n",
    "\n",
    "    def __iter__(self):\n",
    "        \"\"\"Generate keys of the map ordered from minimum to maximum.\"\"\"\n",
    "        for item in self._table:\n",
    "            yield item._key\n",
    "            "
   ]
  },
  {
   "cell_type": "code",
   "execution_count": 11,
   "metadata": {
    "slideshow": {
     "slide_type": "slide"
    }
   },
   "outputs": [],
   "source": [
    "    def __reversed__(self):\n",
    "        \"\"\"Generate keys of the map ordered from maximum to minimum.\"\"\"\n",
    "        for item in reversed(self._table):\n",
    "            yield item._key\n",
    "\n",
    "    def find_min(self):\n",
    "        \"\"\"Return (key,value) pair with minimum key (or None if empty).\"\"\"\n",
    "        if len(self._table) > 0:\n",
    "            return (self._table[0]._key, self._table[0]._value)\n",
    "        else:\n",
    "            return None\n",
    "\n",
    "    def find_max(self):\n",
    "        \"\"\"Return (key,value) pair with maximum key (or None if empty).\"\"\"\n",
    "        if len(self._table) > 0:\n",
    "            return (self._table[-1]._key, self._table[-1]._value)\n",
    "        else:\n",
    "            return None\n",
    "    \n",
    "    def find_ge(self, k):\n",
    "        \"\"\"Return (key,value) pair with least key greater than or equal to k.\"\"\"\n",
    "        j = self._find_index(k, 0, len(self._table) - 1) # j s key >= k\n",
    "        if j < len(self._table):\n",
    "            return (self._table[j]._key, self._table[j]._value)\n",
    "        else:\n",
    "            return None"
   ]
  },
  {
   "cell_type": "code",
   "execution_count": 12,
   "metadata": {
    "slideshow": {
     "slide_type": "slide"
    }
   },
   "outputs": [],
   "source": [
    "    def find_lt(self, k):\n",
    "        \"\"\"Return (key,value) pair with greatest key strictly less than k.\"\"\"\n",
    "        j = self._find_index(k, 0, len(self._table) - 1) # j s key >= k\n",
    "        if j > 0:\n",
    "            return (self._table[j-1]. key, self._table[j-1]._value) # Note use of j-1\n",
    "        else:\n",
    "            return None\n",
    "\n",
    "    def find_gt(self, k):\n",
    "        \"\"\"Return (key,value) pair with least key strictly greater than k.\"\"\"\n",
    "        j = self._find_index(k, 0, len(self._table) - 1) # j s key >= k\n",
    "        if j < len(self._table) and self._table[j]._key == k:\n",
    "            j += 1 # advanced past match\n",
    "        if j < len(self._table):\n",
    "            return (self._table[j]._key, self._table[j]._value)\n",
    "        else:\n",
    "            return None\n",
    "\n",
    "    def find_range(self, start, stop):\n",
    "        \"\"\"Iterate all (key,value) pairs such that start <= key < stop.\n",
    "        \n",
    "        If start is None, iteration begins with minimum key of map.\n",
    "        If stop is None, iteration continues through the maximum key of map.\n",
    "        \"\"\"\n",
    "        if start is None:\n",
    "            j = 0\n",
    "        else:\n",
    "            j = self._find_index(start, 0, len(self._table)-1) # find first result\n",
    "        while j < len(self._table) and (stop is None or self._table[j]._key < stop):\n",
    "            yield (self._table[j]._key, self._table[j]._value)\n",
    "            j += 1\n",
    "            "
   ]
  },
  {
   "cell_type": "markdown",
   "metadata": {
    "slideshow": {
     "slide_type": "slide"
    }
   },
   "source": [
    "<center>\n",
    "    \n",
    "# 4. Running Time Analysis"
   ]
  },
  {
   "cell_type": "markdown",
   "metadata": {},
   "source": [
    "<center>\n",
    "<img src=\"img/Qimage-4.JPG\" width=\"1000\"/>"
   ]
  },
  {
   "cell_type": "markdown",
   "metadata": {
    "slideshow": {
     "slide_type": "slide"
    }
   },
   "source": [
    "<center>\n",
    "    \n",
    "# 5. An Application of Sorted Maps"
   ]
  },
  {
   "cell_type": "markdown",
   "metadata": {
    "slideshow": {
     "slide_type": "-"
    }
   },
   "source": [
    "* Let's explore an application in which there is particular advantage to using a **sorted map** rather than a traditional **(unsorted) map**."
   ]
  },
  {
   "cell_type": "markdown",
   "metadata": {
    "slideshow": {
     "slide_type": "fragment"
    }
   },
   "source": [
    "### Flight Databases"
   ]
  },
  {
   "cell_type": "markdown",
   "metadata": {
    "slideshow": {
     "slide_type": "-"
    }
   },
   "source": [
    "* There are several Web sites on the Internet that allow users to perform queries on flight databases to find flights between various cities.\n",
    "\n",
    "* To make a query, a user specifies origin and destination cities, a departure date, and a departure time.\n",
    "\n",
    "* To support such queries, we can model the flight database as a map, where keys are Flight objects that contain fields corresponding to these four parameters.\n",
    "\n",
    "* And a key is a tuple:\n",
    "        k = (origin,destination,date,time)"
   ]
  },
  {
   "cell_type": "markdown",
   "metadata": {
    "slideshow": {
     "slide_type": "slide"
    }
   },
   "source": [
    "* Finding a requested flight is not simply a matter of finding an exact match for a requested query.\n",
    "* Although a user typically wants to exactly match the origin and destination cities, he or she may have flexibility for the departure date, and certainly will have some flexibility for the departure time on a specific day."
   ]
  },
  {
   "cell_type": "markdown",
   "metadata": {
    "slideshow": {
     "slide_type": "fragment"
    }
   },
   "source": [
    "* We can handle such a query by ordering our keys lexicographically.\n",
    "* Then, an efficient implementation for a sorted map would be a good way to satisfy users’ queries."
   ]
  },
  {
   "cell_type": "markdown",
   "metadata": {
    "slideshow": {
     "slide_type": "fragment"
    }
   },
   "source": [
    "1. Given a user query key k, we could call find ge(k) to return the first flight between the desired cities, having a departure date and time matching the desired query or later.\n",
    "\n",
    "2. Better yet, with well-constructed keys, we could use find range(k1, k2) to find all flights within a given range of times.\n",
    " "
   ]
  },
  {
   "cell_type": "markdown",
   "metadata": {
    "slideshow": {
     "slide_type": "slide"
    }
   },
   "source": [
    "**For example**\n",
    "\n",
    "if ``k1 = (ORD, PVD, 05May, 09:30)``, and ``k2 = (ORD, PVD, 05May, 20:00)``, a respective call to find range(k1, k2) might result in the following sequence of key-value pairs:"
   ]
  },
  {
   "cell_type": "markdown",
   "metadata": {
    "slideshow": {
     "slide_type": "-"
    }
   },
   "source": [
    "<center>\n",
    "<img src=\"img/Qimage-5.JPG\" width=\"1000\"/>"
   ]
  },
  {
   "cell_type": "markdown",
   "metadata": {
    "slideshow": {
     "slide_type": "slide"
    }
   },
   "source": [
    "<center>\n",
    "    \n",
    "# 6. Trees"
   ]
  },
  {
   "cell_type": "markdown",
   "metadata": {
    "slideshow": {
     "slide_type": "-"
    }
   },
   "source": [
    "* A **_tree_** is an abstract data type that stores elements hierarchically.\n",
    "* With the exception of the top element, each element in a tree has a **_parent_** element and zero or more **_children_** elements.\n",
    "* We typically call the top element the **_root_** of the tree."
   ]
  },
  {
   "cell_type": "markdown",
   "metadata": {
    "slideshow": {
     "slide_type": "-"
    }
   },
   "source": [
    "<center>\n",
    "<img src=\"img/Qimage-6.JPG\" width=\"600\"/>"
   ]
  },
  {
   "cell_type": "markdown",
   "metadata": {
    "slideshow": {
     "slide_type": "slide"
    }
   },
   "source": [
    "Formally, we define a **_tree T_** as a set of **_nodes_** storing elements such that the nodes\n",
    "have a **_parent-child_** relationship that satisfies the following properties:\n",
    "\n",
    "* If $T$ is nonempty, it has a special node, called the **_root_** of $T$, that has no parent.\n",
    "\n",
    "\n",
    "* Each node $v$ of $T$ different from the root has a unique **_parent_** node $w$; every node with parent $w$ is a **_child_** of $w$.\n",
    "\n",
    "A tree can be empty, meaning that it does not have any nodes."
   ]
  },
  {
   "cell_type": "markdown",
   "metadata": {
    "slideshow": {
     "slide_type": "slide"
    }
   },
   "source": [
    "### Other Node Relationships"
   ]
  },
  {
   "cell_type": "markdown",
   "metadata": {
    "slideshow": {
     "slide_type": "-"
    }
   },
   "source": [
    "* Two nodes that are children of the same parent are **_siblings_**. \n",
    "\n",
    "* A node $v$ is **_external_** if $v$ has no children. \n",
    "\n",
    "* A node $v$ is **_internal_** if it has one or more children. \n",
    "\n",
    "* External nodes are also known as **_leaves_**."
   ]
  },
  {
   "cell_type": "markdown",
   "metadata": {
    "slideshow": {
     "slide_type": "slide"
    }
   },
   "source": [
    "Inheritance hierarchy for modeling various abstractions and implementations of tree data structures.\n",
    "\n",
    "\n",
    "\n",
    "<center>\n",
    "<img src=\"img/Qimage-7.JPG\" width=\"900\"/>"
   ]
  },
  {
   "cell_type": "markdown",
   "metadata": {
    "slideshow": {
     "slide_type": "slide"
    }
   },
   "source": [
    "<center>\n",
    "    \n",
    "# 7. The Tree Abstract Data Type"
   ]
  },
  {
   "cell_type": "markdown",
   "metadata": {
    "slideshow": {
     "slide_type": "-"
    }
   },
   "source": [
    "* We define a tree ADT using the concept of a **_position_** as an abstraction for a node of a tree.\n",
    "\n",
    "\n",
    "* An element is stored at each position, and positions satisfy **_parent-child_** relationships that define the tree structure.\n",
    "\n",
    "\n",
    "* A position object for a tree supports the method:\n",
    "<center>\n",
    "<img src=\"img/Qimage-8.JPG\" width=\"1000\"/>\n"
   ]
  },
  {
   "cell_type": "markdown",
   "metadata": {
    "slideshow": {
     "slide_type": "slide"
    }
   },
   "source": [
    "The tree ADT then supports the following **_accessor_** methods, allowing a user to navigate the various positions of a tree:\n",
    "\n",
    "\n",
    "<center>\n",
    "<img src=\"img/Qimage-9.JPG\" width=\"900\"/>"
   ]
  },
  {
   "cell_type": "markdown",
   "metadata": {
    "slideshow": {
     "slide_type": "slide"
    }
   },
   "source": [
    "<center>\n",
    "    \n",
    "# 8. A Tree Abstract Base Class in Python"
   ]
  },
  {
   "cell_type": "code",
   "execution_count": 13,
   "metadata": {
    "slideshow": {
     "slide_type": "-"
    }
   },
   "outputs": [],
   "source": [
    "class Tree:\n",
    "    \"\"\"Abstract base class representing a tree structure.\"\"\"\n",
    "\n",
    "    #------------------------------- nested Position class -------------------------------\n",
    "    class Position:\n",
    "        \"\"\"An abstraction representing the location of a single element.\"\"\"\n",
    "\n",
    "        def element(self):\n",
    "            \"\"\"Return the element stored at this Position.\"\"\"\n",
    "            raise NotImplementedError('must be implemented by subclass')\n",
    "\n",
    "        def __eq__(self, other):\n",
    "            \"\"\"Return True if other Position represents the same location.\"\"\"\n",
    "            raise NotImplementedError('must be implemented by subclass')\n",
    "\n",
    "        def __ne__(self, other):\n",
    "            \"\"\"Return True if other does not represent the same location.\"\"\"\n",
    "            return not (self == other) # opposite of eq\n",
    "        "
   ]
  },
  {
   "cell_type": "code",
   "execution_count": 14,
   "metadata": {
    "slideshow": {
     "slide_type": "slide"
    }
   },
   "outputs": [],
   "source": [
    "    # ---------- abstract methods that concrete subclass must support ----------\n",
    "    def root(self):\n",
    "        \"\"\"Return Position representing the tree s root (or None if empty).\"\"\"\n",
    "        raise NotImplementedError('must be implemented by subclass')\n",
    "\n",
    "    def parent(self, p):\n",
    "        \"\"\"Return Position representing p s parent (or None if p is root).\"\"\"\n",
    "        raise NotImplementedError('must be implemented by subclass')\n",
    "\n",
    "    def num_children(self, p):\n",
    "        \"\"\"Return the number of children that Position p has.\"\"\"\n",
    "        raise NotImplementedError('must be implemented by subclass')\n",
    "\n",
    "    def children(self, p):\n",
    "        \"\"\"Generate an iteration of Positions representing p s children.\"\"\"\n",
    "        raise NotImplementedError('must be implemented by subclass')\n",
    "\n",
    "    def __len__(self):\n",
    "        \"\"\"Return the total number of elements in the tree.\"\"\"\n",
    "        raise NotImplementedError('must be implemented by subclass')"
   ]
  },
  {
   "cell_type": "code",
   "execution_count": 15,
   "metadata": {
    "slideshow": {
     "slide_type": "slide"
    }
   },
   "outputs": [],
   "source": [
    "    # ---------- concrete methods implemented in this class ----------\n",
    "    def is_root(self, p):\n",
    "        \"\"\"Return True if Position p represents the root of the tree.\"\"\"\n",
    "        return self.root() == p\n",
    "\n",
    "    def is_leaf(self, p):\n",
    "        \"\"\"Return True if Position p does not have any children.\"\"\"\n",
    "        return self.num_children(p) == 0\n",
    "\n",
    "    def is_empty(self):\n",
    "        \"\"\"Return True if the tree is empty.\"\"\"\n",
    "        return len(self) == 0"
   ]
  },
  {
   "cell_type": "markdown",
   "metadata": {
    "slideshow": {
     "slide_type": "slide"
    }
   },
   "source": [
    "### Computing Depth and Height"
   ]
  },
  {
   "cell_type": "markdown",
   "metadata": {
    "slideshow": {
     "slide_type": "-"
    }
   },
   "source": [
    "* Let $p$ be the position of a node of a tree $T$.\n",
    "* The **_depth_** of $p$ is the number of ancestors of $p$, excluding $p$ itself."
   ]
  },
  {
   "cell_type": "markdown",
   "metadata": {
    "slideshow": {
     "slide_type": "fragment"
    }
   },
   "source": [
    "1. If $p$ is the root, then the depth of $p$ is 0.\n",
    "2. Otherwise, the depth of $p$ is one plus the depth of the parent of $p$."
   ]
  },
  {
   "cell_type": "code",
   "execution_count": 16,
   "metadata": {
    "slideshow": {
     "slide_type": "fragment"
    }
   },
   "outputs": [],
   "source": [
    "def depth(self, p):\n",
    "    \"\"\"Return the number of levels separating Position p from the root.\"\"\"\n",
    "    if self.is_root(p):\n",
    "        return 0\n",
    "    else:\n",
    "        return 1 + self.depth(self.parent(p))\n",
    "    "
   ]
  },
  {
   "cell_type": "markdown",
   "metadata": {
    "slideshow": {
     "slide_type": "slide"
    }
   },
   "source": [
    "**Quiz 1 - Trees**\n",
    "\n",
    "What is depth of the node **_International_**?\n",
    "\n",
    "<center>\n",
    "<img src=\"img/Qimage-6.JPG\" width=\"500\"/>\n",
    "    \n",
    "1) 1\n",
    "    \n",
    "2) 2\n",
    "    \n",
    "3) 3\n",
    "    \n",
    "4) 5\n",
    "    \n",
    "Please answer here: https://PollEv.com/multiple_choice_polls/MYoM7k2Vsi3hlvQOPxV3H/respond"
   ]
  },
  {
   "cell_type": "markdown",
   "metadata": {
    "slideshow": {
     "slide_type": "slide"
    }
   },
   "source": [
    "The height of a position $p$ in a tree $T$ is also defined recursively:\n",
    "\n",
    "* If $p$ is a leaf, then the height of $p$ is 0.\n",
    "* Otherwise, the height of $p$ is one more than the maximum of the heights of $p$’s children.\n",
    "* The height of a nonempty tree $T$ is the height of the root of $T$."
   ]
  },
  {
   "cell_type": "code",
   "execution_count": 17,
   "metadata": {
    "slideshow": {
     "slide_type": "fragment"
    }
   },
   "outputs": [],
   "source": [
    "def _height(self, p): # time is linear in size of subtree\n",
    "    \"\"\"Return the height of the subtree rooted at Position p.\"\"\"\n",
    "    if self.is_leaf(p):\n",
    "        return 0\n",
    "    else:\n",
    "        return 1 + max(self._height(c) for c in self.children(p))\n",
    "    "
   ]
  },
  {
   "cell_type": "markdown",
   "metadata": {
    "slideshow": {
     "slide_type": "slide"
    }
   },
   "source": [
    "**Quiz 2 - Trees**\n",
    "\n",
    "What is height of the below tree?\n",
    "\n",
    "<center>\n",
    "<img src=\"img/Qimage-6.JPG\" width=\"500\"/>\n",
    "    \n",
    "1) 1\n",
    "    \n",
    "2) 4\n",
    "    \n",
    "3) 5\n",
    "    \n",
    "4) 6\n",
    "    \n",
    "Please answer here: https://PollEv.com/multiple_choice_polls/9tIoVcupcyqhKx3cKtc2R/respond"
   ]
  },
  {
   "cell_type": "markdown",
   "metadata": {
    "slideshow": {
     "slide_type": "slide"
    }
   },
   "source": [
    "<center>\n",
    "    \n",
    "# 9. Exercices"
   ]
  },
  {
   "cell_type": "markdown",
   "metadata": {
    "slideshow": {
     "slide_type": "-"
    }
   },
   "source": [
    "**Ex.1**\n",
    "\n",
    "Consider the following variant of the ``_find_index`` method in the context of the ``SortedTableMap`` class:"
   ]
  },
  {
   "cell_type": "code",
   "execution_count": 3,
   "metadata": {
    "slideshow": {
     "slide_type": "-"
    }
   },
   "outputs": [],
   "source": [
    "def _find_index(self, k, low, high):\n",
    "    if high < low:\n",
    "        return high + 1\n",
    "    else:\n",
    "        mid = (low + high) // 2\n",
    "        if self._table[mid]._key < k:\n",
    "            return self._find_index(k, mid + 1, high)\n",
    "        else:\n",
    "            return self._find_index(k, low, mid - 1)\n",
    "        "
   ]
  },
  {
   "cell_type": "markdown",
   "metadata": {
    "slideshow": {
     "slide_type": "-"
    }
   },
   "source": [
    "Does this always produce the same result as the original version? Justify your answer."
   ]
  },
  {
   "cell_type": "markdown",
   "metadata": {
    "slideshow": {
     "slide_type": "slide"
    }
   },
   "source": [
    "## Thank you!"
   ]
  }
 ],
 "metadata": {
  "celltoolbar": "Slideshow",
  "kernelspec": {
   "display_name": "Python 3 (ipykernel)",
   "language": "python",
   "name": "python3"
  },
  "language_info": {
   "codemirror_mode": {
    "name": "ipython",
    "version": 3
   },
   "file_extension": ".py",
   "mimetype": "text/x-python",
   "name": "python",
   "nbconvert_exporter": "python",
   "pygments_lexer": "ipython3",
   "version": "3.9.7"
  }
 },
 "nbformat": 4,
 "nbformat_minor": 4
}
