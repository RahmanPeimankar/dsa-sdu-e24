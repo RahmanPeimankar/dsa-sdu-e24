{
 "cells": [
  {
   "cell_type": "markdown",
   "metadata": {
    "slideshow": {
     "slide_type": "slide"
    }
   },
   "source": [
    "<center><img src=\"img/dsa-logo.JPG\" width=\"400\"/>\n",
    "\n",
    "***\n",
    "\n",
    "<center>Lecture 9</center>\n",
    "\n",
    "***\n",
    "\n",
    "<center>Hash Tables</center>  \n",
    "\n",
    "***\n",
    "\n",
    "<center>24 October 2023<center>\n",
    "<center>Rahman Peimankar<center>"
   ]
  },
  {
   "cell_type": "markdown",
   "metadata": {
    "slideshow": {
     "slide_type": "slide"
    }
   },
   "source": [
    "# Agenda"
   ]
  },
  {
   "cell_type": "markdown",
   "metadata": {
    "slideshow": {
     "slide_type": "-"
    }
   },
   "source": [
    "1. Hash Tables\n",
    "2. Hash Functions\n",
    "3. Collision Handling\n",
    "4. Python Implementation of Hash Table\n",
    "5. Efficiency of Hash Tables\n",
    "6. Exercices"
   ]
  },
  {
   "cell_type": "markdown",
   "metadata": {
    "slideshow": {
     "slide_type": "slide"
    }
   },
   "source": [
    "# Recap of Last Week"
   ]
  },
  {
   "cell_type": "markdown",
   "metadata": {
    "slideshow": {
     "slide_type": "slide"
    }
   },
   "source": [
    "## The Map ADT"
   ]
  },
  {
   "cell_type": "markdown",
   "metadata": {
    "slideshow": {
     "slide_type": "-"
    }
   },
   "source": [
    "* Python’s **dict** class is arguably the most significant data structure in the language.\n",
    "* It represents an abstraction known as a **dictionary** in which unique **keys** are mapped to associated **values**."
   ]
  },
  {
   "cell_type": "markdown",
   "metadata": {
    "slideshow": {
     "slide_type": "-"
    }
   },
   "source": [
    "The effect of a series of operations on an initially empty map storing items with integer keys and single-character values:\n",
    "\n",
    "\n",
    "<center>\n",
    "<img src=\"img/Qimage-9-lecture8.JPG\" width=\"700\"/>"
   ]
  },
  {
   "cell_type": "markdown",
   "metadata": {
    "slideshow": {
     "slide_type": "slide"
    }
   },
   "source": [
    "<center>\n",
    "<img src=\"img/Qimage-10-lecture8.JPG\" width=\"900\"/>"
   ]
  },
  {
   "cell_type": "markdown",
   "metadata": {
    "slideshow": {
     "slide_type": "slide"
    }
   },
   "source": [
    "<center>\n",
    "    \n",
    "# 1. Hash Tables"
   ]
  },
  {
   "cell_type": "markdown",
   "metadata": {
    "slideshow": {
     "slide_type": "-"
    }
   },
   "source": [
    "* We introduce one of the most practical data structures for implementing a map.\n",
    "\n",
    "* **Hash table** is used by Python’s own implementation of the **dict** class."
   ]
  },
  {
   "cell_type": "markdown",
   "metadata": {
    "slideshow": {
     "slide_type": "fragment"
    }
   },
   "source": [
    "1. Searching an entry in the previous Map-structure would, roughly, be of a complexity O(n) or better O(log(n)) – depending on the algorithm (linear or binary search).\n",
    "\n",
    "2. In fact there are even faster ways of searching – near the optimal complexity O(1), but at a cost of a more complicated algorithm and data structure"
   ]
  },
  {
   "cell_type": "markdown",
   "metadata": {
    "slideshow": {
     "slide_type": "fragment"
    }
   },
   "source": [
    "In general, a hash table consists of two major components, a **bucket array** and a **hash function**."
   ]
  },
  {
   "cell_type": "markdown",
   "metadata": {
    "slideshow": {
     "slide_type": "slide"
    }
   },
   "source": [
    "### Bucket Arrays"
   ]
  },
  {
   "cell_type": "markdown",
   "metadata": {
    "slideshow": {
     "slide_type": "-"
    }
   },
   "source": [
    "* A **bucket array** for a hash table is an array *A* of size *N*, where each cell of *A* is thought of as a ``bucket`` (that is, a collection of key-value pairs) and the integer *N* defines the capacity of the array.\n",
    "\n",
    "* If the keys are integers well distributed in the range [0,N −1], this bucket array is all that is needed."
   ]
  },
  {
   "cell_type": "markdown",
   "metadata": {
    "slideshow": {
     "slide_type": "fragment"
    }
   },
   "source": [
    "A bucket array of capacity 11 with items (1,D), (25,C), (3,F), (14,Z), (6,A), (39,C), and (7,Q), using a simple hash function.\n",
    "\n",
    "\n",
    "<center>\n",
    "<img src=\"img/Qimage-1.JPG\" width=\"900\"/>\n",
    "    Key is mapped to an index in the array"
   ]
  },
  {
   "cell_type": "markdown",
   "metadata": {
    "slideshow": {
     "slide_type": "slide"
    }
   },
   "source": [
    "<center>\n",
    "    \n",
    "# 2. Hash Functions"
   ]
  },
  {
   "cell_type": "markdown",
   "metadata": {
    "slideshow": {
     "slide_type": "-"
    }
   },
   "source": [
    "The goal of a hash function, *h*, is to map each key k to an integer in the range [0,N −1], where *N* is the capacity of the bucket array for a hash table. "
   ]
  },
  {
   "cell_type": "markdown",
   "metadata": {
    "slideshow": {
     "slide_type": "-"
    }
   },
   "source": [
    "* The mapping from **Key** to array index is called the **Hash-function**.\n",
    "* The **Key** value is mapped by the Hash-function to an index of 0 to N-1 (N is the size of the bucket-array)\n",
    "* The generic hash function: **h(k)**\n",
    "* We store the item (k,v) in the bucket **A[h(k)]**"
   ]
  },
  {
   "cell_type": "markdown",
   "metadata": {
    "slideshow": {
     "slide_type": "slide"
    }
   },
   "source": [
    "### Collision "
   ]
  },
  {
   "cell_type": "markdown",
   "metadata": {
    "slideshow": {
     "slide_type": "-"
    }
   },
   "source": [
    "* Two or more Key values could map to the same index (same bucket in A) –and then we have a collision.\n",
    "* This situation could more or less be avoided, by developing a hash function as good as possible"
   ]
  },
  {
   "cell_type": "markdown",
   "metadata": {
    "slideshow": {
     "slide_type": "slide"
    }
   },
   "source": [
    "### The two parts of a hash function"
   ]
  },
  {
   "cell_type": "markdown",
   "metadata": {
    "slideshow": {
     "slide_type": "-"
    }
   },
   "source": [
    "The evaluation of a hash function, h(k) consists of two actions:"
   ]
  },
  {
   "cell_type": "markdown",
   "metadata": {
    "slideshow": {
     "slide_type": "-"
    }
   },
   "source": [
    "1. **Hash code:** Mapping the key k to an integer\n",
    "2. **Compression function:** Mapping the hash code to an integer within the range of indices ([0,N −1]) of a bucket array"
   ]
  },
  {
   "cell_type": "markdown",
   "metadata": {
    "slideshow": {
     "slide_type": "-"
    }
   },
   "source": [
    "<center>\n",
    "<img src=\"img/Qimage-2.JPG\" width=\"700\"/>"
   ]
  },
  {
   "cell_type": "markdown",
   "metadata": {
    "slideshow": {
     "slide_type": "slide"
    }
   },
   "source": [
    "### Hash Codes"
   ]
  },
  {
   "cell_type": "markdown",
   "metadata": {
    "slideshow": {
     "slide_type": "-"
    }
   },
   "source": [
    "* The first action that a hash function performs is to take an **arbitrary key** *k* in our map and assign it an integer value.\n",
    "\n",
    "\n",
    "* The integer assigned to a key *k* is called the **hash code for** *k*.\n",
    "\n",
    "\n",
    "* This integer value need not be in the range [0,N −1], and may even be negative."
   ]
  },
  {
   "cell_type": "markdown",
   "metadata": {
    "slideshow": {
     "slide_type": "slide"
    }
   },
   "source": [
    "### Polynomial Hash Codes"
   ]
  },
  {
   "cell_type": "markdown",
   "metadata": {
    "slideshow": {
     "slide_type": "-"
    }
   },
   "source": [
    "* A better hash code takes into consideration the positions of the x<sub>i</sub>’s.\n",
    "\n",
    "\n",
    "* It chooses a nonzero constant, a ≠ 1, and uses the below expression as a hash code."
   ]
  },
  {
   "cell_type": "markdown",
   "metadata": {
    "slideshow": {
     "slide_type": "-"
    }
   },
   "source": [
    "This is simply a polynomial in $\\alpha$ that takes the components (x<sub>0</sub>, x<sub>1</sub>, . . . , x<sub>k−1</sub>) of an object $x$ as its coefficients.\n",
    "\n",
    "\n",
    "<center>\n",
    "<img src=\"img/Qimage-3.JPG\" width=\"700\"/>"
   ]
  },
  {
   "cell_type": "markdown",
   "metadata": {
    "slideshow": {
     "slide_type": "fragment"
    }
   },
   "source": [
    "By Horner’s rule, this can be rewritten as:\n",
    "\n",
    "\n",
    "<center>\n",
    "<img src=\"img/Qimage-4.JPG\" width=\"900\"/>"
   ]
  },
  {
   "cell_type": "markdown",
   "metadata": {
    "slideshow": {
     "slide_type": "fragment"
    }
   },
   "source": [
    "Intuitively, a **polynomial hash code** uses **multiplication** by different powers as a way to spread out the influence of each component across the resulting hash code."
   ]
  },
  {
   "cell_type": "markdown",
   "metadata": {
    "slideshow": {
     "slide_type": "slide"
    }
   },
   "source": [
    "* Polynomials are used for hashing strings to minimize the number of collisions.\n",
    "\n",
    "\n",
    "* We can choose a nonzero constant, a ≠ 1, and calculate as the hash code.\n",
    "\n",
    "\n",
    "* This is simply a polynomial in $a$ that takes the components as the characters of the input string of length $k$. The value of $a$ is usually a prime number."
   ]
  },
  {
   "cell_type": "markdown",
   "metadata": {
    "slideshow": {
     "slide_type": "fragment"
    }
   },
   "source": [
    "* If a Hash function adds all characters in a word by their ASCII-codes, then as example these words:\n",
    "\n",
    "``stop``, ``tops``, ``pots``, ``spot``\n",
    "\n",
    "would generate the same sum-value:\n",
    "\n",
    "454 (‘s’=115, ‘t’=116, ‘o’=111, ‘p’=112)"
   ]
  },
  {
   "cell_type": "markdown",
   "metadata": {
    "slideshow": {
     "slide_type": "slide"
    }
   },
   "source": [
    "Using the polynomial form instead would give different values for these words:\n",
    "\n",
    "\n",
    "‘s’ $\\times$ 8 + ’t’ $\\times$ 4 + ’o’ $\\times$ 2 + ’p’ = 1718, \n",
    "\n",
    "and \n",
    "\n",
    "‘t’$ \\times$ 8 + ’o’ $\\times$ 4 + ’p’ $\\times$ 2 + ’s’ = 1711, ...."
   ]
  },
  {
   "cell_type": "markdown",
   "metadata": {
    "slideshow": {
     "slide_type": "slide"
    }
   },
   "source": [
    "### Cyclic-Shift Hash Codes"
   ]
  },
  {
   "cell_type": "markdown",
   "metadata": {
    "slideshow": {
     "slide_type": "-"
    }
   },
   "source": [
    "A variant of the polynomial hash code replaces multiplication by $\\alpha$ with a cyclic shift of a partial sum by a certain number of bits. \n",
    "\n",
    "\n",
    "For example, a 5-bit cyclic shift of the 32-bit value:\n",
    "\n",
    "<center>\n",
    "<img src=\"img/Qimage-5.JPG\" width=\"500\"/>\n",
    "\n",
    "    \n",
    "is achieved by taking the leftmost five bits and placing those on the rightmost side of the representation, resulting in:\n",
    "    \n",
    "<center>\n",
    "<img src=\"img/Qimage-6.JPG\" width=\"500\"/>"
   ]
  },
  {
   "cell_type": "markdown",
   "metadata": {
    "slideshow": {
     "slide_type": "slide"
    }
   },
   "source": [
    "In Python, a cyclic shift of bits can be accomplished through careful use of the bitwise operators **<<** and **>>**"
   ]
  },
  {
   "cell_type": "code",
   "execution_count": 1,
   "metadata": {
    "slideshow": {
     "slide_type": "-"
    }
   },
   "outputs": [],
   "source": [
    "def hash_code(s):\n",
    "    mask = (1 << 32) - 1                # limit to 32-bit integers\n",
    "    print(mask)\n",
    "    h = 0\n",
    "    for character in s:\n",
    "        print('initial', h)\n",
    "        h = (h << 5 & mask) | (h >> 27) # 5-bit cyclic shift of running sum\n",
    "        h += ord(character)             # add in value of next character\n",
    "        print(h)\n",
    "    return h\n",
    "\n",
    "hash_code('rahman')\n"
   ]
  },
  {
   "cell_type": "markdown",
   "metadata": {
    "slideshow": {
     "slide_type": "slide"
    }
   },
   "source": [
    "* Comparison of collision behavior for the cyclic-shift hash code as applied to a list of 230,000 English words.\n",
    "* The **Total** column records the total number of words that collide with at least one other, and the **Max** column records the maximum number of words colliding at any one hash code.\n",
    "\n",
    "<center>\n",
    "<img src=\"img/Qimage-7.JPG\" width=\"250\"/>\n",
    "\n",
    "    \n",
    "Can you explain what does this **cyclic shift of 0** mean?\n",
    "    "
   ]
  },
  {
   "cell_type": "markdown",
   "metadata": {
    "slideshow": {
     "slide_type": "slide"
    }
   },
   "source": [
    "### Hash Table - Compression"
   ]
  },
  {
   "cell_type": "markdown",
   "metadata": {
    "slideshow": {
     "slide_type": "-"
    }
   },
   "source": [
    "* The integer value calculated by the hash function could have a broad value range.\n",
    "* This range can be much bigger than the amount of entries that have to be stored in the table.\n",
    "* To deal with that a **compression method** could be used."
   ]
  },
  {
   "cell_type": "markdown",
   "metadata": {
    "slideshow": {
     "slide_type": "slide"
    }
   },
   "source": [
    "### Compression - The Division Method"
   ]
  },
  {
   "cell_type": "markdown",
   "metadata": {
    "slideshow": {
     "slide_type": "-"
    }
   },
   "source": [
    "* A simple **compression function** to use is:\n",
    "\n",
    "<center>\n",
    "<img src=\"img/Qimage-8.JPG\" width=\"250\"/>\n",
    "\n",
    "This method is **very sensitive to the value of *N***\n",
    "    \n",
    "    \n",
    "   i.e.  *h(k)* give these different values:\n",
    "       \n",
    "    {200, 205, 210, 215, 220, ... , 600}\n",
    "\n",
    "   to a bucke tarray of size 100 = *N*\n",
    "    \n",
    "    \n",
    "   then each value collide with three others!"
   ]
  },
  {
   "cell_type": "markdown",
   "metadata": {
    "slideshow": {
     "slide_type": "slide"
    }
   },
   "source": [
    "**Quiz 1**\n",
    "\n",
    "**What would be the a good value for *N* in order to avoid collision as much as possible using the same key of {200, 205, 210, 215, 220, ... , 600} ?**\n",
    "\n",
    "Please insert your answer here: https://PollEv.com/free_text_polls/fxfBvubzNVPd76iXfbtsE/respond"
   ]
  },
  {
   "cell_type": "markdown",
   "metadata": {
    "slideshow": {
     "slide_type": "slide"
    }
   },
   "source": [
    "### The MAD Method"
   ]
  },
  {
   "cell_type": "markdown",
   "metadata": {
    "slideshow": {
     "slide_type": "-"
    }
   },
   "source": [
    "A more sophisticated compression function, which helps eliminate repeated patterns in a set of integer keys, is the **Multiply-Add-and-Divide** (or “MAD”) method.\n",
    "\n",
    "<center>\n",
    "<img src=\"img/Qimage-9.JPG\" width=\"400\"/>"
   ]
  },
  {
   "cell_type": "markdown",
   "metadata": {
    "slideshow": {
     "slide_type": "fragment"
    }
   },
   "source": [
    "* where $N$ is a prime number, and\n",
    "\n",
    "\n",
    "\n",
    "* $a$ and $b$ are non negative integers randomly chosen at the time the compression function is determined, so that $a$ mod $N ≠ 0$.\n",
    "\n",
    "\n",
    "\n",
    "* This compression function is chosen in order to eliminate repeated patterns in the set of hash codes and to get us closer to having a **good** hash function, **that is**,\n",
    "\n",
    "\n",
    "\n",
    "* one having the probability that any two different keys collide is $1/N$."
   ]
  },
  {
   "cell_type": "markdown",
   "metadata": {
    "slideshow": {
     "slide_type": "slide"
    }
   },
   "source": [
    "**Quiz 2**\n",
    "\n",
    "Using division method, in a given hash table of size 157, the key of value 172 will be placed at position ---\n",
    "\n",
    "1) 19\n",
    "\n",
    "2) 72\n",
    "\n",
    "3) 15\n",
    "\n",
    "4) 17\n",
    "\n",
    "Please answer here: https://PollEv.com/multiple_choice_polls/4yTR2XYsnCZy87SiCKbzc/respond"
   ]
  },
  {
   "cell_type": "markdown",
   "metadata": {
    "slideshow": {
     "slide_type": "slide"
    }
   },
   "source": [
    "<center>\n",
    "    \n",
    "# 3. Collision Handling"
   ]
  },
  {
   "cell_type": "markdown",
   "metadata": {
    "slideshow": {
     "slide_type": "-"
    }
   },
   "source": [
    "* The main idea of a hash table is to take a bucket array, $A$, and a hash function, $h$, and use them to implement a map by storing each entry $(k,v)$ in the “bucket” $A[h(k)]$.\n",
    "\n",
    "\n",
    "* This simple idea is challenged, however, when we have two distinct keys, $k_1$ and $k_2$, such that $h(k_1) = h(k_2)$.\n",
    "\n",
    "\n",
    "* The existence of such collisions prevents us from simply inserting a new entry $(k,v)$ directly in the bucket $A[h(k)]$.\n"
   ]
  },
  {
   "cell_type": "markdown",
   "metadata": {
    "slideshow": {
     "slide_type": "fragment"
    }
   },
   "source": [
    "Two different methods for collision handling are:\n",
    "\n",
    "    1. Separate Chaining\n",
    "    2. Open Addressing"
   ]
  },
  {
   "cell_type": "markdown",
   "metadata": {
    "slideshow": {
     "slide_type": "slide"
    }
   },
   "source": [
    "### Separate Chaining"
   ]
  },
  {
   "cell_type": "markdown",
   "metadata": {
    "slideshow": {
     "slide_type": "-"
    }
   },
   "source": [
    "* A simple and efficient way for dealing with collisions is to have each bucket $A[j]$ store its own secondary container, holding items $(k,v)$ such that $h(k) = j$.\n",
    "\n",
    "* A natural choice for the secondary container is a small map instance implemented using a list."
   ]
  },
  {
   "cell_type": "markdown",
   "metadata": {
    "slideshow": {
     "slide_type": "fragment"
    }
   },
   "source": [
    "<center>\n",
    "<img src=\"img/Qimage-10.JPG\" width=\"600\"/>\n",
    "    \n",
    "    A hash table of size 13, storing 10 items with integer keys, with collisions resolved by separate chaining. The compression function is h(k)=k mod 13. For simplicity, we do not show the values associated with the keys."
   ]
  },
  {
   "cell_type": "markdown",
   "metadata": {
    "slideshow": {
     "slide_type": "slide"
    }
   },
   "source": [
    "<center>\n",
    "    \n",
    "# 4. Python Implementation of Hash Table \n"
   ]
  },
  {
   "cell_type": "markdown",
   "metadata": {
    "slideshow": {
     "slide_type": "-"
    }
   },
   "source": [
    "A base class for our hash table implementations, extending our MapBase class"
   ]
  },
  {
   "cell_type": "code",
   "execution_count": 8,
   "metadata": {
    "slideshow": {
     "slide_type": "skip"
    }
   },
   "outputs": [
    {
     "name": "stderr",
     "output_type": "stream",
     "text": [
      "C:\\Users\\abpe\\AppData\\Local\\Temp\\1/ipykernel_32164/299398819.py:1: DeprecationWarning: Using or importing the ABCs from 'collections' instead of from 'collections.abc' is deprecated since Python 3.3, and in 3.10 it will stop working\n",
      "  from collections import MutableMapping\n"
     ]
    }
   ],
   "source": [
    "from collections import MutableMapping\n",
    "\n",
    "class MapBase(MutableMapping):\n",
    "    \"\"\"Our own abstract base class that includes a nonpublic Item class.\"\"\"\n",
    "\n",
    "#------------------------------- nested Item class -------------------------------\n",
    "    class _Item:\n",
    "        \"\"\"Lightweight composite to store key-value pairs as map items.\"\"\"\n",
    "        __slots__ = '_key' , '_value'\n",
    "\n",
    "        def __init__(self, k, v):\n",
    "            self._key = k\n",
    "            self._value = v\n",
    "\n",
    "        def __eq__(self, other):\n",
    "            return self._key == other._key # compare items based on their keys\n",
    "\n",
    "        def __ne__(self, other):\n",
    "            return not (self == other) # opposite of eq\n",
    "\n",
    "        def __lt__(self, other):\n",
    "            return self._key < other._key # compare items based on their keys"
   ]
  },
  {
   "cell_type": "code",
   "execution_count": 9,
   "metadata": {
    "slideshow": {
     "slide_type": "-"
    }
   },
   "outputs": [],
   "source": [
    "class HashMapBase(MapBase):\n",
    "    \"\"\"Abstract base class for map using hash-table with MAD compression.\"\"\"\n",
    "\n",
    "    def __init__(self, cap=11, p=109345121):\n",
    "        \"\"\"Create an empty hash-table map.\"\"\"\n",
    "        self._table = cap * [ None ]\n",
    "        self._n = 0        # number of entries in the map\n",
    "        #self._prime = p    # prime for MAD compression\n",
    "        self._scale = 1 + randrange(p-1) # scale from 1 to p-1 for MAD\n",
    "        self._shift = randrange(p)       # shift from 0 to p-1 for MAD\n",
    "\n",
    "    def _hash_function(self, k):\n",
    "        return (hash(k) * self._scale + self._shift)  % len(self._table)\n",
    "\n",
    "    def __len__(self):\n",
    "        return self._n\n",
    "\n",
    "    def __getitem__(self,k):\n",
    "        j = self._hash_function(k)\n",
    "        return self._bucket_getitem(j, k) # may raise KeyError\n"
   ]
  },
  {
   "cell_type": "code",
   "execution_count": 10,
   "metadata": {
    "slideshow": {
     "slide_type": "slide"
    }
   },
   "outputs": [],
   "source": [
    "    def __setitem__(self, k, v):\n",
    "        j = self._hash_function(k)\n",
    "        self._bucket_setitem(j, k, v)       # subroutine maintains self._n\n",
    "        if self._n > len(self._table) // 2: # keep load factor <= 0.5\n",
    "            self._resize(2 * len(self._table) - 1) # number 2ˆx - 1 is often prime\n",
    "\n",
    "    def __delitem__(self, k):\n",
    "        j = self._hash_function(k)\n",
    "        self._bucket_delitem(j, k) # may raise KeyError\n",
    "        self._n -= 1\n",
    "\n",
    "    def _resize(self, c):        # resize bucket array to capacity c\n",
    "        old = list(self.items()) # use iteration to record existing items\n",
    "        self._table = c * [None] # then reset table to desired capacity\n",
    "        self._n = 0              # n recomputed during subsequent adds\n",
    "        for (k,v) in old:\n",
    "            self[k] = v          # reinsert old key-value pair"
   ]
  },
  {
   "cell_type": "markdown",
   "metadata": {
    "slideshow": {
     "slide_type": "slide"
    }
   },
   "source": [
    "### Pythom Implementation of a Hash Table With Separate Chaining"
   ]
  },
  {
   "cell_type": "code",
   "execution_count": 11,
   "metadata": {
    "slideshow": {
     "slide_type": "skip"
    }
   },
   "outputs": [],
   "source": [
    "from collections import MutableMapping\n",
    "\n",
    "class MapBase(MutableMapping):\n",
    "    \"\"\"Our own abstract base class that includes a nonpublic Item class.\"\"\"\n",
    "\n",
    "#------------------------------- nested Item class -------------------------------\n",
    "    class _Item:\n",
    "        \"\"\"Lightweight composite to store key-value pairs as map items.\"\"\"\n",
    "        __slots__ = '_key' , '_value'\n",
    "\n",
    "        def __init__(self, k, v):\n",
    "            self._key = k\n",
    "            self._value = v\n",
    "\n",
    "        def __eq__(self, other):\n",
    "            return self._key == other._key # compare items based on their keys\n",
    "\n",
    "        def __ne__(self, other):\n",
    "            return not (self == other) # opposite of eq\n",
    "\n",
    "        def __lt__(self, other):\n",
    "            return self._key < other._key # compare items based on their keys"
   ]
  },
  {
   "cell_type": "code",
   "execution_count": 12,
   "metadata": {
    "slideshow": {
     "slide_type": "skip"
    }
   },
   "outputs": [],
   "source": [
    "class UnsortedTableMap(MapBase):\n",
    "    \"\"\"Map implementation using an unordered list.\"\"\"\n",
    "\n",
    "    def __init__(self):\n",
    "        \"\"\"Create an empty map.\"\"\"\n",
    "        self._table = [ ] # list of Item’s\n",
    "\n",
    "    def __getitem__(self, k):\n",
    "        \"\"\"Return value associated with key k (raise KeyError if not found).\"\"\"\n",
    "        for item in self._table:\n",
    "            if k == item._key:\n",
    "                return item._value\n",
    "        raise KeyError('Key Error:' + repr(k))\n",
    "\n",
    "    def __setitem__(self, k, v):\n",
    "        \"\"\"Assign value v to key k, overwriting existing value if present.\"\"\"\n",
    "        for item in self._table:\n",
    "            if k == item._key: # Found a match:\n",
    "                item._value = v # reassign value\n",
    "        return # and quit\n",
    "        # did not find match for key\n",
    "        self._table.append(self._Item(k,v))\n",
    " "
   ]
  },
  {
   "cell_type": "code",
   "execution_count": 13,
   "metadata": {
    "slideshow": {
     "slide_type": "skip"
    }
   },
   "outputs": [],
   "source": [
    "    def __delitem__(self, k):\n",
    "        \"\"\"Remove item associated with key k (raise KeyError if not found).\"\"\"\n",
    "        for j in range(len(self._table)):\n",
    "            if k == self._table[j]._key: # Found a match:\n",
    "                self._table.pop(j) # remove item\n",
    "        return # and quit\n",
    "        raise KeyError('Key Error:' + repr(k))\n",
    "\n",
    "    def __len__(self):\n",
    "        \"\"\"Return number of items in the map.\"\"\"\n",
    "        return len(self._table)\n",
    "\n",
    "    def __iter__(self):\n",
    "        \"\"\"Generate iteration of the map's keys.\"\"\"\n",
    "        for item in self._table:\n",
    "            yield item._key"
   ]
  },
  {
   "cell_type": "code",
   "execution_count": 14,
   "metadata": {
    "slideshow": {
     "slide_type": "-"
    }
   },
   "outputs": [],
   "source": [
    "class ChainHashMap(HashMapBase):\n",
    "    \"\"\"Hash map implemented with separate chaining for collision resolution.\"\"\"\n",
    "\n",
    "    def _bucket_getitem(self, j, k):\n",
    "        bucket = self._table[j]\n",
    "        if bucket is None:\n",
    "            raise KeyError('Key Error:' + repr(k)) # no match found\n",
    "        return bucket[k] # may raise KeyError\n",
    "\n",
    "    def _bucket_setitem(self, j, k, v):\n",
    "        if self._table[j] is None:\n",
    "            self._table[j] = UnsortedTableMap() # bucket is new to the table\n",
    "        oldsize = len(self._table[j])\n",
    "        self._table[j][k] = v\n",
    "        if len(self._table[j]) > oldsize: # key was new to the table\n",
    "            self._n += 1 # increase overall map size\n",
    "\n",
    "    def _bucket_delitem(self, j, k):\n",
    "        bucket = self._table[j]\n",
    "        if bucket is None:\n",
    "            raise KeyError('Key Error:' + repr(k)) # no match found\n",
    "        del bucket[k] # may raise KeyError\n",
    "\n",
    "    def __iter__(self):\n",
    "        for bucket in self._table:\n",
    "            if bucket is not None: # a nonempty slot\n",
    "                for key in bucket:\n",
    "                    yield key\n",
    "                    "
   ]
  },
  {
   "cell_type": "markdown",
   "metadata": {
    "slideshow": {
     "slide_type": "slide"
    }
   },
   "source": [
    "<center>\n",
    "    \n",
    "# 5. Efficiency of Hash Tables"
   ]
  },
  {
   "cell_type": "markdown",
   "metadata": {
    "slideshow": {
     "slide_type": "-"
    }
   },
   "source": [
    "<center>\n",
    "<img src=\"img/Qimage-11.JPG\" width=\"600\"/>"
   ]
  },
  {
   "cell_type": "markdown",
   "metadata": {
    "slideshow": {
     "slide_type": "slide"
    }
   },
   "source": [
    "<center>\n",
    "    \n",
    "# 6. Exercices"
   ]
  },
  {
   "cell_type": "markdown",
   "metadata": {
    "slideshow": {
     "slide_type": "-"
    }
   },
   "source": [
    "**Ex.1**\n",
    "\n",
    "What would be a good hash code for a vehicle identification number that is a string of numbers and letters of the form “9X9XX99X9XX999999”, where a “9” represents a digit and an “X” represents a letter?\n",
    "\n",
    "\n",
    "**Ex.2**\n",
    "\n",
    "Draw the 11-entry hash table that results from using the hash function, h(i) = (3i+5) mod 11, to hash the keys 12, 44, 13, 88, 23, 94, 11, 39, 20, 16, and 5, assuming collisions are handled by chaining.\n",
    "\n",
    "\n",
    "**Ex.3**\n",
    "\n",
    "What is the worst-case time for putting n entries in an initially empty hash table, with collisions resolved by chaining? What is the best case? Please explain."
   ]
  },
  {
   "cell_type": "markdown",
   "metadata": {
    "slideshow": {
     "slide_type": "slide"
    }
   },
   "source": [
    "### Thank you!"
   ]
  }
 ],
 "metadata": {
  "celltoolbar": "Slideshow",
  "kernelspec": {
   "display_name": "Python 3 (ipykernel)",
   "language": "python",
   "name": "python3"
  },
  "language_info": {
   "codemirror_mode": {
    "name": "ipython",
    "version": 3
   },
   "file_extension": ".py",
   "mimetype": "text/x-python",
   "name": "python",
   "nbconvert_exporter": "python",
   "pygments_lexer": "ipython3",
   "version": "3.9.7"
  }
 },
 "nbformat": 4,
 "nbformat_minor": 4
}
