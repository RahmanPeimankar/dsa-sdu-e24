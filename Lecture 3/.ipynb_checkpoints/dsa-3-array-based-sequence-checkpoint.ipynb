{
 "cells": [
  {
   "cell_type": "markdown",
   "metadata": {
    "slideshow": {
     "slide_type": "slide"
    }
   },
   "source": [
    "<center><img src=\"img/dsa-logo.JPG\" width=\"400\"/>\n",
    "\n",
    "***\n",
    "\n",
    "<center>Lecture 4</center>\n",
    "\n",
    "***\n",
    "\n",
    "<center>Array Based Sequences</center>  \n",
    "\n",
    "***\n",
    "\n",
    "<center>26 September 2023<center>\n",
    "<center>Rahman Peimankar<center>"
   ]
  },
  {
   "cell_type": "markdown",
   "metadata": {
    "slideshow": {
     "slide_type": "slide"
    }
   },
   "source": [
    "# Agenda"
   ]
  },
  {
   "cell_type": "markdown",
   "metadata": {
    "slideshow": {
     "slide_type": "-"
    }
   },
   "source": [
    "1. Low-Level Arrays\n",
    "2. Dynamic Arrays\n",
    "3. Efficiency of Python’s Sequence Types\n",
    "4. Array-Based Sequences\n",
    "5. Exercices"
   ]
  },
  {
   "cell_type": "markdown",
   "metadata": {
    "slideshow": {
     "slide_type": "slide"
    }
   },
   "source": [
    "# Recap of Last Week"
   ]
  },
  {
   "cell_type": "markdown",
   "metadata": {
    "slideshow": {
     "slide_type": "-"
    }
   },
   "source": [
    "## 1. Big-O Notation"
   ]
  },
  {
   "cell_type": "markdown",
   "metadata": {
    "slideshow": {
     "slide_type": "-"
    }
   },
   "source": [
    "<center>\n",
    "<img src=\"img/Qimage-1-lecture3.JPG\" width=\"1100\"/>"
   ]
  },
  {
   "cell_type": "markdown",
   "metadata": {
    "slideshow": {
     "slide_type": "fragment"
    }
   },
   "source": [
    "**Ideally**\n",
    "\n",
    "1. We would like data structure operations to run in times proportional to the *constant* or *logarithm* function.\n",
    "2. we would like our algorithms to run in *linear* or *n-log-n* time."
   ]
  },
  {
   "cell_type": "markdown",
   "metadata": {
    "slideshow": {
     "slide_type": "slide"
    }
   },
   "source": [
    "### Worst vs Best Case Complexity\n",
    "\n",
    "* Usually, when someone asks you about the complexity of the algorithm he is asking you about the worst case complexity."
   ]
  },
  {
   "cell_type": "code",
   "execution_count": 2,
   "metadata": {
    "slideshow": {
     "slide_type": "fragment"
    }
   },
   "outputs": [
    {
     "name": "stdout",
     "output_type": "stream",
     "text": [
      "True\n"
     ]
    }
   ],
   "source": [
    "def search_algo(num, items):\n",
    "    for item in items:\n",
    "        if item == num:\n",
    "            return True\n",
    "        else:\n",
    "            return False\n",
    "nums = [2, 4, 6, 8, 10]\n",
    "\n",
    "print(search_algo(2, nums))"
   ]
  },
  {
   "cell_type": "markdown",
   "metadata": {
    "slideshow": {
     "slide_type": "slide"
    }
   },
   "source": [
    "### Space Complexity\n",
    "\n",
    "* In addition to the time complexity, where you count the number of steps required to complete the execution of an algorithm, you can also find space complexity.\n",
    "* It refers to the number of spaces you need to allocate in the memory space during the execution of a program."
   ]
  },
  {
   "cell_type": "code",
   "execution_count": null,
   "metadata": {
    "slideshow": {
     "slide_type": "fragment"
    }
   },
   "outputs": [],
   "source": [
    "def return_squares(n):\n",
    "    square_list = []\n",
    "    for num in n:\n",
    "        square_list.append(num * num)\n",
    "\n",
    "    return square_list\n",
    "\n",
    "nums = [2, 4, 6, 8, 10]\n",
    "print(return_squares(nums))"
   ]
  },
  {
   "cell_type": "markdown",
   "metadata": {
    "slideshow": {
     "slide_type": "slide"
    }
   },
   "source": [
    "## 2. Recursion"
   ]
  },
  {
   "cell_type": "markdown",
   "metadata": {
    "slideshow": {
     "slide_type": "-"
    }
   },
   "source": [
    "The Factorial Function:\n",
    "\n",
    "<center>\n",
    "<img src=\"img/Qimage-4-lecture3.JPG\" width=\"600\"/>"
   ]
  },
  {
   "cell_type": "code",
   "execution_count": 24,
   "metadata": {
    "slideshow": {
     "slide_type": "fragment"
    }
   },
   "outputs": [
    {
     "data": {
      "text/plain": [
       "24"
      ]
     },
     "execution_count": 24,
     "metadata": {},
     "output_type": "execute_result"
    }
   ],
   "source": [
    "def factorial(n):\n",
    "    if n == 0:\n",
    "        return 1\n",
    "    else:\n",
    "        return n * factorial(n-1)\n",
    "    \n",
    "factorial(4)\n"
   ]
  },
  {
   "cell_type": "markdown",
   "metadata": {
    "slideshow": {
     "slide_type": "slide"
    }
   },
   "source": [
    "<center>\n",
    "<img src=\"img/Qimage-6-lecture3.JPG\" width=\"900\"/>"
   ]
  },
  {
   "cell_type": "markdown",
   "metadata": {
    "slideshow": {
     "slide_type": "-"
    }
   },
   "source": [
    "https://pythontutor.com/"
   ]
  },
  {
   "cell_type": "markdown",
   "metadata": {
    "slideshow": {
     "slide_type": "slide"
    }
   },
   "source": [
    "<center>\n",
    "    \n",
    "# 1. Low-Level Arrays"
   ]
  },
  {
   "cell_type": "markdown",
   "metadata": {
    "slideshow": {
     "slide_type": "-"
    }
   },
   "source": [
    "* Here, we explore Python’s various **_sequence_** classes, namely the built-in **_list_**, **_tuple_**, and **_str_** classes.\n",
    "    1. Each of these classes supports indexing to access an individual element of a sequence, using a syntax such as ``seq[k]``\n",
    "    2. Each uses a low-level concept known as an **_array_** to represent the sequence.\n",
    "    3. However, there are significant differences in the abstractions that these classes represent."
   ]
  },
  {
   "cell_type": "markdown",
   "metadata": {
    "slideshow": {
     "slide_type": "fragment"
    }
   },
   "source": [
    "We learn both the public behavior and inner workings of these classes, because\n",
    "\n",
    "* these classes are used so widely in Python programs.\n",
    "* they will become building blocks upon which we will develop more complex data structures."
   ]
  },
  {
   "cell_type": "markdown",
   "metadata": {
    "slideshow": {
     "slide_type": "slide"
    }
   },
   "source": [
    "### Memory address"
   ]
  },
  {
   "cell_type": "markdown",
   "metadata": {
    "slideshow": {
     "slide_type": "-"
    }
   },
   "source": [
    "* The primary memory of a computer is composed of bits of information.\n",
    "* These bits are typically grouped into larger units called **_bytes_**. (1 byte = 8 bits)"
   ]
  },
  {
   "cell_type": "markdown",
   "metadata": {
    "slideshow": {
     "slide_type": "fragment"
    }
   },
   "source": [
    "<center>\n",
    "<img src=\"img/Qimage-1.JPG\" width=\"900\"/>"
   ]
  },
  {
   "cell_type": "markdown",
   "metadata": {
    "slideshow": {
     "slide_type": "fragment"
    }
   },
   "source": [
    "* In general, a programming language keeps track of the association between an identifier and the memory address in which the associated value is stored.\n",
    "* A group of related variables can be stored one after another in a contiguous portion of the computer’s memory.\n",
    "* We will denote such a representation as an **_array_**."
   ]
  },
  {
   "cell_type": "markdown",
   "metadata": {
    "slideshow": {
     "slide_type": "slide"
    }
   },
   "source": [
    "* In Python, each character is represented using the Unicode character set.\n",
    "* on most computing systems, Python internally represents each Unicode character with 16 bits (i.e., 2 bytes).\n"
   ]
  },
  {
   "cell_type": "markdown",
   "metadata": {
    "slideshow": {
     "slide_type": "-"
    }
   },
   "source": [
    "<center>\n",
    "<img src=\"img/Qimage-2.JPG\" width=\"1000\"/>"
   ]
  },
  {
   "cell_type": "markdown",
   "metadata": {
    "slideshow": {
     "slide_type": "slide"
    }
   },
   "source": [
    "### Referential Arrays"
   ]
  },
  {
   "cell_type": "markdown",
   "metadata": {
    "slideshow": {
     "slide_type": "-"
    }
   },
   "source": [
    "A list of names: \n",
    "\n",
    "<!-- <center>\n",
    "<img src=\"img/Qimage-3.JPG\" width=\"900\"/> -->"
   ]
  },
  {
   "cell_type": "code",
   "execution_count": 5,
   "metadata": {
    "slideshow": {
     "slide_type": "fragment"
    }
   },
   "outputs": [
    {
     "data": {
      "text/plain": [
       "['Rene', 'Joseph', 'Janet', 'Jonas', 'Helen', 'Virginia']"
      ]
     },
     "execution_count": 5,
     "metadata": {},
     "output_type": "execute_result"
    }
   ],
   "source": [
    "lst = ['Rene', 'Joseph', 'Janet', 'Jonas', 'Helen', 'Virginia']\n",
    "lst"
   ]
  },
  {
   "cell_type": "markdown",
   "metadata": {
    "slideshow": {
     "slide_type": "fragment"
    }
   },
   "source": [
    "* To represent such a list with an array, Python must adhere to the requirement that each cell of the array use the same number of bytes.\n",
    "* Strings naturally have different lengths!\n",
    "\n",
    "Python could attempt to reserve enough space for each cell to hold the maximum length string, **but that would be wasteful.**"
   ]
  },
  {
   "cell_type": "markdown",
   "metadata": {
    "slideshow": {
     "slide_type": "fragment"
    }
   },
   "source": [
    "**Can you guess how Python store a list of elements?**"
   ]
  },
  {
   "cell_type": "markdown",
   "metadata": {
    "slideshow": {
     "slide_type": "fragment"
    }
   },
   "source": [
    "Python represents a list instance using an internal storage mechanism of an array of object **_references_**."
   ]
  },
  {
   "cell_type": "markdown",
   "metadata": {
    "slideshow": {
     "slide_type": "slide"
    }
   },
   "source": [
    "<center>\n",
    "<img src=\"img/Qimage-5.JPG\" width=\"600\"/>"
   ]
  },
  {
   "cell_type": "markdown",
   "metadata": {
    "slideshow": {
     "slide_type": "-"
    }
   },
   "source": [
    "* A single list instance may include multiple references to the same object as elements of the list.\n",
    "* It is possible for a single object to be an element of two or more lists."
   ]
  },
  {
   "cell_type": "markdown",
   "metadata": {
    "slideshow": {
     "slide_type": "fragment"
    }
   },
   "source": [
    "``temp = primes[3:6]``\n",
    "\n",
    "<center>\n",
    "<img src=\"img/Qimage-6.JPG\" width=\"600\"/>"
   ]
  },
  {
   "cell_type": "markdown",
   "metadata": {
    "slideshow": {
     "slide_type": "slide"
    }
   },
   "source": [
    "``temp[2] = 15``\n",
    "\n",
    "<center>\n",
    "<img src=\"img/Qimage-7.JPG\" width=\"600\"/>"
   ]
  },
  {
   "cell_type": "markdown",
   "metadata": {
    "slideshow": {
     "slide_type": "fragment"
    }
   },
   "source": [
    "* This does not change the existing integer object.\n",
    "* It changes the reference in cell 2 of the ``temp`` list to reference a different object."
   ]
  },
  {
   "cell_type": "markdown",
   "metadata": {
    "slideshow": {
     "slide_type": "slide"
    }
   },
   "source": [
    "``data = [0] * 8``\n",
    "\n",
    "``data[2] += 1``\n",
    "\n",
    "<center>\n",
    "<img src=\"img/Qimage-8.JPG\" width=\"600\"/>"
   ]
  },
  {
   "cell_type": "markdown",
   "metadata": {
    "slideshow": {
     "slide_type": "slide"
    }
   },
   "source": [
    "``primes.extend(extras)``\n",
    "\n",
    "<center>\n",
    "<img src=\"img/Qimage-9.JPG\" width=\"700\"/>"
   ]
  },
  {
   "cell_type": "markdown",
   "metadata": {
    "slideshow": {
     "slide_type": "fragment"
    }
   },
   "source": [
    "* The extended list does not receive copies of those elements, it receives references to those elements"
   ]
  },
  {
   "cell_type": "markdown",
   "metadata": {
    "slideshow": {
     "slide_type": "slide"
    }
   },
   "source": [
    "<center>\n",
    "    \n",
    "# 2. Dynamic Arrays\n"
   ]
  },
  {
   "cell_type": "markdown",
   "metadata": {
    "slideshow": {
     "slide_type": "-"
    }
   },
   "source": [
    "<center>\n",
    "<img src=\"img/Qimage-4.JPG\" width=\"900\"/>"
   ]
  },
  {
   "cell_type": "markdown",
   "metadata": {
    "slideshow": {
     "slide_type": "fragment"
    }
   },
   "source": [
    "* The capacity of an array cannot trivially be increased by expanding into subsequent cells. **Why?**\n",
    "\n",
    "1. A Python tuple or str instance do not have this constraint.\n",
    "2. Instances of those classes are immutable."
   ]
  },
  {
   "cell_type": "markdown",
   "metadata": {
    "slideshow": {
     "slide_type": "fragment"
    }
   },
   "source": [
    "**Important**: Although a list has a particular length when constructed, the class allows us to add elements to the list, with no apparent limit on the overall capacity of the list.\n",
    "\n",
    "* To provide this abstraction, Python relies on **_dynamic array_**"
   ]
  },
  {
   "cell_type": "code",
   "execution_count": 4,
   "metadata": {
    "slideshow": {
     "slide_type": "slide"
    }
   },
   "outputs": [
    {
     "name": "stdout",
     "output_type": "stream",
     "text": [
      "Length:   0; Size in bytes:   56\n",
      "Length:   1; Size in bytes:   88\n",
      "Length:   2; Size in bytes:   88\n",
      "Length:   3; Size in bytes:   88\n",
      "Length:   4; Size in bytes:   88\n",
      "Length:   5; Size in bytes:  120\n",
      "Length:   6; Size in bytes:  120\n",
      "Length:   7; Size in bytes:  120\n",
      "Length:   8; Size in bytes:  120\n",
      "Length:   9; Size in bytes:  184\n"
     ]
    }
   ],
   "source": [
    "import sys                  # provides getsizeof function\n",
    "data = []\n",
    "for k in range(10):         # NOTE: must fix choice of n\n",
    "    a = len(data)           # number of elements\n",
    "    b = sys.getsizeof(data) # actual size in bytes\n",
    "    print('Length: {0:3d}; Size in bytes: {1:4d}'.format(a, b))\n",
    "    data.append(None)       # increase length by one\n",
    "    "
   ]
  },
  {
   "cell_type": "markdown",
   "metadata": {
    "slideshow": {
     "slide_type": "fragment"
    }
   },
   "source": [
    "* We see that an empty list instance already requires a certain number of bytes of memory (56 on our system).\n",
    "* Each object in Python maintains some state, for example, a reference to denote the class to which it belongs."
   ]
  },
  {
   "cell_type": "markdown",
   "metadata": {
    "slideshow": {
     "slide_type": "fragment"
    }
   },
   "source": [
    "* As soon as the first element is inserted into the list, we detect a change in the underlying size of the structure (**jump from 56 to 88, i.e. 32 bytes**)."
   ]
  },
  {
   "cell_type": "markdown",
   "metadata": {
    "slideshow": {
     "slide_type": "fragment"
    }
   },
   "source": [
    "* This code was run on a 64-bit machine, meaning that each memory address is a 64-bit number (i.e., 8 bytes).\n",
    "* This means that the increase of 32 bytes reflects the allocation of an underlying array capable of storing four object references."
   ]
  },
  {
   "cell_type": "markdown",
   "metadata": {
    "slideshow": {
     "slide_type": "slide"
    }
   },
   "source": [
    "* If an element is appended to a list at a time when the underlying array is full, we perform the following steps:\n",
    "\n",
    "    1. Allocate a new array B with larger capacity.\n",
    "    2. Set ``B[i] = A[i], for i = 0, . . . ,n−1``, where *n* denotes current number of items.\n",
    "    3. Set ``A = B``, that is, we henceforth use *B* as the array supporting the list.\n",
    "    4. Insert the new element in the new array."
   ]
  },
  {
   "cell_type": "markdown",
   "metadata": {
    "slideshow": {
     "slide_type": "slide"
    }
   },
   "source": [
    "<center>\n",
    "<img src=\"img/Qimage-10.JPG\" width=\"800\"/>"
   ]
  },
  {
   "cell_type": "markdown",
   "metadata": {
    "slideshow": {
     "slide_type": "fragment"
    }
   },
   "source": [
    "(a) create new array B \n",
    "\n",
    "(b) store elements of A in B\n",
    "\n",
    "(c) reassign reference A to the new array."
   ]
  },
  {
   "cell_type": "markdown",
   "metadata": {
    "slideshow": {
     "slide_type": "slide"
    }
   },
   "source": [
    "<center>\n",
    "    \n",
    "# 3. Efficiency of Python’s Sequence Types"
   ]
  },
  {
   "cell_type": "markdown",
   "metadata": {
    "slideshow": {
     "slide_type": "slide"
    }
   },
   "source": [
    "### Python’s List and Tuple Classes"
   ]
  },
  {
   "cell_type": "markdown",
   "metadata": {
    "slideshow": {
     "slide_type": "-"
    }
   },
   "source": [
    "* Tuples are typically more memory efficient than lists because they are immutable.\n",
    "\n",
    "**Because**, there is no need for an underlying dynamic array with surplus capacity."
   ]
  },
  {
   "cell_type": "markdown",
   "metadata": {
    "slideshow": {
     "slide_type": "fragment"
    }
   },
   "source": [
    "Efficiency of the **_nonmutating_** behaviors of the ``list`` and ``tuple`` classes:\n",
    "\n",
    "<img src=\"img/Qimage-11.JPG\" width=\"700\"/>\n",
    "\n",
    "    \n",
    "* *n*, *n1*, and *n2* are the respective lengths of *data*, *data1*, and *data2*.\n",
    "* *k* represents the index of the leftmost occurrence (with *k = n* if there is no occurrence)."
   ]
  },
  {
   "cell_type": "markdown",
   "metadata": {
    "slideshow": {
     "slide_type": "slide"
    }
   },
   "source": [
    "Efficiency of the **_nonmutating_** behaviors of the ``list`` and ``tuple`` classes:\n",
    "\n",
    "<img src=\"img/Qimage-12.JPG\" width=\"700\"/>\n"
   ]
  },
  {
   "cell_type": "markdown",
   "metadata": {
    "slideshow": {
     "slide_type": "slide"
    }
   },
   "source": [
    "### Adding Elements to a List"
   ]
  },
  {
   "cell_type": "code",
   "execution_count": 7,
   "metadata": {
    "slideshow": {
     "slide_type": "-"
    }
   },
   "outputs": [],
   "source": [
    "def insert(self, k, value):\n",
    "    \"\"\"Insert value at index k, shifting subsequent values rightward.\"\"\"\n",
    "    # (for simplicity, we assume 0 <= k <= n in this verion)\n",
    "    if self._n == self._capacity:         # not enough room\n",
    "        self._resize(2 * self._capacity)  # so double capacity\n",
    "    for j in range(self._n, k, -1):       # shift rightmost first\n",
    "        self._A[j] = self._A[j-1]\n",
    "    self._A[k] = value                    # store newest element\n",
    "    self._n += 1\n",
    "    "
   ]
  },
  {
   "cell_type": "markdown",
   "metadata": {
    "slideshow": {
     "slide_type": "fragment"
    }
   },
   "source": [
    "* The addition of one element may require a resizing of the dynamic array.\n",
    "* The other expense for insert is the shifting of elements to make room for the new item.\n",
    "\n",
    "**Note:** The time for that process depends upon the index of the new element, and thus the number of other elements that must be shifted."
   ]
  },
  {
   "cell_type": "markdown",
   "metadata": {
    "slideshow": {
     "slide_type": "fragment"
    }
   },
   "source": [
    "Overall this leads to an ``O(n−k+1)`` performance for inserting at index *k*.\n",
    "<center>\n",
    "<img src=\"img/Qimage-13.JPG\" width=\"700\"/>"
   ]
  },
  {
   "cell_type": "markdown",
   "metadata": {
    "slideshow": {
     "slide_type": "slide"
    }
   },
   "source": [
    "Average running time of insert(k, val), measured in microseconds, as observed over a sequence of N calls, starting with an empty list. \n",
    "\n",
    "**NOTE:** You may get different results on your machine if you repeat the same experiment!\n",
    "\n",
    "<center>\n",
    "<img src=\"img/Qimage-14.JPG\" width=\"700\"/>"
   ]
  },
  {
   "cell_type": "markdown",
   "metadata": {
    "slideshow": {
     "slide_type": "slide"
    }
   },
   "source": [
    "### Removing Elements from a List"
   ]
  },
  {
   "cell_type": "markdown",
   "metadata": {
    "slideshow": {
     "slide_type": "-"
    }
   },
   "source": [
    "Python’s list class offers several ways to remove an element from a list.\n",
    "* call to ``pop()`` removes the last element from a list.\n",
    "* The parameterized version, ``pop(k)``, removes the element that is at index *k < n* of a list, shifting all subsequent elements leftward to fill the gap that results from the removal.\n",
    "\n",
    "<center>\n",
    "<img src=\"img/Qimage-15.JPG\" width=\"700\"/>"
   ]
  },
  {
   "cell_type": "markdown",
   "metadata": {
    "slideshow": {
     "slide_type": "slide"
    }
   },
   "source": [
    "* The ``list`` class offers another method, named **_remove_**, that allows the caller to specify the **_value_** that should be removed (*not the index* at which it resides).\n",
    "* Formally, it removes only the first occurrence of such a value from a list, or raises a ``ValueError`` if no such value is found."
   ]
  },
  {
   "cell_type": "code",
   "execution_count": 57,
   "metadata": {
    "slideshow": {
     "slide_type": "-"
    }
   },
   "outputs": [],
   "source": [
    "def remove(self, value):\n",
    "    \"\"\"Remove first occurrence of value (or raise ValueError).\"\"\"\n",
    "    # note: we do not consider shrinking the dynamic array in this version\n",
    "    for k in range(self._n):\n",
    "        if self._A[k] == value:              # found a match!\n",
    "            for j in range(k, self. n - 1):  # shift others to fill gap\n",
    "                self._A[j] = self. A[j+1]\n",
    "            self._A[self. n - 1] = None      # help garbage collection\n",
    "            self._n -= 1                     # we have one less item\n",
    "            return                           # exit immediately\n",
    "        raise ValueError('value not found')  # only reached if no match"
   ]
  },
  {
   "cell_type": "markdown",
   "metadata": {
    "slideshow": {
     "slide_type": "slide"
    }
   },
   "source": [
    "### Extending a List"
   ]
  },
  {
   "cell_type": "markdown",
   "metadata": {
    "slideshow": {
     "slide_type": "-"
    }
   },
   "source": [
    "Python provides a method named ``extend`` that is used to add all elements of one list to the end of a second list."
   ]
  },
  {
   "cell_type": "code",
   "execution_count": null,
   "metadata": {
    "slideshow": {
     "slide_type": "-"
    }
   },
   "outputs": [],
   "source": [
    "for element in other:\n",
    "    data.append(element)\n",
    "    \n",
    "# create a list\n",
    "prime_numbers = [2, 3, 5]\n",
    "# create another list\n",
    "numbers = [1, 4]\n",
    "# add all elements of prime_numbers to numbers\n",
    "numbers.extend(prime_numbers)\n",
    "\n",
    "print('List after extend():', numbers)"
   ]
  },
  {
   "cell_type": "markdown",
   "metadata": {
    "slideshow": {
     "slide_type": "fragment"
    }
   },
   "source": [
    "The efficiency of extend is threefold:\n",
    "1. There is always some advantage to using an appropriate Python method, because those methods are often implemented natively in a compiled language\n",
    "2. There is less overhead to a single function call that accomplishes all the work, versus many individual function calls.\n",
    "3. Increased efficiency of extend comes from the fact that the resulting size of the updated list can be calculated in advance."
   ]
  },
  {
   "cell_type": "markdown",
   "metadata": {
    "slideshow": {
     "slide_type": "slide"
    }
   },
   "source": [
    "### Constructing New Lists"
   ]
  },
  {
   "cell_type": "markdown",
   "metadata": {
    "slideshow": {
     "slide_type": "-"
    }
   },
   "source": [
    "* There are several syntaxes for constructing new lists. \n",
    "* In almost all cases, the efficiency of the behavior is linear in the length of the list that is created.\n",
    "* However, there are significant differences in the practical efficiency."
   ]
  },
  {
   "cell_type": "code",
   "execution_count": 5,
   "metadata": {
    "slideshow": {
     "slide_type": "fragment"
    }
   },
   "outputs": [
    {
     "name": "stdout",
     "output_type": "stream",
     "text": [
      "0.0008680820465087891\n"
     ]
    }
   ],
   "source": [
    "import time\n",
    "start = time.time()\n",
    "n = 10000\n",
    "squares_comp = [k*k for k in range(1, n+1)]\n",
    "end = time.time()\n",
    "print(end-start)\n",
    "# squares_comp\n"
   ]
  },
  {
   "cell_type": "code",
   "execution_count": 1,
   "metadata": {
    "scrolled": true,
    "slideshow": {
     "slide_type": "fragment"
    }
   },
   "outputs": [
    {
     "name": "stdout",
     "output_type": "stream",
     "text": [
      "[4, 3, 2]\n"
     ]
    }
   ],
   "source": [
    "import time\n",
    "start = time.time()\n",
    "squares_app = []\n",
    "for k in range(1, 10000+1):\n",
    "    squares_app.append(k*k)\n",
    "    end = time.time()\n",
    "print(end-start)\n",
    "# squares_app\n"
   ]
  },
  {
   "cell_type": "markdown",
   "metadata": {
    "slideshow": {
     "slide_type": "fragment"
    }
   },
   "source": [
    "Experiments should show that the list comprehension syntax is significantly faster than building the list by repeatedly appending"
   ]
  },
  {
   "cell_type": "markdown",
   "metadata": {
    "slideshow": {
     "slide_type": "fragment"
    }
   },
   "source": [
    "Please study **_Python’s String Class_** from Chapter 5 of the text book!"
   ]
  },
  {
   "cell_type": "markdown",
   "metadata": {
    "slideshow": {
     "slide_type": "slide"
    }
   },
   "source": [
    "**Quiz 1**\n",
    "\n",
    "What will be the output of the following code snippet?\n",
    "\n",
    "``a=[1,2,3,4,5]``\n",
    "\n",
    "``print(a[3:0:-1])``\n",
    "\n",
    "1) Syntax error\n",
    "\n",
    "2) [4, 3, 2]\n",
    "\n",
    "3) [4, 3]\n",
    "\n",
    "4) [4, 3, 2, 1]\n",
    "\n",
    "Please answer here: https://PollEv.com/multiple_choice_polls/svPCPIeByRHYQBncUeEX6/respond"
   ]
  },
  {
   "cell_type": "markdown",
   "metadata": {
    "slideshow": {
     "slide_type": "slide"
    }
   },
   "source": [
    "<center>\n",
    "    \n",
    "# 4. Array-Based Sequences"
   ]
  },
  {
   "cell_type": "markdown",
   "metadata": {
    "slideshow": {
     "slide_type": "slide"
    }
   },
   "source": [
    "### Storing High Scores for a Game"
   ]
  },
  {
   "cell_type": "markdown",
   "metadata": {
    "slideshow": {
     "slide_type": "-"
    }
   },
   "source": [
    "* The first application we study is storing a sequence of high score entries for a video game.\n",
    "* This is representative of many applications in which a sequence of objects must be stored."
   ]
  },
  {
   "cell_type": "code",
   "execution_count": 2,
   "metadata": {
    "slideshow": {
     "slide_type": "fragment"
    }
   },
   "outputs": [
    {
     "name": "stdout",
     "output_type": "stream",
     "text": [
      "(rahman, 10)\n"
     ]
    }
   ],
   "source": [
    "class GameEntry:\n",
    "    \"\"\"Represents one entry of a list of high scores.\"\"\"\n",
    "\n",
    "    def __init__(self, name, score):\n",
    "        self._name = name\n",
    "        self._score = score\n",
    "\n",
    "    def get_name(self):\n",
    "        return self._name\n",
    "\n",
    "    def get_score(self):\n",
    "        return self._score\n",
    "\n",
    "    def __str__(self):\n",
    "        return '({0}, {1})'.format(self._name, self._score) # e.g., (Bob, 98)\n",
    "    \n",
    "ent1=GameEntry('rahman', 10)\n",
    "print(ent1)"
   ]
  },
  {
   "cell_type": "markdown",
   "metadata": {
    "slideshow": {
     "slide_type": "slide"
    }
   },
   "source": [
    "* To maintain a sequence of high scores, we develop a class named ``Scoreboard``.\n",
    "* A scoreboard is limited to a certain number of high scores that can be saved.\n",
    "* Once that limit is reached, a new score only qualifies for the scoreboard if it is strictly higher than the lowest *high score* on the board."
   ]
  },
  {
   "cell_type": "markdown",
   "metadata": {
    "slideshow": {
     "slide_type": "fragment"
    }
   },
   "source": [
    "* The length of the desired scoreboard may depend on the game, perhaps 10, 50, or 500.\n",
    "* We allow the length to be specified as a parameter to our ``Scoreboard`` constructor."
   ]
  },
  {
   "cell_type": "markdown",
   "metadata": {
    "slideshow": {
     "slide_type": "fragment"
    }
   },
   "source": [
    "<center>\n",
    "<img src=\"img/Qimage-16.JPG\" width=\"900\"/>"
   ]
  },
  {
   "cell_type": "code",
   "execution_count": 82,
   "metadata": {
    "slideshow": {
     "slide_type": "slide"
    }
   },
   "outputs": [],
   "source": [
    "class Scoreboard:\n",
    "    \"\"\"Fixed-length sequence of high scores in nondecreasing order.\"\"\"\n",
    "\n",
    "    def __init__(self, capacity=10):\n",
    "        \"\"\"Initialize scoreboard with given maximum capacity.\n",
    "           All entries are initially None.\n",
    "        \"\"\"\n",
    "        self._board = [None] * capacity # reserve space for future scores\n",
    "        self._n = 0                     # number of actual entries\n",
    "\n",
    "    def __getitem__(self, k):\n",
    "        \"\"\"Return entry at index k.\"\"\"\n",
    "        return self._board[k]\n",
    "\n",
    "    def __str__(self):\n",
    "        \"\"\"Return string representation of the high score list.\"\"\"\n",
    "        return '\\n' .join(str(self._board[j]) for j in range(self._n))\n",
    "\n",
    "    def add(self, entry):\n",
    "        \"\"\"Consider adding entry to high scores.\"\"\"\n",
    "        score = entry.get_score()\n",
    "\n",
    "        # Does new entry qualify as a high score?\n",
    "        # answer is yes if board not full or score is higher than last entry\n",
    "        good = self._n < len(self._board) or score > self._board[-1].get_score()\n",
    "\n",
    "        if good:\n",
    "            if self._n < len(self._board): # no score drops from list\n",
    "                self._n += 1               # so overall number increases\n",
    "            \n",
    "        # shift lower scores rightward to make room for new entry\n",
    "        j = self._n - 1\n",
    "        while j > 0 and self._board[j-1].get_score() < score:\n",
    "            self._board[j] = self._board[j-1] # shift entry from j-1 to j\n",
    "            j -= 1                            # and decrement j\n",
    "        self._board[j] = entry                # when done, add new entry\n",
    "        \n",
    "board = Scoreboard()\n",
    "board.add(ent1)\n",
    "        "
   ]
  },
  {
   "cell_type": "markdown",
   "metadata": {
    "slideshow": {
     "slide_type": "slide"
    }
   },
   "source": [
    "### Sorting a Sequence"
   ]
  },
  {
   "cell_type": "markdown",
   "metadata": {
    "slideshow": {
     "slide_type": "-"
    }
   },
   "source": [
    "We solve the sorting problem, that is, starting with an unordered sequence of elements and rearranging them into nondecreasing order."
   ]
  },
  {
   "cell_type": "markdown",
   "metadata": {
    "slideshow": {
     "slide_type": "fragment"
    }
   },
   "source": [
    "### The Insertion-Sort Algorithm"
   ]
  },
  {
   "cell_type": "markdown",
   "metadata": {
    "slideshow": {
     "slide_type": "-"
    }
   },
   "source": [
    "<center>\n",
    "<img src=\"img/Qimage-17.JPG\" width=\"900\"/>"
   ]
  },
  {
   "cell_type": "code",
   "execution_count": 21,
   "metadata": {
    "slideshow": {
     "slide_type": "slide"
    }
   },
   "outputs": [],
   "source": [
    "def insertion_sort(A):\n",
    "    \"\"\"Sort list of comparable elements into nondecreasing order.\"\"\"\n",
    "    for k in range(1, len(A)):        # from 1 to n-1\n",
    "        cur = A[k]                    # current element to be inserted\n",
    "        j = k                         # find correct index j for current\n",
    "        while j > 0 and A[j-1] > cur: # element A[j-1] must be after current\n",
    "            A[j] = A[j-1]\n",
    "            j -= 1\n",
    "        A[j] = cur                    # cur is now in the right place\n",
    "        "
   ]
  },
  {
   "cell_type": "markdown",
   "metadata": {
    "slideshow": {
     "slide_type": "slide"
    }
   },
   "source": [
    "<center>\n",
    "<img src=\"img/Qimage-18.JPG\" width=\"900\"/>"
   ]
  },
  {
   "cell_type": "markdown",
   "metadata": {
    "slideshow": {
     "slide_type": "slide"
    }
   },
   "source": [
    "<center>\n",
    "    \n",
    "# 5. Exercices"
   ]
  },
  {
   "cell_type": "markdown",
   "metadata": {
    "slideshow": {
     "slide_type": "-"
    }
   },
   "source": [
    "**Ex1.**\n",
    "\n",
    "Implement a pop method for the ``DynamicArray`` class, that removes the last element of the array, and that shrinks the capacity, *N*, of the array by half any time the number of elements in the\n",
    "array goes below *N/4*."
   ]
  },
  {
   "cell_type": "code",
   "execution_count": null,
   "metadata": {},
   "outputs": [],
   "source": [
    "import ctypes # provides low-level arrays\n",
    "\n",
    "class DynamicArray:\n",
    "    \"\"\"A dynamic array class akin to a simplified Python list.\"\"\"\n",
    "\n",
    "    def __init__(self):\n",
    "        \"\"\"Create an empty array.\"\"\"\n",
    "        self._n = 0 # count actual elements\n",
    "        self._capacity = 1 # default array capacity\n",
    "        self._A = self._make_array(self._capacity) # low-level array\n",
    "\n",
    "    def __len__(self):\n",
    "        \"\"\"Return number of elements stored in the array.\"\"\"\n",
    "        return self._n\n",
    "\n",
    "    def __getitem__(self, k):\n",
    "        \"\"\"Return element at index k.\"\"\"\n",
    "        if not 0 <= k < self. n:\n",
    "            raise IndexError('invalid index')\n",
    "        return self._A[k] # retrieve from array\n",
    "\n",
    "    def append(self, obj):\n",
    "        \"\"\"Add object to end of the array.\"\"\"\n",
    "        if self._n == self._capacity: # not enough room\n",
    "            self._resize(2 * self._capacity) # so double capacity\n",
    "        self._A[self._n] = obj\n",
    "        self._n += 1\n",
    "\n",
    "    def _resize(self, c): # nonpublic utitity\n",
    "        \"\"\"Resize internal array to capacity c.\"\"\"\n",
    "        B = self._make_array(c) # new (bigger) array\n",
    "        for k in range(self._n): # for each existing value\n",
    "            B[k] = self._A[k]\n",
    "        self._A = B # use the bigger array\n",
    "        self._capacity = c\n",
    "\n",
    "    def _make_array(self, c): # nonpublic utitity\n",
    "        \"\"\"Return new array with capacity c.\"\"\"\n",
    "        return (c * ctypes.py_object)() # see ctypes documentation"
   ]
  }
 ],
 "metadata": {
  "celltoolbar": "Slideshow",
  "kernelspec": {
   "display_name": "Python 3 (ipykernel)",
   "language": "python",
   "name": "python3"
  },
  "language_info": {
   "codemirror_mode": {
    "name": "ipython",
    "version": 3
   },
   "file_extension": ".py",
   "mimetype": "text/x-python",
   "name": "python",
   "nbconvert_exporter": "python",
   "pygments_lexer": "ipython3",
   "version": "3.9.7"
  }
 },
 "nbformat": 4,
 "nbformat_minor": 4
}
