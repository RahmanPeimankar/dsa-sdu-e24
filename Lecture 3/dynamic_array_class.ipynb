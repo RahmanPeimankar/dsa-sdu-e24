{
 "cells": [
  {
   "cell_type": "code",
   "execution_count": null,
   "id": "73dc9964",
   "metadata": {},
   "outputs": [],
   "source": [
    "import ctypes # provides low-level arrays\n",
    "\n",
    "class DynamicArray:\n",
    "    \"\"\"A dynamic array class akin to a simplified Python list.\"\"\"\n",
    "\n",
    "    def __init__(self):\n",
    "        \"\"\"Create an empty array.\"\"\"\n",
    "        self._n = 0 # count actual elements\n",
    "        self._capacity = 1 # default array capacity\n",
    "        self._A = self._make_array(self._capacity) # low-level array\n",
    "\n",
    "    def __len__(self):\n",
    "        \"\"\"Return number of elements stored in the array.\"\"\"\n",
    "        return self._n\n",
    "\n",
    "    def __getitem__(self, k):\n",
    "        \"\"\"Return element at index k.\"\"\"\n",
    "        if not 0 <= k < self. n:\n",
    "            raise IndexError('invalid index')\n",
    "        return self._A[k] # retrieve from array\n",
    "\n",
    "    def append(self, obj):\n",
    "        \"\"\"Add object to end of the array.\"\"\"\n",
    "        if self._n == self._capacity: # not enough room\n",
    "            self._resize(2 * self._capacity) # so double capacity\n",
    "        self._A[self._n] = obj\n",
    "        self._n += 1\n",
    "\n",
    "    def _resize(self, c): # nonpublic utitity\n",
    "        \"\"\"Resize internal array to capacity c.\"\"\"\n",
    "        B = self._make_array(c) # new (bigger) array\n",
    "        for k in range(self._n): # for each existing value\n",
    "            B[k] = self._A[k]\n",
    "        self._A = B # use the bigger array\n",
    "        self._capacity = c\n",
    "        \n",
    "        def insert(self, k, value):\n",
    "        \"\"\"Insert value at index k, shifting subsequent values rightward.\"\"\"\n",
    "            # (for simplicity, we assume 0 <= k <= n in this verion)\n",
    "            if self._n == self._capacity:         # not enough room\n",
    "                self._resize(2 * self._capacity)  # so double capacity\n",
    "            for j in range(self._n, k, -1):       # shift rightmost first\n",
    "                self._A[j] = self._A[j-1]\n",
    "            self._A[k] = value                    # store newest element\n",
    "            self._n += 1\n",
    "\n",
    "    def _make_array(self, c): # nonpublic utitity\n",
    "        \"\"\"Return new array with capacity c.\"\"\"\n",
    "        return (c * ctypes.py_object)() # see ctypes documentation"
   ]
  }
 ],
 "metadata": {
  "kernelspec": {
   "display_name": "Python 3 (ipykernel)",
   "language": "python",
   "name": "python3"
  },
  "language_info": {
   "codemirror_mode": {
    "name": "ipython",
    "version": 3
   },
   "file_extension": ".py",
   "mimetype": "text/x-python",
   "name": "python",
   "nbconvert_exporter": "python",
   "pygments_lexer": "ipython3",
   "version": "3.9.7"
  }
 },
 "nbformat": 4,
 "nbformat_minor": 5
}
