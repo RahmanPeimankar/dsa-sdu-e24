{
 "cells": [
  {
   "cell_type": "markdown",
   "metadata": {
    "slideshow": {
     "slide_type": "slide"
    }
   },
   "source": [
    "<center><img src=\"img/dsa-logo.JPG\" width=\"400\"/>\n",
    "\n",
    "\n",
    "***\n",
    "\n",
    "<center>Lecture 6</center>\n",
    "\n",
    "***\n",
    "\n",
    "<center>Linked Lists (Single, Double and Circular)</center>  \n",
    "\n",
    "***\n",
    "\n",
    "<center>06 October 2023<center>\n",
    "<center>Rahman Peimankar<center>"
   ]
  },
  {
   "cell_type": "markdown",
   "metadata": {
    "slideshow": {
     "slide_type": "slide"
    }
   },
   "source": [
    "# Agenda"
   ]
  },
  {
   "cell_type": "markdown",
   "metadata": {
    "slideshow": {
     "slide_type": "-"
    }
   },
   "source": [
    "1. Singly Linked Lists\n",
    "2. Circularly Linked Lists\n",
    "3. Doubly Linked Lists\n",
    "4. Exercises "
   ]
  },
  {
   "cell_type": "markdown",
   "metadata": {
    "slideshow": {
     "slide_type": "slide"
    }
   },
   "source": [
    "# Recap of Last Week"
   ]
  },
  {
   "cell_type": "markdown",
   "metadata": {
    "slideshow": {
     "slide_type": "-"
    }
   },
   "source": [
    "## 1. Stacks"
   ]
  },
  {
   "cell_type": "markdown",
   "metadata": {
    "slideshow": {
     "slide_type": "-"
    }
   },
   "source": [
    "* A stack is a collection of objects that are inserted and removed according to the **_last-in, first-out (LIFO)_** principle."
   ]
  },
  {
   "cell_type": "markdown",
   "metadata": {
    "slideshow": {
     "slide_type": "fragment"
    }
   },
   "source": [
    "<center>\n",
    "<img src=\"img/Qimage-2-lecture5.JPG\" width=\"900\"/>\n",
    "    \n",
    "<center>\n",
    "<img src=\"img/Qimage-3-lecture5.JPG\" width=\"900\"/>"
   ]
  },
  {
   "cell_type": "markdown",
   "metadata": {
    "slideshow": {
     "slide_type": "slide"
    }
   },
   "source": [
    "<center>\n",
    "<img src=\"img/Qimage-8-lecture5.JPG\" width=\"500\"/>"
   ]
  },
  {
   "cell_type": "markdown",
   "metadata": {
    "slideshow": {
     "slide_type": "slide"
    }
   },
   "source": [
    "## 2. Queues"
   ]
  },
  {
   "cell_type": "markdown",
   "metadata": {
    "slideshow": {
     "slide_type": "-"
    }
   },
   "source": [
    "* Another fundamental data structure is the queue.\n",
    "* A queue is a collection of objects that are inserted and removed according to the **_first-in, first-out (FIFO)_** principle."
   ]
  },
  {
   "cell_type": "markdown",
   "metadata": {
    "slideshow": {
     "slide_type": "fragment"
    }
   },
   "source": [
    "The queue abstract data type (ADT) supports the following fundamental methods for a queue *Q*:\n",
    "\n",
    "<center>\n",
    "<img src=\"img/Qimage-10-lecture5.JPG\" width=\"1100\"/>\n",
    "<center>\n",
    "<img src=\"img/Qimage-11-lecture5.JPG\" width=\"1100\"/>"
   ]
  },
  {
   "cell_type": "markdown",
   "metadata": {
    "slideshow": {
     "slide_type": "slide"
    }
   },
   "source": [
    "<center>\n",
    "<img src=\"img/Qimage-16-lecture5.JPG\" width=\"650\"/>"
   ]
  },
  {
   "cell_type": "markdown",
   "metadata": {
    "slideshow": {
     "slide_type": "fragment"
    }
   },
   "source": [
    "* The space usage is *O(n)*, where n is the current number of elements in the queue."
   ]
  },
  {
   "cell_type": "markdown",
   "metadata": {
    "slideshow": {
     "slide_type": "slide"
    }
   },
   "source": [
    "## 3. Double-Ended Queues"
   ]
  },
  {
   "cell_type": "markdown",
   "metadata": {
    "slideshow": {
     "slide_type": "-"
    }
   },
   "source": [
    "* **double-ended queue**, or **deque** a queue-like data structure that supports insertion and deletion at both the front and the back of the queue."
   ]
  },
  {
   "cell_type": "markdown",
   "metadata": {
    "slideshow": {
     "slide_type": "fragment"
    }
   },
   "source": [
    "Deque ADT is defined so that deque *D* supports the following methods:\n",
    "\n",
    "\n",
    "* ``D.add_first(e)``: Add element e to the front of deque *D*.\n",
    "* ``D.add_last(e)``: Add element e to the back of deque *D*.\n",
    "* ``D.delete_first()``: Remove and return the first element from deque *D*; an error occurs if the deque is empty.\n",
    "* ``D.delete_last()``: Remove and return the last element from deque *D*; an error occurs if the deque is empty."
   ]
  },
  {
   "cell_type": "markdown",
   "metadata": {
    "slideshow": {
     "slide_type": "slide"
    }
   },
   "source": [
    "Additionally, the deque ADT will include the following accessors:\n",
    "* ``D.first()``: Return (but do not remove) the first element of deque *D*; an error occurs if the deque is empty.\n",
    "* ``D.last()``: Return (but do not remove) the last element of deque *D*; an error occurs if the deque is empty.\n",
    "* ``D.is_empty()``: Return True if deque *D* does not contain any elements.\n",
    "* ``len(D)``: Return the number of elements in deque *D*; in Python, we implement this with the special method ``__len__``."
   ]
  },
  {
   "cell_type": "markdown",
   "metadata": {
    "slideshow": {
     "slide_type": "slide"
    }
   },
   "source": [
    "<center>\n",
    "    \n",
    "# 1. Singly Linked Lists"
   ]
  },
  {
   "cell_type": "markdown",
   "metadata": {
    "slideshow": {
     "slide_type": "-"
    }
   },
   "source": [
    "Disadvantages of Python’s array-based ``list`` class:\n",
    "\n",
    "* The length of a dynamic array might be longer than the actual number of elements that it stores.\n",
    "* Amortized bounds for operations may be unacceptable in real-time systems.\n",
    "* Insertions and deletions at interior positions of an array are expensive."
   ]
  },
  {
   "cell_type": "markdown",
   "metadata": {
    "slideshow": {
     "slide_type": "fragment"
    }
   },
   "source": [
    "* **Linked list** provides an alternative to an array-based sequence (such as a Python ``list``).\n",
    "* Unlike array-based sequence, a linked list relies on a more distributed representation in which a lightweight object, known as a **node**, is allocated for each element.\n",
    "* Each node maintains a reference to its element and one or more references to neighboring nodes."
   ]
  },
  {
   "cell_type": "markdown",
   "metadata": {
    "slideshow": {
     "slide_type": "slide"
    }
   },
   "source": [
    "A **singly linked list**, in its simplest form, is a collection of nodes that collectively form a linear sequence.\n",
    "\n",
    "<center>\n",
    "<img src=\"img/Qimage-1.JPG\" width=\"650\"/>"
   ]
  },
  {
   "cell_type": "markdown",
   "metadata": {
    "slideshow": {
     "slide_type": "fragment"
    }
   },
   "source": [
    "Example of a singly linked list whose elements are strings. (The **None** object is denoted as Ø.)\n",
    "\n",
    "<center>\n",
    "<img src=\"img/Qimage-2.JPG\" width=\"650\"/>"
   ]
  },
  {
   "cell_type": "markdown",
   "metadata": {
    "slideshow": {
     "slide_type": "-"
    }
   },
   "source": [
    "* The first and last node of a linked list are known as the **head** and **tail** of the list, respectively.\n",
    "* We can identify the tail as the node having **None** as its *next* reference."
   ]
  },
  {
   "cell_type": "markdown",
   "metadata": {
    "slideshow": {
     "slide_type": "slide"
    }
   },
   "source": [
    "### Inserting an Element at the Head of a Singly Linked List"
   ]
  },
  {
   "cell_type": "markdown",
   "metadata": {
    "slideshow": {
     "slide_type": "-"
    }
   },
   "source": [
    "\n",
    "\n",
    "\n",
    "<center>\n",
    "<img src=\"img/Qimage-3.JPG\" width=\"700\"/>"
   ]
  },
  {
   "cell_type": "markdown",
   "metadata": {
    "slideshow": {
     "slide_type": "fragment"
    }
   },
   "source": [
    "<center>\n",
    "<img src=\"img/Qimage-4.JPG\" width=\"1000\"/>"
   ]
  },
  {
   "cell_type": "markdown",
   "metadata": {
    "slideshow": {
     "slide_type": "slide"
    }
   },
   "source": [
    "### Inserting an Element at the Tail of a Singly Linked List"
   ]
  },
  {
   "cell_type": "markdown",
   "metadata": {
    "slideshow": {
     "slide_type": "-"
    }
   },
   "source": [
    "<center>\n",
    "<img src=\"img/Qimage-5.JPG\" width=\"700\"/>"
   ]
  },
  {
   "cell_type": "markdown",
   "metadata": {
    "slideshow": {
     "slide_type": "fragment"
    }
   },
   "source": [
    "<center>\n",
    "<img src=\"img/Qimage-6.JPG\" width=\"1000\"/>"
   ]
  },
  {
   "cell_type": "markdown",
   "metadata": {
    "slideshow": {
     "slide_type": "slide"
    }
   },
   "source": [
    "### Removing an Element from a Singly Linked List"
   ]
  },
  {
   "cell_type": "markdown",
   "metadata": {
    "slideshow": {
     "slide_type": "-"
    }
   },
   "source": [
    "<center>\n",
    "<img src=\"img/Qimage-7.JPG\" width=\"700\"/>"
   ]
  },
  {
   "cell_type": "markdown",
   "metadata": {
    "slideshow": {
     "slide_type": "fragment"
    }
   },
   "source": [
    "<center>\n",
    "<img src=\"img/Qimage-8.JPG\" width=\"1000\"/>"
   ]
  },
  {
   "cell_type": "markdown",
   "metadata": {
    "slideshow": {
     "slide_type": "slide"
    }
   },
   "source": [
    "**Quiz 1**\n",
    "\n",
    "Plase discuss how we can delete the last node of the linked list.\n",
    "\n",
    "https://PollEv.com/free_text_polls/oZ5uTmmLLBjAvoPvWADaB/respond"
   ]
  },
  {
   "cell_type": "code",
   "execution_count": 30,
   "metadata": {
    "slideshow": {
     "slide_type": "slide"
    }
   },
   "outputs": [],
   "source": [
    "def delete_last_node_sll(self):\n",
    "    \n",
    "    if(self.head == None):\n",
    "        return None\n",
    "    \n",
    "    if(self.head.next == None):\n",
    "        self.head = None\n",
    "      \n",
    "\n",
    "    temp = self.head\n",
    "    while(temp.next.next != None):\n",
    "        temp = temp.next\n",
    "        \n",
    "        \n",
    "    lastNode = temp.next\n",
    "    temp.next = None\n",
    "    lastNode = None"
   ]
  },
  {
   "cell_type": "markdown",
   "metadata": {
    "slideshow": {
     "slide_type": "slide"
    }
   },
   "source": [
    "### Implementing a Stack with a Singly Linked List"
   ]
  },
  {
   "cell_type": "markdown",
   "metadata": {
    "slideshow": {
     "slide_type": "-"
    }
   },
   "source": [
    "To represent individual nodes of the list, we develop a lightweight ``_Node`` class."
   ]
  },
  {
   "cell_type": "code",
   "execution_count": 2,
   "metadata": {
    "slideshow": {
     "slide_type": "-"
    }
   },
   "outputs": [],
   "source": [
    "class _Node:\n",
    "    \"\"\"Lightweight, nonpublic class for storing a singly linked node.\"\"\"\n",
    "    __slots__ = '_element' , '_next'    # streamline memory usage\n",
    "    def __init__(self, element, next):     # initialize node’s fields\n",
    "        self._element = element         # reference to user’s element\n",
    "        self._next = next               # reference to next node\n",
    "        "
   ]
  },
  {
   "cell_type": "markdown",
   "metadata": {
    "slideshow": {
     "slide_type": "fragment"
    }
   },
   "source": [
    "* A node has only two instance variables: ``_element`` and ``_next``.\n",
    "* The constructor of the Node class is designed for our convenience, allowing us to specify initial values for both fields of a newly created node."
   ]
  },
  {
   "cell_type": "code",
   "execution_count": 4,
   "metadata": {
    "slideshow": {
     "slide_type": "slide"
    }
   },
   "outputs": [],
   "source": [
    "class LinkedStack:\n",
    "    \"\"\"LIFO Stack implementation using a singly linked list for storage.\"\"\"\n",
    "\n",
    "    #-------------------------- nested Node class --------------------------\n",
    "    class _Node:\n",
    "        \"\"\"Lightweight, nonpublic class for storing a singly linked node.\"\"\"\n",
    "        __slots__ = '_element' , '_next' # streamline memory usage\n",
    "\n",
    "        def __init__(self, element, next): # initialize node’s fields\n",
    "            self._element = element # reference to user’s element\n",
    "            self._next = next # reference to next node\n",
    "\n",
    "    #------------------------------- stack methods -------------------------------\n",
    "    def __init__(self):\n",
    "        \"\"\"Create an empty stack.\"\"\"\n",
    "        self._head = None # reference to the head node\n",
    "        self._size = 0 # number of stack elements\n",
    "\n",
    "    def __len__(self):\n",
    "        \"\"\"Return the number of elements in the stack.\"\"\"\n",
    "        return self._size\n",
    "\n",
    "    def is_empty(self):\n",
    "        \"\"\"Return True if the stack is empty.\"\"\"\n",
    "        return self._size == 0\n",
    "\n",
    "    def push(self, e):\n",
    "        \"\"\"Add element e to the top of the stack.\"\"\"\n",
    "        self._head = self._Node(e, self._head) # create and link a new node\n",
    "        self._size += 1\n"
   ]
  },
  {
   "cell_type": "code",
   "execution_count": null,
   "metadata": {
    "slideshow": {
     "slide_type": "slide"
    }
   },
   "outputs": [],
   "source": [
    " def top(self):\n",
    "        \"\"\"Return (but do not remove) the element at the top of the stack.\n",
    "\n",
    "           Raise Empty exception if the stack is empty.\n",
    "        \"\"\"\n",
    "        if self.is_empty():\n",
    "            raise Empty('Stack is empty')\n",
    "        return self._head._element # top of stack is at head of list\n",
    "    \n",
    "\n",
    "def pop(self):\n",
    "        \"\"\"Remove and return the element from the top of the stack (i.e., LIFO).\n",
    "\n",
    "           Raise Empty exception if the stack is empty.\n",
    "        \"\"\"\n",
    "        if self.is_empty():\n",
    "            raise Empty('Stack is empty')\n",
    "        answer = self._head._element\n",
    "        self._head = self._head._next # bypass the former top node\n",
    "        self._size -= 1\n",
    "        return answer"
   ]
  },
  {
   "cell_type": "markdown",
   "metadata": {
    "slideshow": {
     "slide_type": "slide"
    }
   },
   "source": [
    "Please study the implementing a Queue with a Singly Linked List in Section 7.1.2!"
   ]
  },
  {
   "cell_type": "markdown",
   "metadata": {
    "slideshow": {
     "slide_type": "slide"
    }
   },
   "source": [
    "<center>\n",
    "    \n",
    "# 2. Circularly Linked Lists"
   ]
  },
  {
   "cell_type": "markdown",
   "metadata": {
    "slideshow": {
     "slide_type": "-"
    }
   },
   "source": [
    "<center>\n",
    "<img src=\"img/Qimage-9.JPG\" width=\"800\"/>"
   ]
  },
  {
   "cell_type": "markdown",
   "metadata": {
    "slideshow": {
     "slide_type": "fragment"
    }
   },
   "source": [
    "A circularly linked list provides a more general model than a standard linked list, that is, which do not have any particular notion of a beginning and end.\n",
    "<center>\n",
    "<img src=\"img/Qimage-10.JPG\" width=\"700\"/>"
   ]
  },
  {
   "cell_type": "markdown",
   "metadata": {
    "slideshow": {
     "slide_type": "slide"
    }
   },
   "source": [
    "### Implementing a Queue with a Circularly Linked List"
   ]
  },
  {
   "cell_type": "code",
   "execution_count": 11,
   "metadata": {
    "slideshow": {
     "slide_type": "-"
    }
   },
   "outputs": [],
   "source": [
    "class CircularQueue:\n",
    "    \"\"\"Queue implementation using circularly linked list for storage.\"\"\"\n",
    "\n",
    "    class _Node:\n",
    "        \"\"\"Lightweight, nonpublic class for storing a singly linked node.\"\"\"\n",
    "        __slots__ = '_element' , '_next'    # streamline memory usage\n",
    "        def __init__(self, element, next):     # initialize node’s fields\n",
    "            self._element = element         # reference to user’s element\n",
    "            self._next = next               # reference to next node\n",
    "        \n",
    "    def __init__(self):\n",
    "        \"\"\"Create an empty queue.\"\"\"\n",
    "        self._tail = None   # will represent tail of queue\n",
    "        self._size = 0      # number of queue elements\n",
    "\n",
    "    def __len__(self):\n",
    "        \"\"\"Return the number of elements in the queue.\"\"\"\n",
    "        return self._size\n",
    "\n",
    "    def is_empty(self):\n",
    "        \"\"\"Return True if the queue is empty.\"\"\"\n",
    "        return self._size == 0\n",
    "    "
   ]
  },
  {
   "cell_type": "code",
   "execution_count": 10,
   "metadata": {
    "slideshow": {
     "slide_type": "slide"
    }
   },
   "outputs": [],
   "source": [
    "    def first(self):\n",
    "        \"\"\"Return (but do not remove) the element at the front of the queue.\n",
    "\n",
    "           Raise Empty exception if the queue is empty.\n",
    "        \"\"\"\n",
    "        if self.is_empty():\n",
    "            raise Empty('Queue is empty')\n",
    "        head = self._tail._next\n",
    "        return head._element\n",
    "\n",
    "    def dequeue(self):\n",
    "        \"\"\"Remove and return the first element of the queue (i.e., FIFO).\n",
    "\n",
    "           Raise Empty exception if the queue is empty.\n",
    "        \"\"\"\n",
    "        if self.is_empty():\n",
    "            raise Empty('Queue is empty')\n",
    "        oldhead = self._tail._next\n",
    "        if self._size == 1: # removing only element\n",
    "            self._tail = None # queue becomes empty\n",
    "        else:\n",
    "            self._tail._next = oldhead._next # bypass the old head\n",
    "            self._size -= 1\n",
    "        return oldhead._element\n",
    "\n",
    "\n",
    "            "
   ]
  },
  {
   "cell_type": "code",
   "execution_count": null,
   "metadata": {
    "slideshow": {
     "slide_type": "slide"
    }
   },
   "outputs": [],
   "source": [
    "    def enqueue(self, e):\n",
    "        \"\"\"Add an element to the back of queue.\"\"\"\n",
    "        newest = self._Node(e, None) # node will be new tail node\n",
    "        if self.is_empty():\n",
    "            newest._next = newest # initialize circularly\n",
    "        else:\n",
    "            newest._next = self._tail._next # new node points to head\n",
    "            self._tail._next = newest # old tail points to new node\n",
    "        self._tail = newest # new node becomes the tail\n",
    "        self._size += 1\n",
    "\n",
    "    def rotate(self):\n",
    "        \"\"\"Rotate front element to the back of the queue.\"\"\"\n",
    "        if self._size > 0:\n",
    "            self._tail = self._tail._next # old head becomes new tail\n",
    "            "
   ]
  },
  {
   "cell_type": "markdown",
   "metadata": {
    "slideshow": {
     "slide_type": "slide"
    }
   },
   "source": [
    "<center>\n",
    "    \n",
    "# 3. Doubly Linked Lists"
   ]
  },
  {
   "cell_type": "markdown",
   "metadata": {
    "slideshow": {
     "slide_type": "-"
    }
   },
   "source": [
    "Unlike *Singly linked lists*, in **doubly linked lists** each node keeps an explicit reference to the node before it and a reference to the node after it."
   ]
  },
  {
   "cell_type": "markdown",
   "metadata": {
    "slideshow": {
     "slide_type": "-"
    }
   },
   "source": [
    "<center>\n",
    "<img src=\"img/Qimage-11.JPG\" width=\"700\"/>"
   ]
  },
  {
   "cell_type": "markdown",
   "metadata": {
    "slideshow": {
     "slide_type": "slide"
    }
   },
   "source": [
    "### Inserting and Deleting with a Doubly Linked List"
   ]
  },
  {
   "cell_type": "markdown",
   "metadata": {
    "slideshow": {
     "slide_type": "-"
    }
   },
   "source": [
    "<center>\n",
    "<img src=\"img/Qimage-12.JPG\" width=\"700\"/>"
   ]
  },
  {
   "cell_type": "markdown",
   "metadata": {
    "slideshow": {
     "slide_type": "fragment"
    }
   },
   "source": [
    "Adding an element to the front of a sequence represented by a doubly linked list:\n",
    "<center>\n",
    "<img src=\"img/Qimage-13.JPG\" width=\"700\"/>"
   ]
  },
  {
   "cell_type": "markdown",
   "metadata": {
    "slideshow": {
     "slide_type": "slide"
    }
   },
   "source": [
    "Removing the element PVD from a doubly linked list:\n",
    "<center>\n",
    "<img src=\"img/Qimage-14.JPG\" width=\"700\"/>"
   ]
  },
  {
   "cell_type": "markdown",
   "metadata": {
    "slideshow": {
     "slide_type": "slide"
    }
   },
   "source": [
    "### Basic Implementation of a Doubly Linked List"
   ]
  },
  {
   "cell_type": "code",
   "execution_count": 1,
   "metadata": {
    "slideshow": {
     "slide_type": "skip"
    }
   },
   "outputs": [],
   "source": [
    "class _Node:\n",
    "    \"\"\"Lightweight, nonpublic class for storing a doubly linked node.\"\"\"\n",
    "    __slots__ = '_element' , '_prev' , '_next' # streamline memory\n",
    "    def __init__(self, element, prev, next): # initialize node’s fields\n",
    "        self._element = element # user’s element\n",
    "        self._prev = prev # previous node reference\n",
    "        self._next = next # next node reference\n",
    "        "
   ]
  },
  {
   "cell_type": "code",
   "execution_count": 3,
   "metadata": {
    "slideshow": {
     "slide_type": "slide"
    }
   },
   "outputs": [],
   "source": [
    "class _DoublyLinkedBase:\n",
    "    \"\"\"A base class providing a doubly linked list representation.\"\"\"\n",
    "\n",
    "    class _Node:\n",
    "        \"\"\"Lightweight, nonpublic class for storing a doubly linked node.\"\"\"\n",
    "        __slots__ = '_element' , '_prev' , '_next' # streamline memory\n",
    "        def __init__(self, element, prev, next): # initialize node’s fields\n",
    "            self._element = element # user’s element\n",
    "            self._prev = prev # previous node reference\n",
    "            self._next = next # next node reference\n",
    "\n",
    "    def __init__(self):\n",
    "        \"\"\"Create an empty list.\"\"\"\n",
    "        self._header = self._Node(None, None, None)\n",
    "        self._trailer = self._Node(None, None, None)\n",
    "        self._header._next = self._trailer # trailer is after header\n",
    "        self._trailer._prev = self._header # header is before trailer\n",
    "        self._size = 0 # number of elements\n",
    "\n",
    "    def __len__(self):\n",
    "        \"\"\"Return the number of elements in the list.\"\"\"\n",
    "        return self._size\n",
    "\n",
    "    def is_empty(self):\n",
    "        \"\"\"Return True if list is empty.\"\"\"\n",
    "        return self._size == 0\n"
   ]
  },
  {
   "cell_type": "code",
   "execution_count": null,
   "metadata": {
    "slideshow": {
     "slide_type": "slide"
    }
   },
   "outputs": [],
   "source": [
    "    def insert_between(self, e, predecessor, successor):\n",
    "        \"\"\"Add element e between two existing nodes and return new node.\"\"\"\n",
    "        newest = self._Node(e, predecessor, successor) # linked to neighbors\n",
    "        predecessor._next = newest\n",
    "        successor._prev = newest\n",
    "        self._size += 1\n",
    "        return newest\n",
    "\n",
    "    def delete_node(self, node):\n",
    "        \"\"\"Delete nonsentinel node from the list and return its element.\"\"\"\n",
    "        predecessor = node._prev\n",
    "        successor = node._next\n",
    "        predecessor._next = successor\n",
    "        successor._prev = predecessor\n",
    "        self._size -= 1\n",
    "        element = node._element # record deleted element\n",
    "        node._prev = node._next = node._element = None # deprecate node\n",
    "        return element # return deleted element\n",
    "    "
   ]
  },
  {
   "cell_type": "markdown",
   "metadata": {
    "slideshow": {
     "slide_type": "slide"
    }
   },
   "source": [
    "### Implementing a Deque with a Doubly Linked List"
   ]
  },
  {
   "cell_type": "markdown",
   "metadata": {
    "slideshow": {
     "slide_type": "-"
    }
   },
   "source": [
    "We provide an implementation of a ``LinkedDeque`` class that inherits from the ``_DoublyLinkedBase`` class."
   ]
  },
  {
   "cell_type": "code",
   "execution_count": 5,
   "metadata": {
    "slideshow": {
     "slide_type": "slide"
    }
   },
   "outputs": [],
   "source": [
    "class LinkedDeque(_DoublyLinkedBase): # note the use of inheritance\n",
    "    \"\"\"Double-ended queue implementation based on a doubly linked list.\"\"\"\n",
    "\n",
    "    def first(self):\n",
    "        \"\"\"Return (but do not remove) the element at the front of the deque.\"\"\"\n",
    "        if self.is_empty():\n",
    "            raise Empty(\"Deque is empty\")\n",
    "        return self._header._next._element # real item just after header\n",
    "\n",
    "    def last(self):\n",
    "        \"\"\"Return (but do not remove) the element at the back of the deque.\"\"\"\n",
    "        if self.is_empty():\n",
    "            raise Empty(\"Deque is empty\")\n",
    "        return self._trailer._prev._element # real item just before trailer\n",
    "\n",
    "    def insert_first(self, e):\n",
    "        \"\"\"Add an element to the front of the deque.\"\"\"\n",
    "        self._insert_between(e, self._header, self._header._next) # after header\n",
    "\n",
    "    def insert_last(self, e):\n",
    "        \"\"\"Add an element to the back of the deque.\"\"\"\n",
    "        self._insert_between(e, self._trailer._prev, self._trailer) # before trailer\n",
    "    \n",
    "   "
   ]
  },
  {
   "cell_type": "code",
   "execution_count": null,
   "metadata": {
    "slideshow": {
     "slide_type": "slide"
    }
   },
   "outputs": [],
   "source": [
    "     def delete_first(self):\n",
    "        \"\"\"Remove and return the element from the front of the deque.\n",
    "\n",
    "           Raise Empty exception if the deque is empty.\n",
    "        \"\"\"\n",
    "        if self.is_empty():\n",
    "            raise Empty(\"Deque is empty\")\n",
    "        return self._delete_node(self._header._next) # use inherited method\n",
    "\n",
    "    def delete_last(self):\n",
    "        \"\"\"Remove and return the element from the back of the deque.\n",
    "\n",
    "           Raise Empty exception if the deque is empty.\n",
    "        \"\"\"\n",
    "        if self.is_empty():\n",
    "            raise Empty(\"Deque is empty\")\n",
    "        return self._delete_node(self._trailer._prev) # use inherited method\n",
    "    "
   ]
  },
  {
   "cell_type": "markdown",
   "metadata": {
    "slideshow": {
     "slide_type": "slide"
    }
   },
   "source": [
    "<center>\n",
    "    \n",
    "# 4. Exercises"
   ]
  },
  {
   "cell_type": "markdown",
   "metadata": {
    "slideshow": {
     "slide_type": "-"
    }
   },
   "source": [
    "**Ex.1**\n",
    "\n",
    "Give a Python implementation for finding the second-to-last node in a singly linked list in which the last node is indicated by a ``next`` reference of ``None``."
   ]
  },
  {
   "cell_type": "markdown",
   "metadata": {
    "slideshow": {
     "slide_type": "-"
    }
   },
   "source": [
    "**Ex.2**\n",
    "\n",
    "Implement a python function for concatenating two singly linked lists *L* and *M*, given only references to the first node of each list, into a single list *L'* that contains all the nodes of *L* followed by all the nodes of *M*."
   ]
  },
  {
   "cell_type": "markdown",
   "metadata": {
    "slideshow": {
     "slide_type": "slide"
    }
   },
   "source": [
    "### Thank you!"
   ]
  }
 ],
 "metadata": {
  "celltoolbar": "Slideshow",
  "kernelspec": {
   "display_name": "Python 3 (ipykernel)",
   "language": "python",
   "name": "python3"
  },
  "language_info": {
   "codemirror_mode": {
    "name": "ipython",
    "version": 3
   },
   "file_extension": ".py",
   "mimetype": "text/x-python",
   "name": "python",
   "nbconvert_exporter": "python",
   "pygments_lexer": "ipython3",
   "version": "3.9.7"
  }
 },
 "nbformat": 4,
 "nbformat_minor": 4
}
