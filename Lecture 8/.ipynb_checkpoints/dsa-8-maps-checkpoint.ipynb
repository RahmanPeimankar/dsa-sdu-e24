{
 "cells": [
  {
   "cell_type": "markdown",
   "metadata": {
    "slideshow": {
     "slide_type": "slide"
    }
   },
   "source": [
    "<center><img src=\"img/dsa-logo.JPG\" width=\"400\"/>\n",
    "\n",
    "***\n",
    "\n",
    "<center>Lecture 8</center>\n",
    "\n",
    "***\n",
    "\n",
    "<center>Maps<center>\n",
    "\n",
    "***\n",
    "\n",
    "<center>08 November 2024<center>\n",
    "<center>Rahman Peimankar<center>"
   ]
  },
  {
   "cell_type": "markdown",
   "metadata": {
    "slideshow": {
     "slide_type": "slide"
    }
   },
   "source": [
    "# Agenda"
   ]
  },
  {
   "cell_type": "markdown",
   "metadata": {
    "slideshow": {
     "slide_type": "-"
    }
   },
   "source": [
    "1. The Map ADT\n",
    "2. Exercices"
   ]
  },
  {
   "cell_type": "markdown",
   "metadata": {
    "slideshow": {
     "slide_type": "slide"
    }
   },
   "source": [
    "# Recap of Last Week"
   ]
  },
  {
   "cell_type": "markdown",
   "metadata": {
    "slideshow": {
     "slide_type": "-"
    }
   },
   "source": [
    "## 1. Divide-and-Conquer for Quick-Sort"
   ]
  },
  {
   "cell_type": "markdown",
   "metadata": {
    "slideshow": {
     "slide_type": "-"
    }
   },
   "source": [
    "Like merge-sort, this algorithm is also based on the **divide-and-conquer** paradigm, but it uses this technique in a somewhat opposite manner, as all the hard work is done **before** the recursive calls."
   ]
  },
  {
   "cell_type": "markdown",
   "metadata": {
    "slideshow": {
     "slide_type": "slide"
    }
   },
   "source": [
    "The quick-sort algorithm consists of the following three steps:\n",
    "1. **Divide**: If *S* has at least two elements (nothing needs to be done if *S* has zero or one element), select a specific element x from *S*, which is called the **pivot**. As is common practice, choose the pivot x to be the last element in *S*. Remove all the elements from *S* and put them into three sequences:\n",
    "    * *L*, storing the elements in *S* less than *x*\n",
    "    * *E*, storing the elements in *S* equal to *x*\n",
    "    * *G*, storing the elements in *S* greater than *x*\n",
    "2. **Conquer**: Recursively sort sequences *L* and *G*.\n",
    "3. **Combine**: Put back the elements into *S* in order by first inserting the elements of *L*, then those of *E*, and finally those of *G*."
   ]
  },
  {
   "cell_type": "markdown",
   "metadata": {
    "slideshow": {
     "slide_type": "fragment"
    }
   },
   "source": [
    "<center>\n",
    "<img src=\"img/Qimage-1-lecture7.JPG\" width=\"700\"/>"
   ]
  },
  {
   "cell_type": "markdown",
   "metadata": {
    "slideshow": {
     "slide_type": "slide"
    }
   },
   "source": [
    "<center>\n",
    "<table><tr>\n",
    " \n",
    "<td>\n",
    "    Input sequences processed at each node of T.\n",
    "    <img src=\"img/Qimage-2-lecture7.JPG\" width=\"800\"/></td>\n",
    "\n",
    "<td>\n",
    "    Output sequences generated at each node of T.\n",
    "    <img src=\"img/Qimage-3-lecture7.JPG\" width=\"800\"/>\n",
    "    </td>\n",
    "</tr></table>"
   ]
  },
  {
   "cell_type": "markdown",
   "metadata": {
    "slideshow": {
     "slide_type": "slide"
    }
   },
   "source": [
    "## 2. Performing Quick-Sort on General Sequences"
   ]
  },
  {
   "cell_type": "code",
   "execution_count": null,
   "metadata": {},
   "outputs": [],
   "source": [
    "def quick_sort(S):\n",
    "    \"\"\"Sort the elements of queue S using the quick-sort algorithm.\"\"\"\n",
    "    n = len(S)\n",
    "    if n < 2:\n",
    "        return                        # list is already sorted\n",
    "    # divide\n",
    "    p = S.first()                    # using first as arbitrary pivot\n",
    "    L = LinkedQueue()\n",
    "    E = LinkedQueue()\n",
    "    G = LinkedQueue()\n",
    "    while not S.is_empty():          # divide S into L, E, and G\n",
    "        if S.first() < p:\n",
    "            L.enqueue(S.dequeue())\n",
    "        elif p < S.first():\n",
    "            G.enqueue(S.dequeue())\n",
    "        else:                         # S.first() must equal pivot\n",
    "            E.enqueue(S.dequeue())\n",
    "    # conquer (with recursion)\n",
    "    quick_sort(L)                    # sort elements less than p\n",
    "    quick_sort(G)                    # sort elements greater than p\n",
    "    # concatenate results\n",
    "    while not L.is_empty():\n",
    "        S.enqueue(L.dequeue())\n",
    "    while not E.is_empty():\n",
    "        S.enqueue(E.dequeue())\n",
    "    while not G.is_empty():\n",
    "        S.enqueue(G.dequeue())"
   ]
  },
  {
   "cell_type": "markdown",
   "metadata": {
    "slideshow": {
     "slide_type": "slide"
    }
   },
   "source": [
    "## 3. Running Time of Quick-Sort"
   ]
  },
  {
   "cell_type": "markdown",
   "metadata": {
    "slideshow": {
     "slide_type": "slide"
    }
   },
   "source": [
    "<center>\n",
    "    \n",
    "# 1. The Map ADT"
   ]
  },
  {
   "cell_type": "markdown",
   "metadata": {
    "slideshow": {
     "slide_type": "-"
    }
   },
   "source": [
    "* Python’s **dict** class is arguably the most significant data structure in the language.\n",
    "* It represents an abstraction known as a **dictionary** in which unique **keys** are mapped to associated **values**.\n"
   ]
  },
  {
   "cell_type": "markdown",
   "metadata": {
    "slideshow": {
     "slide_type": "fragment"
    }
   },
   "source": [
    "* Because of the relationship they express between keys and values, dictionaries are commonly known as **associative arrays** or **maps**."
   ]
  },
  {
   "cell_type": "markdown",
   "metadata": {
    "slideshow": {
     "slide_type": "fragment"
    }
   },
   "source": [
    "<center>\n",
    "<img src=\"img/Qimage-5.JPG\" width=\"700\"/>\n",
    "    \n",
    "    A map from countries (the keys) to their units of currency (the values).\n",
    "\n",
    "The keys (the country names) are assumed to be unique, but the values (the currency units) are not necessarily unique."
   ]
  },
  {
   "cell_type": "markdown",
   "metadata": {
    "slideshow": {
     "slide_type": "slide"
    }
   },
   "source": [
    "Common applications of maps:\n",
    "\n",
    "1. A university’s information system relies on some form of a student ID as a key that is mapped to that student’s associated record (such as the student’s name, address, and course grades) serving as the value.\n",
    "\n",
    "\n",
    "2. The domain-name system (DNS)maps a host name, such as www.wiley.com, to an Internet-Protocol (IP) address, such as 208.215.179.146.\n",
    "\n",
    "\n",
    "3. A social media site typically relies on a (nonnumeric) username as a key that can be efficiently mapped to a particular user’s associated information.\n",
    "\n",
    "\n",
    "4. A computer graphics system may map a color name, such as turquoise, to the triple of numbers that describes the color’s RGB (red-green-blue) representation, such as (64,224,208)."
   ]
  },
  {
   "cell_type": "markdown",
   "metadata": {
    "slideshow": {
     "slide_type": "slide"
    }
   },
   "source": [
    "The most significant five behaviors of a map *M* are as follows:\n",
    "\n",
    "<center>\n",
    "<img src=\"img/Qimage-6.JPG\" width=\"700\"/>"
   ]
  },
  {
   "cell_type": "markdown",
   "metadata": {
    "slideshow": {
     "slide_type": "slide"
    }
   },
   "source": [
    "Some additional behaviors:\n",
    "\n",
    "<center>\n",
    "<img src=\"img/Qimage-7.JPG\" width=\"700\"/>"
   ]
  },
  {
   "cell_type": "markdown",
   "metadata": {
    "slideshow": {
     "slide_type": "slide"
    }
   },
   "source": [
    "<center>\n",
    "<img src=\"img/Qimage-8.JPG\" width=\"700\"/>"
   ]
  },
  {
   "cell_type": "markdown",
   "metadata": {
    "slideshow": {
     "slide_type": "slide"
    }
   },
   "source": [
    "The effect of a series of operations on an initially empty map storing items with integer keys and single-character values:\n",
    "\n",
    "\n",
    "<center>\n",
    "<img src=\"img/Qimage-9.JPG\" width=\"900\"/>"
   ]
  },
  {
   "cell_type": "markdown",
   "metadata": {
    "slideshow": {
     "slide_type": "slide"
    }
   },
   "source": [
    "#### Application: Counting Word Frequencies\n",
    "\n",
    "* A program for counting word frequencies in a document, and reporting the most frequent word.\n",
    "* We use Python’s ``dict`` class for the map.\n",
    "* We convert the input to lowercase and ignore any nonalphabetic characters."
   ]
  },
  {
   "cell_type": "code",
   "execution_count": 1,
   "metadata": {},
   "outputs": [
    {
     "name": "stdout",
     "output_type": "stream",
     "text": [
      "The most frequent word is: in\n",
      "Its number of occurrences is: 6\n"
     ]
    }
   ],
   "source": [
    "freq = {}\n",
    "for piece in open('test.txt').read().lower().split():\n",
    "    \n",
    "    # only consider alphabetic characters within this piece\n",
    "    word = ''.join(c for c in piece if c.isalpha())\n",
    "\n",
    "    if word: # require at least one alphabetic character\n",
    "        freq[word] = 1 + freq.get(word, 0)\n",
    "\n",
    "max_word = ''\n",
    "max_count = 0\n",
    "for (w,c) in freq.items(): # (key, value) tuples represent (word, count)\n",
    "    if c > max_count:\n",
    "        max_word = w\n",
    "        max_count = c\n",
    "print('The most frequent word is:' , max_word)\n",
    "print('Its number of occurrences is:' , max_count)"
   ]
  },
  {
   "cell_type": "markdown",
   "metadata": {
    "slideshow": {
     "slide_type": "slide"
    }
   },
   "source": [
    "The ``collections`` module provides two **abstract base classes** that are relevant to our current discussion: the ``Mapping`` and ``MutableMapping`` classes."
   ]
  },
  {
   "cell_type": "markdown",
   "metadata": {
    "slideshow": {
     "slide_type": "fragment"
    }
   },
   "source": [
    "* The ``Mapping`` class includes all nonmutating methods supported by Python’s **dict** class.\n",
    "* The ``MutableMapping`` class extends that to include the mutating methods."
   ]
  },
  {
   "cell_type": "markdown",
   "metadata": {
    "slideshow": {
     "slide_type": "fragment"
    }
   },
   "source": [
    "The significance of these **abstract base classes** is that they provide a framework to assist in creating a **user-defined map class**.\n",
    "\n",
    "\n",
    "The ``MutableMapping`` class provides concrete implementations for all behaviors other than the first five:\n",
    "\n",
    "    __getitem__ , __setitem__ , __delitem__ , __len__ , __iter__ \n",
    "   "
   ]
  },
  {
   "cell_type": "markdown",
   "metadata": {
    "slideshow": {
     "slide_type": "fragment"
    }
   },
   "source": [
    "**But what does all these mean?**"
   ]
  },
  {
   "cell_type": "markdown",
   "metadata": {
    "slideshow": {
     "slide_type": "slide"
    }
   },
   "source": [
    "We will be providing many different implementations of the map ADT today and in the next lectures:"
   ]
  },
  {
   "cell_type": "markdown",
   "metadata": {
    "slideshow": {
     "slide_type": "-"
    }
   },
   "source": [
    "<center>\n",
    "<img src=\"img/Qimage-10.JPG\" width=\"900\"/>"
   ]
  },
  {
   "cell_type": "markdown",
   "metadata": {
    "slideshow": {
     "slide_type": "slide"
    }
   },
   "source": [
    "Extending the ``MutableMapping`` abstract base class to provide a nonpublic **_Item** class for use in our various map implementations."
   ]
  },
  {
   "cell_type": "code",
   "execution_count": 3,
   "metadata": {
    "slideshow": {
     "slide_type": "-"
    }
   },
   "outputs": [
    {
     "name": "stderr",
     "output_type": "stream",
     "text": [
      "<ipython-input-3-0c4825a83c5c>:1: DeprecationWarning: Using or importing the ABCs from 'collections' instead of from 'collections.abc' is deprecated since Python 3.3, and in 3.9 it will stop working\n",
      "  from collections import MutableMapping\n"
     ]
    }
   ],
   "source": [
    "from collections import MutableMapping\n",
    "\n",
    "class MapBase(MutableMapping):\n",
    "    \"\"\"Our own abstract base class that includes a nonpublic Item class.\"\"\"\n",
    "\n",
    "#------------------------------- nested Item class -------------------------------\n",
    "    class _Item:\n",
    "        \"\"\"Lightweight composite to store key-value pairs as map items.\"\"\"\n",
    "        __slots__ = '_key' , '_value'\n",
    "\n",
    "        def __init__(self, k, v):\n",
    "            self._key = k\n",
    "            self._value = v\n",
    "\n",
    "        def __eq__(self, other):\n",
    "            return self._key == other._key # compare items based on their keys\n",
    "\n",
    "        def __ne__(self, other):\n",
    "            return not (self == other) # opposite of eq\n",
    "\n",
    "        def __lt__(self, other):\n",
    "            return self._key < other._key # compare items based on their keys"
   ]
  },
  {
   "cell_type": "markdown",
   "metadata": {
    "slideshow": {
     "slide_type": "slide"
    }
   },
   "source": [
    "An implementation of a ``map`` using a Python ``list`` as an unsorted table."
   ]
  },
  {
   "cell_type": "code",
   "execution_count": 6,
   "metadata": {
    "slideshow": {
     "slide_type": "-"
    }
   },
   "outputs": [],
   "source": [
    "class UnsortedTableMap(MapBase):\n",
    "    \"\"\"Map implementation using an unordered list.\"\"\"\n",
    "\n",
    "    def __init__(self):\n",
    "        \"\"\"Create an empty map.\"\"\"\n",
    "        self._table = [ ] # list of Item’s\n",
    "\n",
    "    def __getitem__(self, k):\n",
    "        \"\"\"Return value associated with key k (raise KeyError if not found).\"\"\"\n",
    "        for item in self._table:\n",
    "            if k == item._key:\n",
    "                return item._value\n",
    "        raise KeyError('Key Error:' + repr(k))\n",
    "\n",
    "    def __setitem__(self, k, v):\n",
    "        \"\"\"Assign value v to key k, overwriting existing value if present.\"\"\"\n",
    "        for item in self._table:\n",
    "            if k == item._key: # Found a match:\n",
    "                item._value = v # reassign value\n",
    "                return # and quit\n",
    "        # did not find match for key\n",
    "        self._table.append(self._Item(k,v))\n",
    " "
   ]
  },
  {
   "cell_type": "code",
   "execution_count": 9,
   "metadata": {
    "slideshow": {
     "slide_type": "slide"
    }
   },
   "outputs": [],
   "source": [
    "    def __delitem__(self, k):\n",
    "        \"\"\"Remove item associated with key k (raise KeyError if not found).\"\"\"\n",
    "        for j in range(len(self._table)):\n",
    "            if k == self._table[j]._key: # Found a match:\n",
    "                self._table.pop(j) # remove item\n",
    "                return # and quit\n",
    "        raise KeyError('Key Error:' + repr(k))\n",
    "\n",
    "    def __len__(self):\n",
    "        \"\"\"Return number of items in the map.\"\"\"\n",
    "        return len(self._table)\n",
    "\n",
    "    def __iter__(self):\n",
    "        \"\"\"Generate iteration of the map's keys.\"\"\"\n",
    "        for item in self._table:\n",
    "            yield item._key"
   ]
  },
  {
   "cell_type": "markdown",
   "metadata": {
    "slideshow": {
     "slide_type": "fragment"
    }
   },
   "source": [
    "**Can you please mention any advantages and disadvantages of this ``Unsorted Map`` implementation?**"
   ]
  },
  {
   "cell_type": "markdown",
   "metadata": {
    "slideshow": {
     "slide_type": "slide"
    }
   },
   "source": [
    "<center>\n",
    "    \n",
    "# 2. Exercices"
   ]
  },
  {
   "cell_type": "markdown",
   "metadata": {
    "slideshow": {
     "slide_type": "-"
    }
   },
   "source": [
    "**Ex.1**\n",
    "Give a concrete implementation of the ``items()`` method directly within the ``UnsortedTableMap`` class, ensuring that the entire iteration runs in O(n) time\n"
   ]
  },
  {
   "cell_type": "markdown",
   "metadata": {
    "slideshow": {
     "slide_type": "slide"
    }
   },
   "source": [
    "# Thank you!"
   ]
  }
 ],
 "metadata": {
  "celltoolbar": "Slideshow",
  "kernelspec": {
   "display_name": "Python 3",
   "language": "python",
   "name": "python3"
  },
  "language_info": {
   "codemirror_mode": {
    "name": "ipython",
    "version": 3
   },
   "file_extension": ".py",
   "mimetype": "text/x-python",
   "name": "python",
   "nbconvert_exporter": "python",
   "pygments_lexer": "ipython3",
   "version": "3.12.3"
  }
 },
 "nbformat": 4,
 "nbformat_minor": 4
}
