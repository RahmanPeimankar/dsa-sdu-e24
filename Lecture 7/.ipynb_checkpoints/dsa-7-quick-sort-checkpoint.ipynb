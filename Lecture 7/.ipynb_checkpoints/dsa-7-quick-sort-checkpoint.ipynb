{
 "cells": [
  {
   "cell_type": "markdown",
   "metadata": {
    "slideshow": {
     "slide_type": "slide"
    }
   },
   "source": [
    "<center><img src=\"img/dsa-logo.JPG\" width=\"400\"/>\n",
    "\n",
    "***\n",
    "\n",
    "<center>Lecture 7</center>\n",
    "\n",
    "***\n",
    "\n",
    "<center>Quick-Sort</center>  \n",
    "\n",
    "***\n",
    "\n",
    "<center>01 November 2024<center>\n",
    "<center>Rahman Peimankar<center>"
   ]
  },
  {
   "cell_type": "markdown",
   "metadata": {
    "slideshow": {
     "slide_type": "slide"
    }
   },
   "source": [
    "# Agenda"
   ]
  },
  {
   "cell_type": "markdown",
   "metadata": {
    "slideshow": {
     "slide_type": "-"
    }
   },
   "source": [
    "1. High-Level Description of Quick-Sort\n",
    "2. Performing Quick-Sort on General Sequences \n",
    "3. Running Time of Quick-Sort\n",
    "4. Exercices"
   ]
  },
  {
   "cell_type": "markdown",
   "metadata": {
    "slideshow": {
     "slide_type": "slide"
    }
   },
   "source": [
    "# Recap of Last Week"
   ]
  },
  {
   "cell_type": "markdown",
   "metadata": {
    "slideshow": {
     "slide_type": "-"
    }
   },
   "source": [
    "## 1. Divide-and-Conquer for Sorting"
   ]
  },
  {
   "cell_type": "markdown",
   "metadata": {
    "slideshow": {
     "slide_type": "-"
    }
   },
   "source": [
    "To sort a sequence S with n elements using the three divide-and-conquer steps, the merge-sort algorithm proceeds as follows:"
   ]
  },
  {
   "cell_type": "markdown",
   "metadata": {
    "slideshow": {
     "slide_type": "fragment"
    }
   },
   "source": [
    "<center>\n",
    "<img src=\"img/Qimage-2-lecture6.JPG\" width=\"900\"/>"
   ]
  },
  {
   "cell_type": "markdown",
   "metadata": {
    "slideshow": {
     "slide_type": "fragment"
    }
   },
   "source": [
    "<center>\n",
    "<img src=\"img/Qimage-3-lecture6.JPG\" width=\"900\"/>"
   ]
  },
  {
   "cell_type": "markdown",
   "metadata": {
    "slideshow": {
     "slide_type": "fragment"
    }
   },
   "source": [
    "<center>\n",
    "<img src=\"img/Qimage-4-lecture6.JPG\" width=\"900\"/>"
   ]
  },
  {
   "cell_type": "markdown",
   "metadata": {
    "slideshow": {
     "slide_type": "slide"
    }
   },
   "source": [
    "<center>\n",
    "<table><tr>\n",
    " \n",
    "<td>\n",
    "    Input sequences processed at each node of T.\n",
    "    <img src=\"img/Qimage-5-lecture6.JPG\" width=\"800\"/></td>\n",
    "\n",
    "<td>\n",
    "    Output sequences generated at each node of T.\n",
    "    <img src=\"img/Qimage-6-lecture6.JPG\" width=\"800\"/>\n",
    "    </td>\n",
    "</tr></table>"
   ]
  },
  {
   "cell_type": "markdown",
   "metadata": {
    "slideshow": {
     "slide_type": "slide"
    }
   },
   "source": [
    "## 2. Array-Based Implementation of Merge-Sort"
   ]
  },
  {
   "cell_type": "code",
   "execution_count": 2,
   "metadata": {
    "slideshow": {
     "slide_type": "-"
    }
   },
   "outputs": [],
   "source": [
    "def merge(S1, S2, S):\n",
    "    \"\"\"Merge two sorted Python lists S1 and S2 into properly sized list S.\"\"\"\n",
    "    i = j = 0\n",
    "    while i + j < len(S):\n",
    "        if j == len(S2) or (i < len(S1) and S1[i] < S2[j]):\n",
    "            S[i+j] = S1[i] # copy ith element of S1 as next item of S\n",
    "            i += 1\n",
    "        else:\n",
    "            S[i+j] = S2[j] # copy jth element of S2 as next item of S\n",
    "            j += 1"
   ]
  },
  {
   "cell_type": "code",
   "execution_count": 3,
   "metadata": {
    "slideshow": {
     "slide_type": "fragment"
    }
   },
   "outputs": [],
   "source": [
    "def merge_sort(S):\n",
    "    \"\"\"Sort the elements of Python list S using the merge-sort algorithm.\"\"\"\n",
    "    n = len(S)\n",
    "    if n < 2:\n",
    "        return # list is already sorted\n",
    "    # divide\n",
    "    mid = n // 2\n",
    "    S1 = S[0:mid] # copy of first half\n",
    "    S2 = S[mid:n] # copy of second half\n",
    "    # conquer (with recursion)\n",
    "    merge_sort(S1) # sort copy of first half\n",
    "    merge_sort(S2) # sort copy of second half\n",
    "    # merge results\n",
    "    merge(S1, S2, S) # merge sorted halves back into S"
   ]
  },
  {
   "cell_type": "markdown",
   "metadata": {
    "slideshow": {
     "slide_type": "slide"
    }
   },
   "source": [
    "## 3. The Running Time of Merge-Sort"
   ]
  },
  {
   "cell_type": "markdown",
   "metadata": {
    "slideshow": {
     "slide_type": "-"
    }
   },
   "source": [
    "<center>\n",
    "<img src=\"img/Qimage-16-lecture6.JPG\" width=\"950\"/>"
   ]
  },
  {
   "cell_type": "code",
   "execution_count": null,
   "metadata": {},
   "outputs": [],
   "source": [
    "def merge(S1, S2, S):\n",
    "    \"\"\"Merge two sorted queue instances S1 and S2 into empty queue S.\"\"\"\n",
    "    while not S1.is_empty( ) and not S2.is_empty( ):\n",
    "        if S1.first( ) < S2.first( ):\n",
    "            S.enqueue(S1.dequeue( ))\n",
    "        else:\n",
    "            S.enqueue(S2.dequeue( ))\n",
    "    while not S1.is_empty( ):       # move remaining elements of S1 to S\n",
    "        S.enqueue(S1.dequeue( ))\n",
    "    while not S2.is_empty( ):       # move remaining elements of S2 to S\n",
    "        S.enqueue(S2.dequeue( ))\n",
    "\n",
    "def merge_sort(S):\n",
    "    \"\"\"Sort the elements of queue S using the merge-sort algorithm.\"\"\"\n",
    "    n = len(S)\n",
    "    if n < 2:\n",
    "        return               # list is already sorted\n",
    "    # divide\n",
    "    S1 = LinkedQueue( )      # or any other queue implementation\n",
    "    S2 = LinkedQueue( )\n",
    "    while len(S1) < n // 2:  # move the first n//2 elements to S1\n",
    "        S1.enqueue(S.dequeue( ))\n",
    "    while not S.is_empty( ): # move the rest to S2\n",
    "        S2.enqueue(S.dequeue( ))\n",
    "    # conquer (with recursion)\n",
    "    merge_sort(S1)            # sort first half\n",
    "    merge_sort(S2)            # sort second half\n",
    "    # merge results\n",
    "    merge(S1, S2, S)         # merge sorted halves back into S"
   ]
  },
  {
   "cell_type": "markdown",
   "metadata": {
    "slideshow": {
     "slide_type": "slide"
    }
   },
   "source": [
    "<center>\n",
    "    \n",
    "# 1. Divide-and-Conquer for Quick-Sort"
   ]
  },
  {
   "cell_type": "markdown",
   "metadata": {
    "slideshow": {
     "slide_type": "-"
    }
   },
   "source": [
    "Like merge-sort, this algorithm is also based on the **divide-and-conquer** paradigm, but it uses this technique in a somewhat opposite manner, as all the hard work is done **before** the recursive calls."
   ]
  },
  {
   "cell_type": "markdown",
   "metadata": {
    "slideshow": {
     "slide_type": "fragment"
    }
   },
   "source": [
    "The quick-sort algorithm sorts a sequence S using a simple recursive approach. The main idea is to apply the divide-and-conquer technique:\n",
    "\n",
    "1. we divide *S* into subsequences\n",
    "2. recur to sort each subsequence, and\n",
    "3. then combine the sorted subsequences by a simple concatenation"
   ]
  },
  {
   "cell_type": "markdown",
   "metadata": {
    "slideshow": {
     "slide_type": "slide"
    }
   },
   "source": [
    "The quick-sort algorithm consists of the following three steps:\n",
    "1. **Divide**: If *S* has at least two elements (nothing needs to be done if *S* has zero or one element), select a specific element x from *S*, which is called the **pivot**. As is common practice, choose the pivot x to be the last element in *S*. Remove all the elements from *S* and put them into three sequences:\n",
    "    * *L*, storing the elements in *S* less than *x*\n",
    "    * *E*, storing the elements in *S* equal to *x*\n",
    "    * *G*, storing the elements in *S* greater than *x*\n",
    "2. **Conquer**: Recursively sort sequences *L* and *G*.\n",
    "3. **Combine**: Put back the elements into *S* in order by first inserting the elements of *L*, then those of *E*, and finally those of *G*."
   ]
  },
  {
   "cell_type": "markdown",
   "metadata": {
    "slideshow": {
     "slide_type": "fragment"
    }
   },
   "source": [
    "<center>\n",
    "<img src=\"img/Qimage-1.JPG\" width=\"700\"/>"
   ]
  },
  {
   "cell_type": "markdown",
   "metadata": {
    "slideshow": {
     "slide_type": "slide"
    }
   },
   "source": [
    "Like merge-sort, the execution of quick-sort can be visualized by means of a binary recursion tree, called the **quick-sort tree**.\n",
    "\n",
    "* The pivot used at each level of the recursion is shown in bold."
   ]
  },
  {
   "cell_type": "markdown",
   "metadata": {
    "slideshow": {
     "slide_type": "-"
    }
   },
   "source": [
    "<center>\n",
    "<table><tr>\n",
    " \n",
    "<td>\n",
    "    Input sequences processed at each node of T.\n",
    "    <img src=\"img/Qimage-2.JPG\" width=\"800\"/></td>\n",
    "\n",
    "<td>\n",
    "    Output sequences generated at each node of T.\n",
    "    <img src=\"img/Qimage-3.JPG\" width=\"800\"/>\n",
    "    </td>\n",
    "</tr></table>"
   ]
  },
  {
   "cell_type": "markdown",
   "metadata": {
    "slideshow": {
     "slide_type": "slide"
    }
   },
   "source": [
    "<center>\n",
    "<img src=\"img/Qimage-4.JPG\" width=\"850\"/>"
   ]
  },
  {
   "cell_type": "markdown",
   "metadata": {
    "slideshow": {
     "slide_type": "-"
    }
   },
   "source": [
    "<center>\n",
    "<img src=\"img/Qimage-5.JPG\" width=\"850\"/>"
   ]
  },
  {
   "cell_type": "markdown",
   "metadata": {
    "slideshow": {
     "slide_type": "-"
    }
   },
   "source": [
    "<center>\n",
    "<img src=\"img/Qimage-6.JPG\" width=\"850\"/>"
   ]
  },
  {
   "cell_type": "markdown",
   "metadata": {
    "slideshow": {
     "slide_type": "slide"
    }
   },
   "source": [
    "<center>\n",
    "<img src=\"img/Qimage-7.JPG\" width=\"850\"/>"
   ]
  },
  {
   "cell_type": "markdown",
   "metadata": {
    "slideshow": {
     "slide_type": "-"
    }
   },
   "source": [
    "<center>\n",
    "<img src=\"img/Qimage-8.JPG\" width=\"850\"/>"
   ]
  },
  {
   "cell_type": "markdown",
   "metadata": {
    "slideshow": {
     "slide_type": "-"
    }
   },
   "source": [
    "<center>\n",
    "<img src=\"img/Qimage-9.JPG\" width=\"850\"/>"
   ]
  },
  {
   "cell_type": "markdown",
   "metadata": {
    "slideshow": {
     "slide_type": "slide"
    }
   },
   "source": [
    "<center>\n",
    "<img src=\"img/Qimage-10.JPG\" width=\"850\"/>"
   ]
  },
  {
   "cell_type": "markdown",
   "metadata": {
    "slideshow": {
     "slide_type": "-"
    }
   },
   "source": [
    "<center>\n",
    "<img src=\"img/Qimage-11.JPG\" width=\"850\"/>"
   ]
  },
  {
   "cell_type": "markdown",
   "metadata": {
    "slideshow": {
     "slide_type": "-"
    }
   },
   "source": [
    "<center>\n",
    "<img src=\"img/Qimage-12.JPG\" width=\"850\"/>"
   ]
  },
  {
   "cell_type": "markdown",
   "metadata": {
    "slideshow": {
     "slide_type": "slide"
    }
   },
   "source": [
    "* Unlike merge-sort, however, the height of the quick-sort tree associated with an execution of quick-sort is linear in the worst case.\n",
    "\n",
    "* This happens, for example, if the sequence consists of *n* distinct elements and is already sorted.\n",
    "\n"
   ]
  },
  {
   "cell_type": "markdown",
   "metadata": {
    "slideshow": {
     "slide_type": "-"
    }
   },
   "source": [
    "## Quiz - Discussion\n",
    "Please discuss and explain why the statements above are correct."
   ]
  },
  {
   "cell_type": "markdown",
   "metadata": {
    "slideshow": {
     "slide_type": "slide"
    }
   },
   "source": [
    "<center>\n",
    "    \n",
    "# 2. Performing Quick-Sort on General Sequences"
   ]
  },
  {
   "cell_type": "markdown",
   "metadata": {
    "slideshow": {
     "slide_type": "slide"
    }
   },
   "source": [
    "Quick-sort for a sequence *S* implemented as a queue."
   ]
  },
  {
   "cell_type": "code",
   "execution_count": 1,
   "metadata": {
    "slideshow": {
     "slide_type": "-"
    }
   },
   "outputs": [
    {
     "ename": "SyntaxError",
     "evalue": "expected '(' (660526101.py, line 1)",
     "output_type": "error",
     "traceback": [
      "\u001b[1;36m  Cell \u001b[1;32mIn[1], line 1\u001b[1;36m\u001b[0m\n\u001b[1;33m    def quick sort(S):\u001b[0m\n\u001b[1;37m              ^\u001b[0m\n\u001b[1;31mSyntaxError\u001b[0m\u001b[1;31m:\u001b[0m expected '('\n"
     ]
    }
   ],
   "source": [
    "def quick sort(S):\n",
    "    \"\"\"Sort the elements of queue S using the quick-sort algorithm.\"\"\"\n",
    "    n = len(S)\n",
    "    if n < 2:\n",
    "        return                        # list is already sorted\n",
    "    # divide\n",
    "    p = S.first( )                    # using first as arbitrary pivot\n",
    "    L = LinkedQueue( )\n",
    "    E = LinkedQueue( )\n",
    "    G = LinkedQueue( )\n",
    "    while not S.is empty( ):          # divide S into L, E, and G\n",
    "        if S.first( ) < p:\n",
    "            L.enqueue(S.dequeue( ))\n",
    "        elif p < S.first( ):\n",
    "            G.enqueue(S.dequeue( ))\n",
    "        else:                         # S.first() must equal pivot\n",
    "            E.enqueue(S.dequeue( ))\n",
    "    # conquer (with recursion)\n",
    "    quick sort(L)                    # sort elements less than p\n",
    "    quick sort(G)                    # sort elements greater than p\n",
    "    # concatenate results\n",
    "    while not L.is empty( ):\n",
    "        S.enqueue(L.dequeue( ))\n",
    "    while not E.is empty( ):\n",
    "        S.enqueue(E.dequeue( ))\n",
    "    while not G.is empty( ):\n",
    "        S.enqueue(G.dequeue( ))"
   ]
  },
  {
   "cell_type": "code",
   "execution_count": null,
   "metadata": {
    "slideshow": {
     "slide_type": "skip"
    }
   },
   "outputs": [],
   "source": [
    "class LinkedQueue:\n",
    "    \"\"\"FIFO queue implementation using a singly linked list for storage.\"\"\"\n",
    "\n",
    "    class _Node:\n",
    "        \"\"\"Lightweight, nonpublic class for storing a singly linked node.\"\"\"\n",
    "        (omitted here; identical to that of LinkedStack._Node)\n",
    "\n",
    "    def __init__(self):\n",
    "        \"\"\"Create an empty queue.\"\"\"\n",
    "        self._head = None\n",
    "        self._tail = None\n",
    "        self._size = 0                     # number of queue elements\n",
    "\n",
    "    def __len__(self):\n",
    "        \"\"\"Return the number of elements in the queue.\"\"\"\n",
    "        return self._size\n",
    "\n",
    "    def is_empty(self):\n",
    "        \"\"\"Return True if the queue is empty.\"\"\"\n",
    "        return self._size == 0\n",
    "\n",
    "    def first(self):\n",
    "        \"\"\"Return (but do not remove) the element at the front of the queue.\"\"\"\n",
    "    if self.is_empty():\n",
    "        raise Empty(\"Queue is empty\")\n",
    "    return self._head._element # front aligned with head of list"
   ]
  },
  {
   "cell_type": "markdown",
   "metadata": {
    "slideshow": {
     "slide_type": "slide"
    }
   },
   "source": [
    "<center>\n",
    "    \n",
    "# 3. Running Time of Quick-Sort"
   ]
  },
  {
   "cell_type": "markdown",
   "metadata": {
    "slideshow": {
     "slide_type": "-"
    }
   },
   "source": [
    "Similar to merge-sort algorithm, we can identify the time spent at each node of the quick-sort tree *T* and sum up the running times for all the nodes."
   ]
  },
  {
   "cell_type": "markdown",
   "metadata": {
    "slideshow": {
     "slide_type": "fragment"
    }
   },
   "source": [
    "### Please discuss what is the worst case time complexity of quick-sort?"
   ]
  },
  {
   "cell_type": "markdown",
   "metadata": {
    "slideshow": {
     "slide_type": "slide"
    }
   },
   "source": [
    "## Quiz\n",
    "\n",
    "Given its name, we would expect quick-sort to run quickly, and it often does in practice.\n",
    "\n",
    "* **Please discuss what would be running time of quick-sort in the best case? And why?**  "
   ]
  },
  {
   "cell_type": "markdown",
   "metadata": {
    "slideshow": {
     "slide_type": "fragment"
    }
   },
   "source": [
    "### Justification of the running time of quick-sort in the best case!"
   ]
  },
  {
   "cell_type": "markdown",
   "metadata": {
    "slideshow": {
     "slide_type": "slide"
    }
   },
   "source": [
    "<center>\n",
    "    \n",
    "# 4. Exercices"
   ]
  },
  {
   "cell_type": "markdown",
   "metadata": {
    "slideshow": {
     "slide_type": "-"
    }
   },
   "source": [
    "Please justify the running time of quick-sort in the best case."
   ]
  },
  {
   "cell_type": "markdown",
   "metadata": {
    "slideshow": {
     "slide_type": "slide"
    }
   },
   "source": [
    "# Thank you!"
   ]
  }
 ],
 "metadata": {
  "celltoolbar": "Slideshow",
  "kernelspec": {
   "display_name": "Python 3",
   "language": "python",
   "name": "python3"
  },
  "language_info": {
   "codemirror_mode": {
    "name": "ipython",
    "version": 3
   },
   "file_extension": ".py",
   "mimetype": "text/x-python",
   "name": "python",
   "nbconvert_exporter": "python",
   "pygments_lexer": "ipython3",
   "version": "3.12.3"
  }
 },
 "nbformat": 4,
 "nbformat_minor": 4
}
