{
 "cells": [
  {
   "cell_type": "markdown",
   "metadata": {
    "slideshow": {
     "slide_type": "slide"
    }
   },
   "source": [
    "<center><img src=\"img/dsa-logo.JPG\" width=\"400\"/>\n",
    "\n",
    "***\n",
    "\n",
    "<center>Lecture 5</center>\n",
    "\n",
    "***\n",
    "\n",
    "<center>Stacks, Queues, and Deques</center>  \n",
    "\n",
    "***\n",
    "\n",
    "<center>3 October 2022<center>\n",
    "<center>Rahman Peimankar<center>"
   ]
  },
  {
   "cell_type": "markdown",
   "metadata": {
    "slideshow": {
     "slide_type": "slide"
    }
   },
   "source": [
    "# Agenda"
   ]
  },
  {
   "cell_type": "markdown",
   "metadata": {
    "slideshow": {
     "slide_type": "-"
    }
   },
   "source": [
    "1. Stacks\n",
    "2. Queues\n",
    "3. Double-Ended Queues\n",
    "4. Exercices"
   ]
  },
  {
   "cell_type": "markdown",
   "metadata": {
    "slideshow": {
     "slide_type": "slide"
    }
   },
   "source": [
    "# Recap of Last Week"
   ]
  },
  {
   "cell_type": "markdown",
   "metadata": {
    "slideshow": {
     "slide_type": "-"
    }
   },
   "source": [
    "## 1. Low-Level Arrays"
   ]
  },
  {
   "cell_type": "markdown",
   "metadata": {
    "slideshow": {
     "slide_type": "-"
    }
   },
   "source": [
    "<center>\n",
    "<img src=\"img/Qimage-2-lecture4.JPG\" width=\"1000\"/>"
   ]
  },
  {
   "cell_type": "markdown",
   "metadata": {
    "slideshow": {
     "slide_type": "slide"
    }
   },
   "source": [
    "``temp = primes[3:6]``\n",
    "\n",
    "<center>\n",
    "<img src=\"img/Qimage-6-lecture4.JPG\" width=\"600\"/>"
   ]
  },
  {
   "cell_type": "markdown",
   "metadata": {
    "slideshow": {
     "slide_type": "fragment"
    }
   },
   "source": [
    "``temp[2] = 15``\n",
    "\n",
    "<center>\n",
    "<img src=\"img/Qimage-7-lecture4.JPG\" width=\"600\"/>"
   ]
  },
  {
   "cell_type": "markdown",
   "metadata": {
    "slideshow": {
     "slide_type": "slide"
    }
   },
   "source": [
    "## 2. Dynamic Arrays"
   ]
  },
  {
   "cell_type": "markdown",
   "metadata": {
    "slideshow": {
     "slide_type": "-"
    }
   },
   "source": [
    "Although a list has a particular length when constructed, the class allows us to add elements to the list, with no apparent limit on the overall capacity of the list.\n",
    "\n",
    "* To provide this abstraction, Python relies on **_dynamic array_**"
   ]
  },
  {
   "cell_type": "code",
   "execution_count": 7,
   "metadata": {
    "slideshow": {
     "slide_type": "fragment"
    }
   },
   "outputs": [
    {
     "name": "stdout",
     "output_type": "stream",
     "text": [
      "Length:   0; Size in bytes:   56\n",
      "Length:   1; Size in bytes:   88\n",
      "Length:   2; Size in bytes:   88\n",
      "Length:   3; Size in bytes:   88\n",
      "Length:   4; Size in bytes:   88\n",
      "Length:   5; Size in bytes:  120\n",
      "Length:   6; Size in bytes:  120\n",
      "Length:   7; Size in bytes:  120\n",
      "Length:   8; Size in bytes:  120\n",
      "Length:   9; Size in bytes:  184\n"
     ]
    }
   ],
   "source": [
    "import sys                  # provides getsizeof function\n",
    "data = []\n",
    "for k in range(10):         # NOTE: must fix choice of n\n",
    "    a = len(data)           # number of elements\n",
    "    b = sys.getsizeof(data) # actual size in bytes\n",
    "    print('Length: {0:3d}; Size in bytes: {1:4d}'.format(a, b))\n",
    "    data.append(None)       # increase length by one"
   ]
  },
  {
   "cell_type": "markdown",
   "metadata": {
    "slideshow": {
     "slide_type": "slide"
    }
   },
   "source": [
    "<center>\n",
    "<img src=\"img/Qimage-10-lecture4.JPG\" width=\"1300\"/>"
   ]
  },
  {
   "cell_type": "markdown",
   "metadata": {
    "slideshow": {
     "slide_type": "slide"
    }
   },
   "source": [
    "## 3. Efficiency of Python’s Sequence Types"
   ]
  },
  {
   "cell_type": "markdown",
   "metadata": {
    "slideshow": {
     "slide_type": "-"
    }
   },
   "source": [
    "<center>\n",
    "<img src=\"img/Qimage-11-lecture4.JPG\" width=\"500\"/>"
   ]
  },
  {
   "cell_type": "markdown",
   "metadata": {
    "slideshow": {
     "slide_type": "fragment"
    }
   },
   "source": [
    "<center>\n",
    "<img src=\"img/Qimage-12-lecture4.JPG\" width=\"500\"/>"
   ]
  },
  {
   "cell_type": "markdown",
   "metadata": {
    "slideshow": {
     "slide_type": "slide"
    }
   },
   "source": [
    "Adding Elements to a List\n",
    "\n",
    "<center>\n",
    "<img src=\"img/Qimage-13-lecture4.JPG\" width=\"700\"/>"
   ]
  },
  {
   "cell_type": "markdown",
   "metadata": {
    "slideshow": {
     "slide_type": "fragment"
    }
   },
   "source": [
    "Removing Elements from a List\n",
    "\n",
    "<center>\n",
    "<img src=\"img/Qimage-15-lecture4.JPG\" width=\"700\"/>"
   ]
  },
  {
   "cell_type": "markdown",
   "metadata": {
    "slideshow": {
     "slide_type": "slide"
    }
   },
   "source": [
    "## 4. Array-Based Sequences"
   ]
  },
  {
   "cell_type": "markdown",
   "metadata": {
    "slideshow": {
     "slide_type": "-"
    }
   },
   "source": [
    "#### The Insertion-Sort Algorithm\n",
    "<center>\n",
    "<img src=\"img/Qimage-17-lecture4.JPG\" width=\"700\"/>"
   ]
  },
  {
   "cell_type": "markdown",
   "metadata": {
    "slideshow": {
     "slide_type": "fragment"
    }
   },
   "source": [
    "<center>\n",
    "<img src=\"img/Qimage-18-lecture4.JPG\" width=\"700\"/>"
   ]
  },
  {
   "cell_type": "markdown",
   "metadata": {
    "slideshow": {
     "slide_type": "slide"
    }
   },
   "source": [
    "<center>\n",
    "    \n",
    "# 1. Stacks"
   ]
  },
  {
   "cell_type": "markdown",
   "metadata": {
    "slideshow": {
     "slide_type": "-"
    }
   },
   "source": [
    "* A stack is a collection of objects that are inserted and removed according to the **_last-in, first-out (LIFO)_** principle."
   ]
  },
  {
   "cell_type": "markdown",
   "metadata": {
    "slideshow": {
     "slide_type": "fragment"
    }
   },
   "source": [
    "   1. Internet Web browsers store the addresses of recently visited sites in a stack. Each time a user visits a new site, that site’s address is ``pushed`` onto the stack of addresses. The browser then allows the user to ``pop`` back to previously visited sites using the ``back`` button.\n",
    "   \n",
    "   2. Text editors usually provide an ``undo`` mechanism that cancels recent editing operations and reverts to former states of a document. This undo operation can be accomplished by keeping text changes in a stack."
   ]
  },
  {
   "cell_type": "markdown",
   "metadata": {
    "slideshow": {
     "slide_type": "fragment"
    }
   },
   "source": [
    "<center>\n",
    "<img src=\"img/Qimage-1.JPG\" width=\"200\"/>"
   ]
  },
  {
   "cell_type": "markdown",
   "metadata": {
    "slideshow": {
     "slide_type": "slide"
    }
   },
   "source": [
    "### The Stack Abstract Data Type"
   ]
  },
  {
   "cell_type": "markdown",
   "metadata": {
    "slideshow": {
     "slide_type": "-"
    }
   },
   "source": [
    "* Stacks are the simplest of all data structures\n",
    "\n",
    "A stack is an abstract data type (ADT) such that an instance *S* supports the following methods:"
   ]
  },
  {
   "cell_type": "markdown",
   "metadata": {
    "slideshow": {
     "slide_type": "-"
    }
   },
   "source": [
    "<center>\n",
    "<img src=\"img/Qimage-2.JPG\" width=\"900\"/>\n",
    "    \n",
    "<center>\n",
    "<img src=\"img/Qimage-3.JPG\" width=\"900\"/>"
   ]
  },
  {
   "cell_type": "markdown",
   "metadata": {
    "slideshow": {
     "slide_type": "slide"
    }
   },
   "source": [
    "* By convention, we assume that a newly created stack is empty, and that there is no a priori bound on the capacity of the stack.\n",
    "* Elements added to the stack can have arbitrary type."
   ]
  },
  {
   "cell_type": "markdown",
   "metadata": {
    "slideshow": {
     "slide_type": "-"
    }
   },
   "source": [
    "<center>\n",
    "<img src=\"img/Qimage-4.JPG\" width=\"700\"/>"
   ]
  },
  {
   "cell_type": "markdown",
   "metadata": {
    "slideshow": {
     "slide_type": "slide"
    }
   },
   "source": [
    "### Simple Array-Based Stack Implementation"
   ]
  },
  {
   "cell_type": "markdown",
   "metadata": {
    "slideshow": {
     "slide_type": "-"
    }
   },
   "source": [
    "* We can implement a stack quite easily by storing its elements in a Python list.\n",
    "\n",
    "<center>\n",
    "<img src=\"img/Qimage-5.JPG\" width=\"700\"/>"
   ]
  },
  {
   "cell_type": "markdown",
   "metadata": {
    "slideshow": {
     "slide_type": "-"
    }
   },
   "source": [
    "We demonstrate how to use a ``list`` for internal storage while providing a public interface consistent with a stack."
   ]
  },
  {
   "cell_type": "markdown",
   "metadata": {
    "slideshow": {
     "slide_type": "slide"
    }
   },
   "source": [
    "### The Adapter Pattern"
   ]
  },
  {
   "cell_type": "markdown",
   "metadata": {
    "slideshow": {
     "slide_type": "-"
    }
   },
   "source": [
    "One general way to apply the adapter pattern is to define a new class in such a way that it contains an instance of the existing class as a hidden field, and then to implement each method of the new class using methods of this hidden instance variable.\n",
    "\n",
    "<center>\n",
    "<img src=\"img/Qimage-6.JPG\" width=\"700\"/>"
   ]
  },
  {
   "cell_type": "markdown",
   "metadata": {
    "slideshow": {
     "slide_type": "slide"
    }
   },
   "source": [
    "**Quiz 1**\n",
    "\n",
    "Consider the following operation performed on a stack of size 5. \n",
    "\n",
    "Push(1); \n",
    "Pop();\n",
    "Push(2);\n",
    "Push(3);\n",
    "Pop();\n",
    "Push(4);\n",
    "Pop();\n",
    "Pop();\n",
    "Push(5);\n",
    "\n",
    "After the completion of all operation, the number of elements present on stack are:\n",
    "\n",
    "1) 1\n",
    "\n",
    "2) 2\n",
    "\n",
    "3) 3\n",
    "\n",
    "4) 4\n",
    "\n",
    "Please answer here: https://PollEv.com/multiple_choice_polls/4y7GGh8id0PWEgrm2Q13X/respond"
   ]
  },
  {
   "cell_type": "markdown",
   "metadata": {
    "slideshow": {
     "slide_type": "slide"
    }
   },
   "source": [
    "### Implementing a Stack Using a Python List"
   ]
  },
  {
   "cell_type": "markdown",
   "metadata": {
    "slideshow": {
     "slide_type": "-"
    }
   },
   "source": [
    "We use the *adapter design pattern* to define an **_ArrayStack_** class that uses an underlying Python list for storage."
   ]
  },
  {
   "cell_type": "markdown",
   "metadata": {
    "slideshow": {
     "slide_type": "fragment"
    }
   },
   "source": [
    "One question that remains is what our code should do if a user calls pop or top when the stack is empty.\n",
    "\n",
    "* When ``pop`` is called on an empty Python list, it formally raises an ``IndexError``, as lists are index-based sequences.\n",
    "* That choice does not seem appropriate for a stack, since there is no assumption of indices."
   ]
  },
  {
   "cell_type": "markdown",
   "metadata": {
    "slideshow": {
     "slide_type": "fragment"
    }
   },
   "source": [
    "<center>\n",
    "<img src=\"img/Qimage-7.JPG\" width=\"1100\"/>"
   ]
  },
  {
   "cell_type": "code",
   "execution_count": 15,
   "metadata": {
    "slideshow": {
     "slide_type": "slide"
    }
   },
   "outputs": [],
   "source": [
    "class ArrayStack:\n",
    "    \"\"\"LIFO Stack implementation using a Python list as underlying storage.\"\"\"\n",
    "\n",
    "    def __init__(self):\n",
    "        \"\"\"Create an empty stack.\"\"\"\n",
    "        self._data = [] # nonpublic list instance\n",
    "\n",
    "    def __len__(self):\n",
    "        \"\"\"Return the number of elements in the stack.\"\"\"\n",
    "        return len(self._data)\n",
    "\n",
    "    def is_empty(self):\n",
    "        \"\"\"Return True if the stack is empty.\"\"\"\n",
    "        return len(self._data) == 0\n",
    "\n",
    "    def push(self, e):\n",
    "        \"\"\"Add element e to the top of the stack.\"\"\"\n",
    "        self._data.append(e) # new item stored at end of list\n",
    "\n",
    "    def top(self):\n",
    "        \"\"\"Return (but do not remove) the element at the top of the stack.\n",
    "\n",
    "           Raise Empty exception if the stack is empty.\n",
    "        \"\"\"\n",
    "        if self.is_empty():\n",
    "            raise Empty('Stack is empty')\n",
    "        return self._data[-1] # the last item in the list\n",
    "\n",
    "    def pop(self):\n",
    "        \"\"\"Remove and return the element from the top of the stack (i.e., LIFO).\n",
    "\n",
    "           Raise Empty exception if the stack is empty.\n",
    "        \"\"\"\n",
    "        if self.is_empty():\n",
    "            raise Empty('Stack is empty')\n",
    "        return self._data.pop() # remove last item from list\n",
    "    "
   ]
  },
  {
   "cell_type": "code",
   "execution_count": 16,
   "metadata": {
    "slideshow": {
     "slide_type": "slide"
    }
   },
   "outputs": [
    {
     "name": "stdout",
     "output_type": "stream",
     "text": [
      "2\n",
      "3\n",
      "False\n",
      "5\n",
      "True\n",
      "9\n",
      "3\n",
      "4\n"
     ]
    }
   ],
   "source": [
    "S = ArrayStack( )     # contents: [ ]\n",
    "S.push(5)             # contents: [5]\n",
    "S.push(3)             # contents: [5, 3]\n",
    "print(len(S))         # contents: [5, 3]; outputs 2\n",
    "print(S.pop())       # contents: [5]; outputs 3\n",
    "print(S.is_empty())   # contents: [5]; outputs False\n",
    "print(S.pop())       # contents: [ ]; outputs 5\n",
    "print(S.is_empty())   # contents: [ ]; outputs True\n",
    "S.push(7)             # contents: [7]\n",
    "S.push(9)             # contents: [7, 9]\n",
    "print(S.top())       # contents: [7, 9]; outputs 9\n",
    "S.push(4)             # contents: [7, 9, 4]\n",
    "print(len(S))         # contents: [7, 9, 4]; outputs 3\n",
    "print(S.pop())       # contents: [7, 9]; outputs 4\n",
    "S.push(6)             # contents: [7, 9, 6]"
   ]
  },
  {
   "cell_type": "markdown",
   "metadata": {
    "slideshow": {
     "slide_type": "slide"
    }
   },
   "source": [
    "### Analyzing the Array-Based Stack Implementation"
   ]
  },
  {
   "cell_type": "markdown",
   "metadata": {
    "slideshow": {
     "slide_type": "-"
    }
   },
   "source": [
    "<center>\n",
    "<img src=\"img/Qimage-8.JPG\" width=\"500\"/>"
   ]
  },
  {
   "cell_type": "markdown",
   "metadata": {
    "slideshow": {
     "slide_type": "fragment"
    }
   },
   "source": [
    "**What is the space usage for a stack?**"
   ]
  },
  {
   "cell_type": "markdown",
   "metadata": {
    "slideshow": {
     "slide_type": "slide"
    }
   },
   "source": [
    "<center>\n",
    "    \n",
    "# 2. Queues"
   ]
  },
  {
   "cell_type": "markdown",
   "metadata": {
    "slideshow": {
     "slide_type": "-"
    }
   },
   "source": [
    "* Another fundamental data structure is the queue.\n",
    "* A queue is a collection of objects that are inserted and removed according to the **_first-in, first-out (FIFO)_** principle."
   ]
  },
  {
   "cell_type": "markdown",
   "metadata": {
    "slideshow": {
     "slide_type": "-"
    }
   },
   "source": [
    "<center>\n",
    "<img src=\"img/Qimage-9.JPG\" width=\"500\"/>\n",
    "    \n",
    "(a) People waiting in line to purchase tickets.\n",
    "\n",
    "(b) phone calls being routed to a customer service center."
   ]
  },
  {
   "cell_type": "markdown",
   "metadata": {
    "slideshow": {
     "slide_type": "slide"
    }
   },
   "source": [
    "### The Queue Abstract Data Type"
   ]
  },
  {
   "cell_type": "markdown",
   "metadata": {
    "slideshow": {
     "slide_type": "-"
    }
   },
   "source": [
    "* The queue abstract data type defines a collection that keeps objects in a sequence:\n",
    "    1. Where element access and deletion are restricted to the first element in the queue,\n",
    "    2. and element insertion is restricted to the back of the sequence."
   ]
  },
  {
   "cell_type": "markdown",
   "metadata": {
    "slideshow": {
     "slide_type": "-"
    }
   },
   "source": [
    "The queue abstract data type (ADT) supports the following fundamental methods for a queue *Q*:\n",
    "\n",
    "<center>\n",
    "<img src=\"img/Qimage-10.JPG\" width=\"1100\"/>\n",
    "<center>\n",
    "<img src=\"img/Qimage-11.JPG\" width=\"1100\"/>"
   ]
  },
  {
   "cell_type": "markdown",
   "metadata": {
    "slideshow": {
     "slide_type": "slide"
    }
   },
   "source": [
    "* By convention, we assume that a newly created queue is empty, and that there is no a priori bound on the capacity of the queue.\n",
    "* Elements added to the queue can have arbitrary type."
   ]
  },
  {
   "cell_type": "markdown",
   "metadata": {
    "slideshow": {
     "slide_type": "-"
    }
   },
   "source": [
    "<center>\n",
    "<img src=\"img/Qimage-12.JPG\" width=\"800\"/>"
   ]
  },
  {
   "cell_type": "markdown",
   "metadata": {
    "slideshow": {
     "slide_type": "slide"
    }
   },
   "source": [
    "**Quiz 2**\n",
    "\n",
    "If the elements \"A\", \"B\", \"C\" and \"D\" are placed in a queue and are deleted one at a time, in what order will they be removed?\n",
    "\n",
    "a) ABCD\n",
    "\n",
    "b) DCBA\n",
    "\n",
    "c) DCAB\n",
    "\n",
    "d) ABDC\n",
    "\n",
    "Please answer here: https://PollEv.com/multiple_choice_polls/sRWY4numXwE9qhlpx2Iug/respond"
   ]
  },
  {
   "cell_type": "markdown",
   "metadata": {
    "slideshow": {
     "slide_type": "slide"
    }
   },
   "source": [
    "### Array-Based Queue Implementation"
   ]
  },
  {
   "cell_type": "markdown",
   "metadata": {
    "slideshow": {
     "slide_type": "-"
    }
   },
   "source": [
    "<center>\n",
    "<img src=\"img/Qimage-13.JPG\" width=\"800\"/>"
   ]
  },
  {
   "cell_type": "markdown",
   "metadata": {
    "slideshow": {
     "slide_type": "slide"
    }
   },
   "source": [
    "### Using an Array Circularly"
   ]
  },
  {
   "cell_type": "markdown",
   "metadata": {
    "slideshow": {
     "slide_type": "-"
    }
   },
   "source": [
    "In developing a more robust queue implementation, we allow the front of the queue to drift rightward, and we allow the contents of the queue to “wrap around” the end of an underlying array."
   ]
  },
  {
   "cell_type": "markdown",
   "metadata": {
    "slideshow": {
     "slide_type": "-"
    }
   },
   "source": [
    "* Modeling a queue with a circular array that wraps around the end.\n",
    "\n",
    "<center>\n",
    "<img src=\"img/Qimage-14.JPG\" width=\"800\"/>"
   ]
  },
  {
   "cell_type": "markdown",
   "metadata": {
    "slideshow": {
     "slide_type": "slide"
    }
   },
   "source": [
    "### A Python Queue Implementation"
   ]
  },
  {
   "cell_type": "markdown",
   "metadata": {
    "slideshow": {
     "slide_type": "-"
    }
   },
   "source": [
    "Internally, the queue class maintains the following three instance variables:\n",
    "\n",
    "* **_data**: is a reference to a list instance with a fixed capacity.\n",
    "* **_size**: is an integer representing the current number of elements stored in the queue (as opposed to the length of the data list).\n",
    "* **_front**: is an integer that represents the index within data of the first element of the queue (assuming the queue is not empty)."
   ]
  },
  {
   "cell_type": "code",
   "execution_count": 26,
   "metadata": {
    "slideshow": {
     "slide_type": "slide"
    }
   },
   "outputs": [],
   "source": [
    "class ArrayQueue:\n",
    "    \"\"\"FIFO queue implementation using a Python list as underlying storage.\"\"\"\n",
    "    DEFAULT_CAPACITY = 10    # moderate capacity for all new queues\n",
    "\n",
    "    def __init__(self):\n",
    "        \"\"\"Create an empty queue.\"\"\"\n",
    "        self._data = [None] * ArrayQueue.DEFAULT_CAPACITY\n",
    "        self._size = 0\n",
    "        self._front = 0\n",
    "\n",
    "    def __len__(self):\n",
    "        \"\"\"Return the number of elements in the queue.\"\"\"\n",
    "        return self._size\n",
    "\n",
    "    def is_empty(self):\n",
    "        \"\"\"Return True if the queue is empty.\"\"\"\n",
    "        return self._size == 0\n",
    "\n",
    "    def first(self):\n",
    "        \"\"\"Return (but do not remove) the element at the front of the queue.\n",
    "           Raise Empty exception if the queue is empty.\n",
    "        \"\"\"\n",
    "        if self.is_empty():\n",
    "            raise Empty(\"Queue is empty\")\n",
    "        return self._data[self._front]\n",
    "\n",
    "    def dequeue(self):\n",
    "        \"\"\"Remove and return the first element of the queue (i.e., FIFO).\n",
    "           Raise Empty exception if the queue is empty.\n",
    "        \"\"\"\n",
    "        if self.is_empty():\n",
    "            raise Empty(\"Queue is empty\")\n",
    "        answer = self._data[self._front]\n",
    "        self._data[self._front] = None    # help garbage collection\n",
    "        self._front = (self. front + 1) % len(self. data)\n",
    "        self._size -= 1\n",
    "        return answer\n",
    "    "
   ]
  },
  {
   "cell_type": "markdown",
   "metadata": {
    "slideshow": {
     "slide_type": "fragment"
    }
   },
   "source": [
    "* The implementation of ``len`` and ``is_empty`` are trivial, given knowledge of the size. \n",
    "* The implementation of the ``front`` method is also simple, as the front index tells us precisely where the desired element is located within the data list, assuming that list is not empty."
   ]
  },
  {
   "cell_type": "code",
   "execution_count": null,
   "metadata": {
    "slideshow": {
     "slide_type": "slide"
    }
   },
   "outputs": [],
   "source": [
    "    def enqueue(self, e):\n",
    "        \"\"\"Add an element to the back of queue.\"\"\"\n",
    "        if self._size == len(self._data):\n",
    "            self._resize(2 * len(self.data)) # double the array size\n",
    "        avail = (self._front + self._size) % len(self._data)\n",
    "        self._data[avail] = e\n",
    "        self._size += 1\n",
    "\n",
    "    def _resize(self, cap): # we assume cap >= len(self)\n",
    "        \"\"\"Resize to a new list of capacity >= len(self).\"\"\"\n",
    "        old = self._data                 # keep track of existing list\n",
    "        self._data = [None] * cap        # allocate list with new capacity\n",
    "        walk = self._front\n",
    "        for k in range(self._size):      # only consider existing elements\n",
    "            self._data[k] = old[walk]    # intentionally shift indices\n",
    "            walk = (1 + walk) % len(old) # use old size as modulus\n",
    "        self._front = 0                  # front has been realigned"
   ]
  },
  {
   "cell_type": "markdown",
   "metadata": {
    "slideshow": {
     "slide_type": "slide"
    }
   },
   "source": [
    "### Adding and Removing Elements"
   ]
  },
  {
   "cell_type": "markdown",
   "metadata": {
    "slideshow": {
     "slide_type": "-"
    }
   },
   "source": [
    "The goal of the enqueue method is to add a new element to the back of the queue.\n",
    "* We need to determine the proper index at which to place the new element.\n",
    "* Although we do not explicitly maintain an instance variable for the back of the queue, we compute the location of the next opening based on the formula:\n",
    "\n",
    "``avail = (self._front + self._size) % len(self._data)``"
   ]
  },
  {
   "cell_type": "markdown",
   "metadata": {
    "slideshow": {
     "slide_type": "slide"
    }
   },
   "source": [
    "When the dequeue method is called, the current value of self._front designates the index of the value that is to be removed and returned.\n",
    "\n",
    "* We keep a local reference to the element that will be returned, setting ``answer = self._data[self._front]`` just prior to removing the reference to that object from the list:\n",
    "\n",
    "``self._data[self._front] = None``"
   ]
  },
  {
   "cell_type": "markdown",
   "metadata": {
    "slideshow": {
     "slide_type": "fragment"
    }
   },
   "source": [
    "* The second significant responsibility of the dequeue method is to update the value of ``_front`` to reflect the removal of the element:\n",
    "\n",
    "``self._front = (self. front + 1) % len(self. data)``"
   ]
  },
  {
   "cell_type": "markdown",
   "metadata": {
    "slideshow": {
     "slide_type": "slide"
    }
   },
   "source": [
    "### Resizing the Queue"
   ]
  },
  {
   "cell_type": "markdown",
   "metadata": {
    "slideshow": {
     "slide_type": "-"
    }
   },
   "source": [
    "What if the size of the queue equals the size of the underlying list When ``enqueue`` is called?"
   ]
  },
  {
   "cell_type": "markdown",
   "metadata": {
    "slideshow": {
     "slide_type": "fragment"
    }
   },
   "source": [
    "Resizing the queue, while realigning the front element with index 0.\n",
    "\n",
    "<center>\n",
    "<img src=\"img/Qimage-15.JPG\" width=\"800\"/>"
   ]
  },
  {
   "cell_type": "markdown",
   "metadata": {
    "slideshow": {
     "slide_type": "slide"
    }
   },
   "source": [
    "### Analyzing the Array-Based Queue Implementation"
   ]
  },
  {
   "cell_type": "markdown",
   "metadata": {
    "slideshow": {
     "slide_type": "-"
    }
   },
   "source": [
    "<center>\n",
    "<img src=\"img/Qimage-16.JPG\" width=\"650\"/>"
   ]
  },
  {
   "cell_type": "markdown",
   "metadata": {
    "slideshow": {
     "slide_type": "fragment"
    }
   },
   "source": [
    "* The space usage is *O(n)*, where *n* is the current number of elements in the queue."
   ]
  },
  {
   "cell_type": "markdown",
   "metadata": {
    "slideshow": {
     "slide_type": "slide"
    }
   },
   "source": [
    "<center>\n",
    "    \n",
    "# 3. Double-Ended Queues"
   ]
  },
  {
   "cell_type": "markdown",
   "metadata": {
    "slideshow": {
     "slide_type": "-"
    }
   },
   "source": [
    "* **double-ended queue**, or **deque** a queue-like data structure that supports insertion and deletion at both the front and the back of the queue.\n",
    "* The deque abstract data type is more general than both the stack and the queue ADTs."
   ]
  },
  {
   "cell_type": "markdown",
   "metadata": {
    "slideshow": {
     "slide_type": "fragment"
    }
   },
   "source": [
    "Can you give an example for an application of **deque**?"
   ]
  },
  {
   "cell_type": "markdown",
   "metadata": {
    "slideshow": {
     "slide_type": "slide"
    }
   },
   "source": [
    "### The Deque Abstract Data Type"
   ]
  },
  {
   "cell_type": "markdown",
   "metadata": {
    "slideshow": {
     "slide_type": "-"
    }
   },
   "source": [
    "Deque ADT is defined so that deque *D* supports the following methods:\n",
    "\n",
    "\n",
    "* ``D.add_first(e)``: Add element e to the front of deque *D*.\n",
    "* ``D.add_last(e)``: Add element e to the back of deque *D*.\n",
    "* ``D.delete_first()``: Remove and return the first element from deque *D*; an error occurs if the deque is empty.\n",
    "* ``D.delete_last()``: Remove and return the last element from deque *D*; an error occurs if the deque is empty."
   ]
  },
  {
   "cell_type": "markdown",
   "metadata": {
    "slideshow": {
     "slide_type": "fragment"
    }
   },
   "source": [
    "Additionally, the deque ADT will include the following accessors:\n",
    "* ``D.first()``: Return (but do not remove) the first element of deque *D*; an error occurs if the deque is empty.\n",
    "* ``D.last()``: Return (but do not remove) the last element of deque *D*; an error occurs if the deque is empty.\n",
    "* ``D.is_empty()``: Return True if deque *D* does not contain any elements.\n",
    "* ``len(D)``: Return the number of elements in deque *D*; in Python, we implement this with the special method ``__len__``."
   ]
  },
  {
   "cell_type": "markdown",
   "metadata": {
    "slideshow": {
     "slide_type": "slide"
    }
   },
   "source": [
    "The deque *D* of integers is initially empty!\n",
    "\n",
    "<center>\n",
    "<img src=\"img/Qimage-17.JPG\" width=\"650\"/>"
   ]
  },
  {
   "cell_type": "markdown",
   "metadata": {
    "slideshow": {
     "slide_type": "fragment"
    }
   },
   "source": [
    "**We can implement the deque ADT in much the same way as the ``ArrayQueue`` class.**"
   ]
  },
  {
   "cell_type": "markdown",
   "metadata": {
    "slideshow": {
     "slide_type": "slide"
    }
   },
   "source": [
    "<center>\n",
    "    \n",
    "# 4. Exercices"
   ]
  },
  {
   "cell_type": "markdown",
   "metadata": {
    "slideshow": {
     "slide_type": "-"
    }
   },
   "source": [
    "**Ex1.** \n",
    "\n",
    "Implement a function that reverses a list of elements by pushing them onto a stack in one order, and writing them back to the list in reversed order."
   ]
  },
  {
   "cell_type": "markdown",
   "metadata": {
    "slideshow": {
     "slide_type": "-"
    }
   },
   "source": [
    "**Ex2.** \n",
    "\n",
    "Implement a function called ``transfer(S, T)`` that transfers all elements from stack *S* onto stack *T*, so that the element that starts at the top of *S* is the first to be inserted onto *T*, and the element at the bottom of *S* ends up at the top of *T*. \n",
    "\n",
    "Then, use this function along with the ``ArrayStack`` class, which has already been defined in the lecture to test the implementation of your ``transfer(S, T)`` function by printing out *S* and *T* after applying the ``transfer(S, T)`` function."
   ]
  },
  {
   "cell_type": "markdown",
   "metadata": {
    "slideshow": {
     "slide_type": "slide"
    }
   },
   "source": [
    "Thank you!"
   ]
  }
 ],
 "metadata": {
  "celltoolbar": "Slideshow",
  "kernelspec": {
   "display_name": "Python 3 (ipykernel)",
   "language": "python",
   "name": "python3"
  },
  "language_info": {
   "codemirror_mode": {
    "name": "ipython",
    "version": 3
   },
   "file_extension": ".py",
   "mimetype": "text/x-python",
   "name": "python",
   "nbconvert_exporter": "python",
   "pygments_lexer": "ipython3",
   "version": "3.9.7"
  }
 },
 "nbformat": 4,
 "nbformat_minor": 4
}
