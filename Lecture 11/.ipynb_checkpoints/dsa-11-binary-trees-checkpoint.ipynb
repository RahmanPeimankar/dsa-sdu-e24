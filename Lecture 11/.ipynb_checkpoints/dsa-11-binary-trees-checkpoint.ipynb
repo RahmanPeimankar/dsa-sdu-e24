{
 "cells": [
  {
   "cell_type": "markdown",
   "metadata": {
    "slideshow": {
     "slide_type": "slide"
    }
   },
   "source": [
    "<center><img src=\"img/dsa-logo.JPG\" width=\"400\"/>\n",
    "\n",
    "***\n",
    "\n",
    "<center>Lecture 11</center>\n",
    "\n",
    "***\n",
    "\n",
    "<center>Binary Trees</center>  \n",
    "\n",
    "***\n",
    "\n",
    "<center>07 November 2023<center>\n",
    "<center>Rahman Peimankar<center>"
   ]
  },
  {
   "cell_type": "markdown",
   "metadata": {
    "slideshow": {
     "slide_type": "slide"
    }
   },
   "source": [
    "# Agenda"
   ]
  },
  {
   "cell_type": "markdown",
   "metadata": {
    "slideshow": {
     "slide_type": "-"
    }
   },
   "source": [
    "1. Binary Trees\n",
    "2. The Binary Tree Abstract Data Type\n",
    "3. The BinaryTree Abstract Base Class in Python\n",
    "4. Linked Structure for Binary Trees\n",
    "5. Exercices"
   ]
  },
  {
   "cell_type": "markdown",
   "metadata": {
    "slideshow": {
     "slide_type": "slide"
    }
   },
   "source": [
    "# Recap of Last Week"
   ]
  },
  {
   "cell_type": "markdown",
   "metadata": {
    "slideshow": {
     "slide_type": "-"
    }
   },
   "source": [
    "## 1. Sorted Maps"
   ]
  },
  {
   "cell_type": "markdown",
   "metadata": {
    "slideshow": {
     "slide_type": "-"
    }
   },
   "source": [
    "We introduced an extension known as the **sorted map ADT** that includes all behaviors of the **standard map**, plus the following:"
   ]
  },
  {
   "cell_type": "markdown",
   "metadata": {
    "slideshow": {
     "slide_type": "-"
    }
   },
   "source": [
    "<center>\n",
    "<img src=\"img/Qimage-1-lecture10.JPG\" width=\"900\"/>"
   ]
  },
  {
   "cell_type": "markdown",
   "metadata": {
    "slideshow": {
     "slide_type": "slide"
    }
   },
   "source": [
    "<center>\n",
    "<img src=\"img/Qimage-2-lecture10.JPG\" width=\"900\"/>"
   ]
  },
  {
   "cell_type": "markdown",
   "metadata": {
    "slideshow": {
     "slide_type": "slide"
    }
   },
   "source": [
    "## 2. Sorted Search Tables"
   ]
  },
  {
   "cell_type": "markdown",
   "metadata": {
    "slideshow": {
     "slide_type": "-"
    }
   },
   "source": [
    "<center>\n",
    "<img src=\"img/Qimage-3-lecture10.JPG\" width=\"700\"/>\n",
    "    \n",
    "    Realization of a map by means of a sorted search table. We show only the keys for this map, so as to highlight their ordering."
   ]
  },
  {
   "cell_type": "code",
   "execution_count": null,
   "metadata": {
    "slideshow": {
     "slide_type": "slide"
    }
   },
   "outputs": [],
   "source": [
    "class SortedTableMap(MapBase):\n",
    "    \"\"\"Map implementation using a sorted table.\"\"\"\n",
    "\n",
    "    #----------------------------- nonpublic behaviors -----------------------------\n",
    "    def _find_index(self, k, low, high):\n",
    "        \"\"\"Return index of the leftmost item with key greater than or equal to k.\n",
    "        \n",
    "        Return high + 1 if no such item qualifies.\n",
    "        \n",
    "        That is, j will be returned such that:\n",
    "            all items of slice table[low:j] have key < k\n",
    "            all items of slice table[j:high+1] have key >= k\n",
    "        \"\"\"\n",
    "        if high < low:\n",
    "            return high + 1 # no element qualifies\n",
    "        else:\n",
    "            mid = (low + high) // 2\n",
    "            if k == self._table[mid]._key:\n",
    "                return mid # found exact match\n",
    "            elif k < self._table[mid]._key:\n",
    "                return self._find_index(k, low, mid - 1) # Note: may return mid\n",
    "            else:\n",
    "                return self._find_index(k, mid + 1, high) # answer is right of mid"
   ]
  },
  {
   "cell_type": "code",
   "execution_count": null,
   "metadata": {
    "slideshow": {
     "slide_type": "slide"
    }
   },
   "outputs": [],
   "source": [
    "    #----------------------------- public behaviors -----------------------------\n",
    "    def __init__(self):\n",
    "        \"\"\"Create an empty map.\"\"\"\n",
    "        self._table = [ ]\n",
    "\n",
    "    def __len__(self):\n",
    "        \"\"\"Return number of items in the map.\"\"\"\n",
    "        return len(self._table)\n",
    "\n",
    "    def __getitem__(self, k):\n",
    "        \"\"\"Return value associated with key k (raise KeyError if not found).\"\"\"\n",
    "        j = self._find_index(k, 0, len(self._table) - 1)\n",
    "        if j == len(self._table) or self._table[j]._key != k:\n",
    "            raise KeyError('Key Error:' + repr(k))\n",
    "        return self._table[j]._value\n",
    "    "
   ]
  },
  {
   "cell_type": "code",
   "execution_count": null,
   "metadata": {
    "slideshow": {
     "slide_type": "fragment"
    }
   },
   "outputs": [],
   "source": [
    "    def __setitem__(self, k, v):\n",
    "        \"\"\"Assign value v to key k, overwriting existing value if present.\"\"\"\n",
    "        j = self._find_index(k, 0, len(self._table) - 1)\n",
    "        if j < len(self._table) and self._table[j]._key == k:\n",
    "            self._table[j]._value = v # reassign value\n",
    "        else:\n",
    "            self._table.insert(j, self._Item(k,v)) # adds new item\n",
    "    \n",
    "    def __delitem__(self, k):\n",
    "        \"\"\"Remove item associated with key k (raise KeyError if not found).\"\"\"\n",
    "        j = self._find_index(k, 0, len(self._table) - 1)\n",
    "        if j == len(self._table) or self._table[j]._key != k:\n",
    "            raise KeyError('Key Error:' + repr(k))\n",
    "        self._table.pop(j) # delete item\n",
    "\n",
    "    def __iter__(self):\n",
    "        \"\"\"Generate keys of the map ordered from minimum to maximum.\"\"\"\n",
    "        for item in self._table:\n",
    "            yield item._key\n",
    "            "
   ]
  },
  {
   "cell_type": "markdown",
   "metadata": {
    "slideshow": {
     "slide_type": "slide"
    }
   },
   "source": [
    "<center>\n",
    "    \n",
    "# 1. Binary Trees"
   ]
  },
  {
   "cell_type": "markdown",
   "metadata": {
    "slideshow": {
     "slide_type": "-"
    }
   },
   "source": [
    "A binary tree is an ordered tree with the following properties:\n",
    "\n",
    "1. Every node has at most two children.\n",
    "2. Each child node is labeled as being either a left child or a right child.\n",
    "3. A left child precedes a right child in the order of children of a node."
   ]
  },
  {
   "cell_type": "markdown",
   "metadata": {
    "slideshow": {
     "slide_type": "fragment"
    }
   },
   "source": [
    "* The subtree rooted at a left or right child of an internal node $v$ is called a **_left subtree_** or **_right subtree_**, respectively, of $v$.\n",
    "\n",
    "\n",
    "* A binary tree is **_proper or full_** if each node has either zero or two children."
   ]
  },
  {
   "cell_type": "markdown",
   "metadata": {
    "slideshow": {
     "slide_type": "slide"
    }
   },
   "source": [
    "An arithmetic expression can be represented by a binary tree whose leaves are associated with variables or constants, and whose internal nodes are associated with one of the operators $+, −, ×,$ and $/$.\n",
    "\n",
    "\n",
    "<center>\n",
    "<img src=\"img/Qimage-2.JPG\" width=\"600\"/>\n",
    "    "
   ]
  },
  {
   "cell_type": "markdown",
   "metadata": {
    "slideshow": {
     "slide_type": "slide"
    }
   },
   "source": [
    "**Quiz 1**\n",
    "\n",
    "Please write the arithmetic expression that the below binary tree represents.\n",
    "\n",
    "<center>\n",
    "<img src=\"img/Qimage-2.JPG\" width=\"600\"/>\n",
    "\n",
    "Please type your answer here: https://PollEv.com/free_text_polls/0xLnJ5QfdfgRTxbNf0L12/respond"
   ]
  },
  {
   "cell_type": "markdown",
   "metadata": {
    "slideshow": {
     "slide_type": "slide"
    }
   },
   "source": [
    "<center>\n",
    "    \n",
    "# 2. The Binary Tree Abstract Data Type"
   ]
  },
  {
   "cell_type": "markdown",
   "metadata": {
    "slideshow": {
     "slide_type": "-"
    }
   },
   "source": [
    "As an abstract data type, a binary tree is a specialization of a tree that supports three additional accessor methods:\n",
    "\n",
    "<center>\n",
    "<img src=\"img/Qimage-3.JPG\" width=\"1000\"/>"
   ]
  },
  {
   "cell_type": "markdown",
   "metadata": {
    "slideshow": {
     "slide_type": "slide"
    }
   },
   "source": [
    "<center>\n",
    "    \n",
    "# 3. The BinaryTree Abstract Base Class in Python"
   ]
  },
  {
   "cell_type": "code",
   "execution_count": 2,
   "metadata": {
    "slideshow": {
     "slide_type": "skip"
    }
   },
   "outputs": [],
   "source": [
    "class Tree:\n",
    "    \"\"\"Abstract base class representing a tree structure.\"\"\"\n",
    "\n",
    "    #------------------------------- nested Position class -------------------------------\n",
    "    class Position:\n",
    "        \"\"\"An abstraction representing the location of a single element.\"\"\"\n",
    "\n",
    "        def element(self):\n",
    "            \"\"\"Return the element stored at this Position.\"\"\"\n",
    "            raise NotImplementedError('must be implemented by subclass')\n",
    "\n",
    "        def __eq__(self, other):\n",
    "            \"\"\"Return True if other Position represents the same location.\"\"\"\n",
    "            raise NotImplementedError('must be implemented by subclass')\n",
    "\n",
    "        def __ne__(self, other):\n",
    "            \"\"\"Return True if other does not represent the same location.\"\"\"\n",
    "            return not (self == other) # opposite of eq\n",
    "        \n",
    "            # ---------- abstract methods that concrete subclass must support ----------\n",
    "    def root(self):\n",
    "        \"\"\"Return Position representing the tree s root (or None if empty).\"\"\"\n",
    "        raise NotImplementedError('must be implemented by subclass')\n",
    "\n",
    "    def parent(self, p):\n",
    "        \"\"\"Return Position representing p s parent (or None if p is root).\"\"\"\n",
    "        raise NotImplementedError('must be implemented by subclass')\n",
    "\n",
    "    def num_children(self, p):\n",
    "        \"\"\"Return the number of children that Position p has.\"\"\"\n",
    "        raise NotImplementedError('must be implemented by subclass')\n",
    "\n",
    "    def children(self, p):\n",
    "        \"\"\"Generate an iteration of Positions representing p s children.\"\"\"\n",
    "        raise NotImplementedError('must be implemented by subclass')\n",
    "\n",
    "    def __len__(self):\n",
    "        \"\"\"Return the total number of elements in the tree.\"\"\"\n",
    "        raise NotImplementedError('must be implemented by subclass')\n",
    "        \n",
    "        # ---------- concrete methods implemented in this class ----------\n",
    "    def is_root(self, p):\n",
    "        \"\"\"Return True if Position p represents the root of the tree.\"\"\"\n",
    "        return self.root() == p\n",
    "\n",
    "    def is_leaf(self, p):\n",
    "        \"\"\"Return True if Position p does not have any children.\"\"\"\n",
    "        return self.num_children(p) == 0\n",
    "\n",
    "    def is_empty(self):\n",
    "        \"\"\"Return True if the tree is empty.\"\"\"\n",
    "        return len(self) == 0"
   ]
  },
  {
   "cell_type": "code",
   "execution_count": 3,
   "metadata": {
    "slideshow": {
     "slide_type": "-"
    }
   },
   "outputs": [],
   "source": [
    "class BinaryTree(Tree):\n",
    "    \"\"\"Abstract base class representing a binary tree structure.\"\"\"\n",
    "\n",
    "    # --------------------- additional abstract methods ---------------------\n",
    "    def left(self, p):\n",
    "        \"\"\"Return a Position representing p's left child.\n",
    "\n",
    "        Return None if p does not have a left child.\n",
    "        \"\"\"\n",
    "        raise NotImplementedError('must be implemented by subclass')\n",
    "\n",
    "    def right(self, p):\n",
    "        \"\"\"Return a Position representing p's right child.\n",
    "\n",
    "        Return None if p does not have a right child.\n",
    "        \"\"\"\n",
    "        raise NotImplementedError('must be implemented by subclass')"
   ]
  },
  {
   "cell_type": "code",
   "execution_count": 4,
   "metadata": {
    "slideshow": {
     "slide_type": "slide"
    }
   },
   "outputs": [],
   "source": [
    "    # ---------- concrete methods implemented in this class ----------\n",
    "    def sibling(self, p):\n",
    "        \"\"\"Return a Position representing p's sibling (or None if no sibling).\"\"\"\n",
    "        parent = self.parent(p)\n",
    "        if parent is None: # p must be the root\n",
    "            return None # root has no sibling\n",
    "        else:\n",
    "            if p == self.left(parent):\n",
    "                return self.right(parent) # possibly None\n",
    "            else:\n",
    "                return self.left(parent) # possibly None\n",
    "\n",
    "    def children(self, p):\n",
    "        \"\"\"Generate an iteration of Positions representing p's children.\"\"\"\n",
    "        if self.left(p) is not None:\n",
    "            yield self.left(p)\n",
    "        if self.right(p) is not None:\n",
    "            yield self.right(p)\n",
    "            "
   ]
  },
  {
   "cell_type": "markdown",
   "metadata": {
    "slideshow": {
     "slide_type": "slide"
    }
   },
   "source": [
    "<center>\n",
    "    \n",
    "# 4. Linked Structure for Binary Trees"
   ]
  },
  {
   "cell_type": "markdown",
   "metadata": {
    "slideshow": {
     "slide_type": "-"
    }
   },
   "source": [
    "* The Tree and BinaryTree classes that we have defined thus far in this chapter are both formally **_abstract base classes_**.\n",
    "\n",
    "* We have not yet defined key implementation details for how a tree will be represented internally, and how we can effectively navigate between parents and children."
   ]
  },
  {
   "cell_type": "markdown",
   "metadata": {
    "slideshow": {
     "slide_type": "-"
    }
   },
   "source": [
    "<center>\n",
    "<img src=\"img/Qimage-4.JPG\" width=\"700\"/>\n",
    "    A linked structure for representing: (a) a single node; (b) a binary tree. "
   ]
  },
  {
   "cell_type": "markdown",
   "metadata": {
    "slideshow": {
     "slide_type": "slide"
    }
   },
   "source": [
    "* we define a concrete ``LinkedBinaryTree`` class that implements the binary tree ADT by **_subclassing_** the ``BinaryTree`` class.\n",
    "* We define a simple, **_nonpublic_** ``_Node`` class to represent a node, and a **_public_** ``Position`` class that wraps a node."
   ]
  },
  {
   "cell_type": "code",
   "execution_count": 5,
   "metadata": {
    "slideshow": {
     "slide_type": "slide"
    }
   },
   "outputs": [],
   "source": [
    "class LinkedBinaryTree(BinaryTree):\n",
    "    \"\"\"Linked representation of a binary tree structure.\"\"\"\n",
    "\n",
    "    class _Node: # Lightweight, nonpublic class for storing a node.\n",
    "        __slots__ = '_element' , '_parent' , '_left' , '_right'\n",
    "        def __init__(self, element, parent=None, left=None, right=None):\n",
    "            self._element = element\n",
    "            self._parent = parent\n",
    "            self._left = left\n",
    "            self._right = right\n",
    "\n",
    "    class Position(BinaryTree.Position):\n",
    "        \"\"\"An abstraction representing the location of a single element.\"\"\"\n",
    "\n",
    "        def __init__(self, container, node):\n",
    "            \"\"\"Constructor should not be invoked by user.\"\"\"\n",
    "            self._container = container\n",
    "            self._node = node\n",
    "\n",
    "        def element(self):\n",
    "            \"\"\"Return the element stored at this Position.\"\"\"\n",
    "            return self._node._element\n",
    "\n",
    "        def __eq__(self, other):\n",
    "            \"\"\"Return True if other is a Position representing the same location.\"\"\"\n",
    "            return type(other) is type(self) and other._node is self._node"
   ]
  },
  {
   "cell_type": "markdown",
   "metadata": {
    "slideshow": {
     "slide_type": "slide"
    }
   },
   "source": [
    "* We provide a ``_validate`` utility for robustly checking the validity of a given position instance when unwrapping it, and\n",
    "* a ``_make_position`` utility for wrapping a node as a position to return to a caller."
   ]
  },
  {
   "cell_type": "code",
   "execution_count": 6,
   "metadata": {
    "slideshow": {
     "slide_type": "-"
    }
   },
   "outputs": [],
   "source": [
    "    def _validate(self, p):\n",
    "        \"\"\"Return associated node, if position is valid.\"\"\"\n",
    "        if not isinstance(p, self.Position):\n",
    "            raise TypeError('p must be proper Position type')\n",
    "        if p._container is not self:\n",
    "            raise ValueError('p does not belong to this container')\n",
    "        if p._node._parent is p._node: # convention for deprecated nodes\n",
    "            raise ValueError('p is no longer valid')\n",
    "        return p._node\n",
    "\n",
    "    def _make_position(self, node):\n",
    "        \"\"\"Return Position instance for given node (or None if no node).\"\"\"\n",
    "        return self.Position(self, node) if node is not None else None"
   ]
  },
  {
   "cell_type": "code",
   "execution_count": 7,
   "metadata": {
    "slideshow": {
     "slide_type": "slide"
    }
   },
   "outputs": [],
   "source": [
    "    #-------------------------- binary tree constructor --------------------------\n",
    "    def __init__(self):\n",
    "        \"\"\"Create an initially empty binary tree.\"\"\"\n",
    "        self._root = None\n",
    "        self._size = 0\n",
    "        "
   ]
  },
  {
   "cell_type": "code",
   "execution_count": 8,
   "metadata": {
    "slideshow": {
     "slide_type": "-"
    }
   },
   "outputs": [],
   "source": [
    "    #-------------------------- public accessors --------------------------\n",
    "    def __len__(self):\n",
    "        \"\"\"Return the total number of elements in the tree.\"\"\"\n",
    "        return self._size\n",
    "\n",
    "    def root(self):\n",
    "        \"\"\"Return the root Position of the tree (or None if tree is empty).\"\"\"\n",
    "        return self._make_position(self._root)\n",
    "\n",
    "    def parent(self, p):\n",
    "        \"\"\"Return the Position of p s parent (or None if p is root).\"\"\"\n",
    "        node = self._validate(p)\n",
    "        return self._make_position(node._parent)\n",
    "\n",
    "    def left(self, p):\n",
    "        \"\"\"Return the Position of p s left child (or None if no left child).\"\"\"\n",
    "        node = self._validate(p)\n",
    "        return self._make_position(node._left)\n",
    "    \n",
    "    def right(self, p):\n",
    "        \"\"\"Return the Position of p s right child (or None if no right child).\"\"\"\n",
    "        node = self._validate(p)\n",
    "        return self._make_position(node._right)\n",
    "    "
   ]
  },
  {
   "cell_type": "code",
   "execution_count": 9,
   "metadata": {
    "slideshow": {
     "slide_type": "slide"
    }
   },
   "outputs": [],
   "source": [
    "    def add_root(self, e):\n",
    "        \"\"\"Place element e at the root of an empty tree and return new Position.\n",
    "\n",
    "        Raise ValueError if tree nonempty.\n",
    "        \"\"\"\n",
    "        if self._root is not None: raise ValueError('Root exists')\n",
    "        self._size = 1\n",
    "        self._root = self._Node(e)\n",
    "        return self._make_position(self._root)\n",
    "    \n",
    "\n",
    "    def add_left(self, p, e):\n",
    "        \"\"\"Create a new left child for Position p, storing element e.\n",
    "\n",
    "        Return the Position of new node.\n",
    "        Raise ValueError if Position p is invalid or p already has a left child.\n",
    "        \"\"\"\n",
    "        node = self._validate(p)\n",
    "        if node._left is not None: raise ValueError('Left child exists')\n",
    "        self._size += 1\n",
    "        node._left = self._Node(e, node) # node is its parent\n",
    "        return self._make_position(node._left)\n",
    "\n",
    "    def add_right(self, p, e):\n",
    "        \"\"\"Create a new right child for Position p, storing element e.\n",
    "\n",
    "        Return the Position of new node.\n",
    "        Raise ValueError if Position p is invalid or p already has a right child.\n",
    "        \"\"\"\n",
    "        node = self._validate(p)\n",
    "        if node._right is not None: raise ValueError('Right child exists')\n",
    "        self._size += 1\n",
    "        node._right = self._Node(e, node) # node is its parent\n",
    "        return self._make_position(node._right)\n",
    "    def num_children"
   ]
  },
  {
   "cell_type": "markdown",
   "metadata": {
    "slideshow": {
     "slide_type": "slide"
    }
   },
   "source": [
    "<center>\n",
    "    \n",
    "# 5. Exercices"
   ]
  },
  {
   "cell_type": "markdown",
   "metadata": {
    "slideshow": {
     "slide_type": "-"
    }
   },
   "source": [
    "**Ex.1**\n",
    "\n",
    "Draw the binary tree representation of the following arithmetic expression: \n",
    "\n",
    "“(((5+2) ∗ (2−1))/((2+9)+((7−2)−1)) ∗ 8)”"
   ]
  },
  {
   "cell_type": "markdown",
   "metadata": {
    "slideshow": {
     "slide_type": "-"
    }
   },
   "source": [
    "**Ex.2**\n",
    "\n",
    "Give an implementation of the ``num_children`` method within the class ``BinaryTree``.\n"
   ]
  },
  {
   "cell_type": "markdown",
   "metadata": {
    "slideshow": {
     "slide_type": "slide"
    }
   },
   "source": [
    "## Thank you!"
   ]
  }
 ],
 "metadata": {
  "celltoolbar": "Slideshow",
  "kernelspec": {
   "display_name": "Python 3 (ipykernel)",
   "language": "python",
   "name": "python3"
  },
  "language_info": {
   "codemirror_mode": {
    "name": "ipython",
    "version": 3
   },
   "file_extension": ".py",
   "mimetype": "text/x-python",
   "name": "python",
   "nbconvert_exporter": "python",
   "pygments_lexer": "ipython3",
   "version": "3.9.7"
  }
 },
 "nbformat": 4,
 "nbformat_minor": 4
}
